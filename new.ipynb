{
  "nbformat": 4,
  "nbformat_minor": 0,
  "metadata": {
    "colab": {
      "name": "new.ipynb",
      "provenance": [],
      "collapsed_sections": []
    },
    "kernelspec": {
      "name": "python3",
      "display_name": "Python 3"
    },
    "language_info": {
      "name": "python"
    }
  },
  "cells": [
    {
      "cell_type": "code",
      "execution_count": 1,
      "metadata": {
        "colab": {
          "base_uri": "https://localhost:8080/"
        },
        "id": "UhzvvzjsmL6C",
        "outputId": "5b1385b6-fc7d-4431-f44e-a894fece7352"
      },
      "outputs": [
        {
          "output_type": "stream",
          "name": "stdout",
          "text": [
            "Mounted at /drive\n"
          ]
        }
      ],
      "source": [
        "from google.colab import drive\n",
        "drive.mount('/drive')\n"
      ]
    },
    {
      "cell_type": "code",
      "source": [
        "import pandas as pd\n",
        "import numpy as np\n",
        "import matplotlib.pyplot as plt\n",
        "import seaborn as sns\n",
        "%matplotlib inline\n"
      ],
      "metadata": {
        "id": "AoU1rPIXqkfH"
      },
      "execution_count": 86,
      "outputs": []
    },
    {
      "cell_type": "code",
      "source": [
        "path='/drive/My Drive/rats/train_small.csv'"
      ],
      "metadata": {
        "id": "2SLeZ3hTzCEV"
      },
      "execution_count": 3,
      "outputs": []
    },
    {
      "cell_type": "code",
      "source": [
        "df=pd.read_csv(path)\n",
        " \n",
        "# to get the id part of the file"
      ],
      "metadata": {
        "id": "NXNVECBL0gly"
      },
      "execution_count": 4,
      "outputs": []
    },
    {
      "cell_type": "code",
      "source": [
        "df.describe"
      ],
      "metadata": {
        "colab": {
          "base_uri": "https://localhost:8080/"
        },
        "id": "bF3i8H_Q3TnV",
        "outputId": "f0aaceb9-bf12-4897-e6c3-0c33cf533174"
      },
      "execution_count": 5,
      "outputs": [
        {
          "output_type": "execute_result",
          "data": {
            "text/plain": [
              "<bound method NDFrame.describe of        search_id            timestamp  site_id  user_country_id  \\\n",
              "0              4  2012-12-31 08:59:22        5              219   \n",
              "1              4  2012-12-31 08:59:22        5              219   \n",
              "2              4  2012-12-31 08:59:22        5              219   \n",
              "3              4  2012-12-31 08:59:22        5              219   \n",
              "4              4  2012-12-31 08:59:22        5              219   \n",
              "...          ...                  ...      ...              ...   \n",
              "65530      18579  2012-12-10 20:05:23       32              220   \n",
              "65531      18579  2012-12-10 20:05:23       32              220   \n",
              "65532      18579  2012-12-10 20:05:23       32              220   \n",
              "65533      18579  2012-12-10 20:05:23       32              220   \n",
              "65534      18579  2012-12-10 20:05:23       32              220   \n",
              "\n",
              "       user_hist_stars  user_hist_paid  listing_country_id  listing_id  \\\n",
              "0                  NaN             NaN                 219        3625   \n",
              "1                  NaN             NaN                 219       11622   \n",
              "2                  NaN             NaN                 219       11826   \n",
              "3                  NaN             NaN                 219       22824   \n",
              "4                  NaN             NaN                 219       37581   \n",
              "...                ...             ...                 ...         ...   \n",
              "65530              NaN             NaN                 220       24277   \n",
              "65531              NaN             NaN                 220       29677   \n",
              "65532              NaN             NaN                 220       36289   \n",
              "65533              NaN             NaN                 220       50432   \n",
              "65534              NaN             NaN                 220       61639   \n",
              "\n",
              "       listing_stars  listing_review_score  ...  \\\n",
              "0                  4                   4.0  ...   \n",
              "1                  4                   4.0  ...   \n",
              "2                  5                   4.5  ...   \n",
              "3                  3                   4.0  ...   \n",
              "4                  5                   4.5  ...   \n",
              "...              ...                   ...  ...   \n",
              "65530              3                   0.0  ...   \n",
              "65531              4                   2.5  ...   \n",
              "65532              4                   4.0  ...   \n",
              "65533              5                   4.5  ...   \n",
              "65534              4                   3.5  ...   \n",
              "\n",
              "       competitor6_price_percent_diff  competitor7_rate  \\\n",
              "0                                 NaN               NaN   \n",
              "1                                 NaN               NaN   \n",
              "2                                 NaN               NaN   \n",
              "3                                 NaN               NaN   \n",
              "4                                 NaN               NaN   \n",
              "...                               ...               ...   \n",
              "65530                             NaN               NaN   \n",
              "65531                             NaN               NaN   \n",
              "65532                             NaN               NaN   \n",
              "65533                             NaN               NaN   \n",
              "65534                             NaN               NaN   \n",
              "\n",
              "       competitor7_has_availability  competitor7_price_percent_diff  \\\n",
              "0                               NaN                             NaN   \n",
              "1                               NaN                             NaN   \n",
              "2                               NaN                             NaN   \n",
              "3                               NaN                             NaN   \n",
              "4                               NaN                             NaN   \n",
              "...                             ...                             ...   \n",
              "65530                           NaN                             NaN   \n",
              "65531                           NaN                             NaN   \n",
              "65532                           NaN                             NaN   \n",
              "65533                           NaN                             NaN   \n",
              "65534                           NaN                             NaN   \n",
              "\n",
              "       competitor8_rate  competitor8_has_availability  \\\n",
              "0                   NaN                           NaN   \n",
              "1                   NaN                           NaN   \n",
              "2                   NaN                           NaN   \n",
              "3                   NaN                           NaN   \n",
              "4                   NaN                           NaN   \n",
              "...                 ...                           ...   \n",
              "65530               NaN                           NaN   \n",
              "65531               NaN                           NaN   \n",
              "65532               NaN                           NaN   \n",
              "65533               NaN                           NaN   \n",
              "65534               NaN                           NaN   \n",
              "\n",
              "       competitor8_price_percent_diff  clicked  booking_value  booked  \n",
              "0                                 NaN        0            NaN       0  \n",
              "1                                 NaN        0            NaN       0  \n",
              "2                                 NaN        0            NaN       0  \n",
              "3                                 NaN        0            NaN       0  \n",
              "4                                 NaN        0            NaN       0  \n",
              "...                               ...      ...            ...     ...  \n",
              "65530                             NaN        0            NaN       0  \n",
              "65531                             NaN        0            NaN       0  \n",
              "65532                             NaN        0            NaN       0  \n",
              "65533                             NaN        0            NaN       0  \n",
              "65534                             NaN        0            NaN       0  \n",
              "\n",
              "[65535 rows x 54 columns]>"
            ]
          },
          "metadata": {},
          "execution_count": 5
        }
      ]
    },
    {
      "cell_type": "code",
      "source": [
        "df.head(23)"
      ],
      "metadata": {
        "colab": {
          "base_uri": "https://localhost:8080/",
          "height": 1000
        },
        "id": "BKyLlnmG3edT",
        "outputId": "cb2ef7c7-e066-4789-d4b2-efb148770d66"
      },
      "execution_count": 6,
      "outputs": [
        {
          "output_type": "execute_result",
          "data": {
            "text/plain": [
              "    search_id            timestamp  site_id  user_country_id  user_hist_stars  \\\n",
              "0           4  2012-12-31 08:59:22        5              219              NaN   \n",
              "1           4  2012-12-31 08:59:22        5              219              NaN   \n",
              "2           4  2012-12-31 08:59:22        5              219              NaN   \n",
              "3           4  2012-12-31 08:59:22        5              219              NaN   \n",
              "4           4  2012-12-31 08:59:22        5              219              NaN   \n",
              "5           4  2012-12-31 08:59:22        5              219              NaN   \n",
              "6           4  2012-12-31 08:59:22        5              219              NaN   \n",
              "7           4  2012-12-31 08:59:22        5              219              NaN   \n",
              "8           4  2012-12-31 08:59:22        5              219              NaN   \n",
              "9           4  2012-12-31 08:59:22        5              219              NaN   \n",
              "10          4  2012-12-31 08:59:22        5              219              NaN   \n",
              "11          4  2012-12-31 08:59:22        5              219              NaN   \n",
              "12          4  2012-12-31 08:59:22        5              219              NaN   \n",
              "13          4  2012-12-31 08:59:22        5              219              NaN   \n",
              "14          4  2012-12-31 08:59:22        5              219              NaN   \n",
              "15          4  2012-12-31 08:59:22        5              219              NaN   \n",
              "16          4  2012-12-31 08:59:22        5              219              NaN   \n",
              "17          4  2012-12-31 08:59:22        5              219              NaN   \n",
              "18          4  2012-12-31 08:59:22        5              219              NaN   \n",
              "19          4  2012-12-31 08:59:22        5              219              NaN   \n",
              "20          4  2012-12-31 08:59:22        5              219              NaN   \n",
              "21          4  2012-12-31 08:59:22        5              219              NaN   \n",
              "22          4  2012-12-31 08:59:22        5              219              NaN   \n",
              "\n",
              "    user_hist_paid  listing_country_id  listing_id  listing_stars  \\\n",
              "0              NaN                 219        3625              4   \n",
              "1              NaN                 219       11622              4   \n",
              "2              NaN                 219       11826              5   \n",
              "3              NaN                 219       22824              3   \n",
              "4              NaN                 219       37581              5   \n",
              "5              NaN                 219       39993              4   \n",
              "6              NaN                 219       46162              4   \n",
              "7              NaN                 219       49152              4   \n",
              "8              NaN                 219       56063              4   \n",
              "9              NaN                 219       56472              4   \n",
              "10             NaN                 219       58696              0   \n",
              "11             NaN                 219       64344              4   \n",
              "12             NaN                 219       65984              2   \n",
              "13             NaN                 219       71258              1   \n",
              "14             NaN                 219       75491              2   \n",
              "15             NaN                 219       81172              0   \n",
              "16             NaN                 219       83045              3   \n",
              "17             NaN                 219       83430              4   \n",
              "18             NaN                 219       83806              4   \n",
              "19             NaN                 219       85567              2   \n",
              "20             NaN                 219       85742              3   \n",
              "21             NaN                 219       89119              4   \n",
              "22             NaN                 219       97099              4   \n",
              "\n",
              "    listing_review_score  ...  competitor6_price_percent_diff  \\\n",
              "0                    4.0  ...                             NaN   \n",
              "1                    4.0  ...                             NaN   \n",
              "2                    4.5  ...                             NaN   \n",
              "3                    4.0  ...                             NaN   \n",
              "4                    4.5  ...                             NaN   \n",
              "5                    4.0  ...                             NaN   \n",
              "6                    4.5  ...                             NaN   \n",
              "7                    4.5  ...                             NaN   \n",
              "8                    4.5  ...                             NaN   \n",
              "9                    4.5  ...                             NaN   \n",
              "10                   4.5  ...                             NaN   \n",
              "11                   3.0  ...                             NaN   \n",
              "12                   3.5  ...                             NaN   \n",
              "13                   2.0  ...                             NaN   \n",
              "14                   3.5  ...                             NaN   \n",
              "15                   4.0  ...                             NaN   \n",
              "16                   3.5  ...                             NaN   \n",
              "17                   4.5  ...                             NaN   \n",
              "18                   4.0  ...                             NaN   \n",
              "19                   4.0  ...                             NaN   \n",
              "20                   4.0  ...                             NaN   \n",
              "21                   4.5  ...                             NaN   \n",
              "22                   4.0  ...                             NaN   \n",
              "\n",
              "    competitor7_rate  competitor7_has_availability  \\\n",
              "0                NaN                           NaN   \n",
              "1                NaN                           NaN   \n",
              "2                NaN                           NaN   \n",
              "3                NaN                           NaN   \n",
              "4                NaN                           NaN   \n",
              "5                NaN                           NaN   \n",
              "6                NaN                           NaN   \n",
              "7                NaN                           NaN   \n",
              "8                NaN                           NaN   \n",
              "9                NaN                           NaN   \n",
              "10               NaN                           NaN   \n",
              "11               NaN                           NaN   \n",
              "12               NaN                           NaN   \n",
              "13               NaN                           NaN   \n",
              "14               NaN                           NaN   \n",
              "15               NaN                           NaN   \n",
              "16               NaN                           NaN   \n",
              "17               NaN                           NaN   \n",
              "18               NaN                           NaN   \n",
              "19               NaN                           NaN   \n",
              "20               NaN                           NaN   \n",
              "21               NaN                           NaN   \n",
              "22               NaN                           NaN   \n",
              "\n",
              "    competitor7_price_percent_diff  competitor8_rate  \\\n",
              "0                              NaN               NaN   \n",
              "1                              NaN               NaN   \n",
              "2                              NaN               NaN   \n",
              "3                              NaN               NaN   \n",
              "4                              NaN               NaN   \n",
              "5                              NaN               NaN   \n",
              "6                              NaN               NaN   \n",
              "7                              NaN               NaN   \n",
              "8                              NaN               NaN   \n",
              "9                              NaN               NaN   \n",
              "10                             NaN               NaN   \n",
              "11                             NaN               NaN   \n",
              "12                             NaN               NaN   \n",
              "13                             NaN               NaN   \n",
              "14                             NaN               NaN   \n",
              "15                             NaN               NaN   \n",
              "16                             NaN               NaN   \n",
              "17                             NaN               NaN   \n",
              "18                             NaN               NaN   \n",
              "19                             NaN               NaN   \n",
              "20                             NaN               NaN   \n",
              "21                             NaN               NaN   \n",
              "22                             NaN               NaN   \n",
              "\n",
              "    competitor8_has_availability  competitor8_price_percent_diff  clicked  \\\n",
              "0                            NaN                             NaN        0   \n",
              "1                            NaN                             NaN        0   \n",
              "2                            NaN                             NaN        0   \n",
              "3                            NaN                             NaN        0   \n",
              "4                            NaN                             NaN        0   \n",
              "5                            NaN                             NaN        0   \n",
              "6                            NaN                             NaN        0   \n",
              "7                            NaN                             NaN        0   \n",
              "8                            NaN                             NaN        0   \n",
              "9                            NaN                             NaN        0   \n",
              "10                           NaN                             NaN        0   \n",
              "11                           NaN                             NaN        0   \n",
              "12                           NaN                             NaN        0   \n",
              "13                           NaN                             NaN        0   \n",
              "14                           NaN                             NaN        0   \n",
              "15                           NaN                             NaN        0   \n",
              "16                           NaN                             NaN        0   \n",
              "17                           NaN                             NaN        0   \n",
              "18                           NaN                             NaN        0   \n",
              "19                           NaN                             NaN        0   \n",
              "20                           NaN                             NaN        0   \n",
              "21                           NaN                             NaN        0   \n",
              "22                           NaN                             NaN        0   \n",
              "\n",
              "    booking_value  booked  \n",
              "0             NaN       0  \n",
              "1             NaN       0  \n",
              "2             NaN       0  \n",
              "3             NaN       0  \n",
              "4             NaN       0  \n",
              "5             NaN       0  \n",
              "6             NaN       0  \n",
              "7             NaN       0  \n",
              "8             NaN       0  \n",
              "9             NaN       0  \n",
              "10            NaN       0  \n",
              "11            NaN       0  \n",
              "12            NaN       0  \n",
              "13            NaN       0  \n",
              "14            NaN       0  \n",
              "15            NaN       0  \n",
              "16            NaN       0  \n",
              "17            NaN       0  \n",
              "18            NaN       0  \n",
              "19            NaN       0  \n",
              "20            NaN       0  \n",
              "21            NaN       0  \n",
              "22            NaN       0  \n",
              "\n",
              "[23 rows x 54 columns]"
            ],
            "text/html": [
              "\n",
              "  <div id=\"df-17c6617a-ce3f-4448-81ff-6ec1b1940a0a\">\n",
              "    <div class=\"colab-df-container\">\n",
              "      <div>\n",
              "<style scoped>\n",
              "    .dataframe tbody tr th:only-of-type {\n",
              "        vertical-align: middle;\n",
              "    }\n",
              "\n",
              "    .dataframe tbody tr th {\n",
              "        vertical-align: top;\n",
              "    }\n",
              "\n",
              "    .dataframe thead th {\n",
              "        text-align: right;\n",
              "    }\n",
              "</style>\n",
              "<table border=\"1\" class=\"dataframe\">\n",
              "  <thead>\n",
              "    <tr style=\"text-align: right;\">\n",
              "      <th></th>\n",
              "      <th>search_id</th>\n",
              "      <th>timestamp</th>\n",
              "      <th>site_id</th>\n",
              "      <th>user_country_id</th>\n",
              "      <th>user_hist_stars</th>\n",
              "      <th>user_hist_paid</th>\n",
              "      <th>listing_country_id</th>\n",
              "      <th>listing_id</th>\n",
              "      <th>listing_stars</th>\n",
              "      <th>listing_review_score</th>\n",
              "      <th>...</th>\n",
              "      <th>competitor6_price_percent_diff</th>\n",
              "      <th>competitor7_rate</th>\n",
              "      <th>competitor7_has_availability</th>\n",
              "      <th>competitor7_price_percent_diff</th>\n",
              "      <th>competitor8_rate</th>\n",
              "      <th>competitor8_has_availability</th>\n",
              "      <th>competitor8_price_percent_diff</th>\n",
              "      <th>clicked</th>\n",
              "      <th>booking_value</th>\n",
              "      <th>booked</th>\n",
              "    </tr>\n",
              "  </thead>\n",
              "  <tbody>\n",
              "    <tr>\n",
              "      <th>0</th>\n",
              "      <td>4</td>\n",
              "      <td>2012-12-31 08:59:22</td>\n",
              "      <td>5</td>\n",
              "      <td>219</td>\n",
              "      <td>NaN</td>\n",
              "      <td>NaN</td>\n",
              "      <td>219</td>\n",
              "      <td>3625</td>\n",
              "      <td>4</td>\n",
              "      <td>4.0</td>\n",
              "      <td>...</td>\n",
              "      <td>NaN</td>\n",
              "      <td>NaN</td>\n",
              "      <td>NaN</td>\n",
              "      <td>NaN</td>\n",
              "      <td>NaN</td>\n",
              "      <td>NaN</td>\n",
              "      <td>NaN</td>\n",
              "      <td>0</td>\n",
              "      <td>NaN</td>\n",
              "      <td>0</td>\n",
              "    </tr>\n",
              "    <tr>\n",
              "      <th>1</th>\n",
              "      <td>4</td>\n",
              "      <td>2012-12-31 08:59:22</td>\n",
              "      <td>5</td>\n",
              "      <td>219</td>\n",
              "      <td>NaN</td>\n",
              "      <td>NaN</td>\n",
              "      <td>219</td>\n",
              "      <td>11622</td>\n",
              "      <td>4</td>\n",
              "      <td>4.0</td>\n",
              "      <td>...</td>\n",
              "      <td>NaN</td>\n",
              "      <td>NaN</td>\n",
              "      <td>NaN</td>\n",
              "      <td>NaN</td>\n",
              "      <td>NaN</td>\n",
              "      <td>NaN</td>\n",
              "      <td>NaN</td>\n",
              "      <td>0</td>\n",
              "      <td>NaN</td>\n",
              "      <td>0</td>\n",
              "    </tr>\n",
              "    <tr>\n",
              "      <th>2</th>\n",
              "      <td>4</td>\n",
              "      <td>2012-12-31 08:59:22</td>\n",
              "      <td>5</td>\n",
              "      <td>219</td>\n",
              "      <td>NaN</td>\n",
              "      <td>NaN</td>\n",
              "      <td>219</td>\n",
              "      <td>11826</td>\n",
              "      <td>5</td>\n",
              "      <td>4.5</td>\n",
              "      <td>...</td>\n",
              "      <td>NaN</td>\n",
              "      <td>NaN</td>\n",
              "      <td>NaN</td>\n",
              "      <td>NaN</td>\n",
              "      <td>NaN</td>\n",
              "      <td>NaN</td>\n",
              "      <td>NaN</td>\n",
              "      <td>0</td>\n",
              "      <td>NaN</td>\n",
              "      <td>0</td>\n",
              "    </tr>\n",
              "    <tr>\n",
              "      <th>3</th>\n",
              "      <td>4</td>\n",
              "      <td>2012-12-31 08:59:22</td>\n",
              "      <td>5</td>\n",
              "      <td>219</td>\n",
              "      <td>NaN</td>\n",
              "      <td>NaN</td>\n",
              "      <td>219</td>\n",
              "      <td>22824</td>\n",
              "      <td>3</td>\n",
              "      <td>4.0</td>\n",
              "      <td>...</td>\n",
              "      <td>NaN</td>\n",
              "      <td>NaN</td>\n",
              "      <td>NaN</td>\n",
              "      <td>NaN</td>\n",
              "      <td>NaN</td>\n",
              "      <td>NaN</td>\n",
              "      <td>NaN</td>\n",
              "      <td>0</td>\n",
              "      <td>NaN</td>\n",
              "      <td>0</td>\n",
              "    </tr>\n",
              "    <tr>\n",
              "      <th>4</th>\n",
              "      <td>4</td>\n",
              "      <td>2012-12-31 08:59:22</td>\n",
              "      <td>5</td>\n",
              "      <td>219</td>\n",
              "      <td>NaN</td>\n",
              "      <td>NaN</td>\n",
              "      <td>219</td>\n",
              "      <td>37581</td>\n",
              "      <td>5</td>\n",
              "      <td>4.5</td>\n",
              "      <td>...</td>\n",
              "      <td>NaN</td>\n",
              "      <td>NaN</td>\n",
              "      <td>NaN</td>\n",
              "      <td>NaN</td>\n",
              "      <td>NaN</td>\n",
              "      <td>NaN</td>\n",
              "      <td>NaN</td>\n",
              "      <td>0</td>\n",
              "      <td>NaN</td>\n",
              "      <td>0</td>\n",
              "    </tr>\n",
              "    <tr>\n",
              "      <th>5</th>\n",
              "      <td>4</td>\n",
              "      <td>2012-12-31 08:59:22</td>\n",
              "      <td>5</td>\n",
              "      <td>219</td>\n",
              "      <td>NaN</td>\n",
              "      <td>NaN</td>\n",
              "      <td>219</td>\n",
              "      <td>39993</td>\n",
              "      <td>4</td>\n",
              "      <td>4.0</td>\n",
              "      <td>...</td>\n",
              "      <td>NaN</td>\n",
              "      <td>NaN</td>\n",
              "      <td>NaN</td>\n",
              "      <td>NaN</td>\n",
              "      <td>NaN</td>\n",
              "      <td>NaN</td>\n",
              "      <td>NaN</td>\n",
              "      <td>0</td>\n",
              "      <td>NaN</td>\n",
              "      <td>0</td>\n",
              "    </tr>\n",
              "    <tr>\n",
              "      <th>6</th>\n",
              "      <td>4</td>\n",
              "      <td>2012-12-31 08:59:22</td>\n",
              "      <td>5</td>\n",
              "      <td>219</td>\n",
              "      <td>NaN</td>\n",
              "      <td>NaN</td>\n",
              "      <td>219</td>\n",
              "      <td>46162</td>\n",
              "      <td>4</td>\n",
              "      <td>4.5</td>\n",
              "      <td>...</td>\n",
              "      <td>NaN</td>\n",
              "      <td>NaN</td>\n",
              "      <td>NaN</td>\n",
              "      <td>NaN</td>\n",
              "      <td>NaN</td>\n",
              "      <td>NaN</td>\n",
              "      <td>NaN</td>\n",
              "      <td>0</td>\n",
              "      <td>NaN</td>\n",
              "      <td>0</td>\n",
              "    </tr>\n",
              "    <tr>\n",
              "      <th>7</th>\n",
              "      <td>4</td>\n",
              "      <td>2012-12-31 08:59:22</td>\n",
              "      <td>5</td>\n",
              "      <td>219</td>\n",
              "      <td>NaN</td>\n",
              "      <td>NaN</td>\n",
              "      <td>219</td>\n",
              "      <td>49152</td>\n",
              "      <td>4</td>\n",
              "      <td>4.5</td>\n",
              "      <td>...</td>\n",
              "      <td>NaN</td>\n",
              "      <td>NaN</td>\n",
              "      <td>NaN</td>\n",
              "      <td>NaN</td>\n",
              "      <td>NaN</td>\n",
              "      <td>NaN</td>\n",
              "      <td>NaN</td>\n",
              "      <td>0</td>\n",
              "      <td>NaN</td>\n",
              "      <td>0</td>\n",
              "    </tr>\n",
              "    <tr>\n",
              "      <th>8</th>\n",
              "      <td>4</td>\n",
              "      <td>2012-12-31 08:59:22</td>\n",
              "      <td>5</td>\n",
              "      <td>219</td>\n",
              "      <td>NaN</td>\n",
              "      <td>NaN</td>\n",
              "      <td>219</td>\n",
              "      <td>56063</td>\n",
              "      <td>4</td>\n",
              "      <td>4.5</td>\n",
              "      <td>...</td>\n",
              "      <td>NaN</td>\n",
              "      <td>NaN</td>\n",
              "      <td>NaN</td>\n",
              "      <td>NaN</td>\n",
              "      <td>NaN</td>\n",
              "      <td>NaN</td>\n",
              "      <td>NaN</td>\n",
              "      <td>0</td>\n",
              "      <td>NaN</td>\n",
              "      <td>0</td>\n",
              "    </tr>\n",
              "    <tr>\n",
              "      <th>9</th>\n",
              "      <td>4</td>\n",
              "      <td>2012-12-31 08:59:22</td>\n",
              "      <td>5</td>\n",
              "      <td>219</td>\n",
              "      <td>NaN</td>\n",
              "      <td>NaN</td>\n",
              "      <td>219</td>\n",
              "      <td>56472</td>\n",
              "      <td>4</td>\n",
              "      <td>4.5</td>\n",
              "      <td>...</td>\n",
              "      <td>NaN</td>\n",
              "      <td>NaN</td>\n",
              "      <td>NaN</td>\n",
              "      <td>NaN</td>\n",
              "      <td>NaN</td>\n",
              "      <td>NaN</td>\n",
              "      <td>NaN</td>\n",
              "      <td>0</td>\n",
              "      <td>NaN</td>\n",
              "      <td>0</td>\n",
              "    </tr>\n",
              "    <tr>\n",
              "      <th>10</th>\n",
              "      <td>4</td>\n",
              "      <td>2012-12-31 08:59:22</td>\n",
              "      <td>5</td>\n",
              "      <td>219</td>\n",
              "      <td>NaN</td>\n",
              "      <td>NaN</td>\n",
              "      <td>219</td>\n",
              "      <td>58696</td>\n",
              "      <td>0</td>\n",
              "      <td>4.5</td>\n",
              "      <td>...</td>\n",
              "      <td>NaN</td>\n",
              "      <td>NaN</td>\n",
              "      <td>NaN</td>\n",
              "      <td>NaN</td>\n",
              "      <td>NaN</td>\n",
              "      <td>NaN</td>\n",
              "      <td>NaN</td>\n",
              "      <td>0</td>\n",
              "      <td>NaN</td>\n",
              "      <td>0</td>\n",
              "    </tr>\n",
              "    <tr>\n",
              "      <th>11</th>\n",
              "      <td>4</td>\n",
              "      <td>2012-12-31 08:59:22</td>\n",
              "      <td>5</td>\n",
              "      <td>219</td>\n",
              "      <td>NaN</td>\n",
              "      <td>NaN</td>\n",
              "      <td>219</td>\n",
              "      <td>64344</td>\n",
              "      <td>4</td>\n",
              "      <td>3.0</td>\n",
              "      <td>...</td>\n",
              "      <td>NaN</td>\n",
              "      <td>NaN</td>\n",
              "      <td>NaN</td>\n",
              "      <td>NaN</td>\n",
              "      <td>NaN</td>\n",
              "      <td>NaN</td>\n",
              "      <td>NaN</td>\n",
              "      <td>0</td>\n",
              "      <td>NaN</td>\n",
              "      <td>0</td>\n",
              "    </tr>\n",
              "    <tr>\n",
              "      <th>12</th>\n",
              "      <td>4</td>\n",
              "      <td>2012-12-31 08:59:22</td>\n",
              "      <td>5</td>\n",
              "      <td>219</td>\n",
              "      <td>NaN</td>\n",
              "      <td>NaN</td>\n",
              "      <td>219</td>\n",
              "      <td>65984</td>\n",
              "      <td>2</td>\n",
              "      <td>3.5</td>\n",
              "      <td>...</td>\n",
              "      <td>NaN</td>\n",
              "      <td>NaN</td>\n",
              "      <td>NaN</td>\n",
              "      <td>NaN</td>\n",
              "      <td>NaN</td>\n",
              "      <td>NaN</td>\n",
              "      <td>NaN</td>\n",
              "      <td>0</td>\n",
              "      <td>NaN</td>\n",
              "      <td>0</td>\n",
              "    </tr>\n",
              "    <tr>\n",
              "      <th>13</th>\n",
              "      <td>4</td>\n",
              "      <td>2012-12-31 08:59:22</td>\n",
              "      <td>5</td>\n",
              "      <td>219</td>\n",
              "      <td>NaN</td>\n",
              "      <td>NaN</td>\n",
              "      <td>219</td>\n",
              "      <td>71258</td>\n",
              "      <td>1</td>\n",
              "      <td>2.0</td>\n",
              "      <td>...</td>\n",
              "      <td>NaN</td>\n",
              "      <td>NaN</td>\n",
              "      <td>NaN</td>\n",
              "      <td>NaN</td>\n",
              "      <td>NaN</td>\n",
              "      <td>NaN</td>\n",
              "      <td>NaN</td>\n",
              "      <td>0</td>\n",
              "      <td>NaN</td>\n",
              "      <td>0</td>\n",
              "    </tr>\n",
              "    <tr>\n",
              "      <th>14</th>\n",
              "      <td>4</td>\n",
              "      <td>2012-12-31 08:59:22</td>\n",
              "      <td>5</td>\n",
              "      <td>219</td>\n",
              "      <td>NaN</td>\n",
              "      <td>NaN</td>\n",
              "      <td>219</td>\n",
              "      <td>75491</td>\n",
              "      <td>2</td>\n",
              "      <td>3.5</td>\n",
              "      <td>...</td>\n",
              "      <td>NaN</td>\n",
              "      <td>NaN</td>\n",
              "      <td>NaN</td>\n",
              "      <td>NaN</td>\n",
              "      <td>NaN</td>\n",
              "      <td>NaN</td>\n",
              "      <td>NaN</td>\n",
              "      <td>0</td>\n",
              "      <td>NaN</td>\n",
              "      <td>0</td>\n",
              "    </tr>\n",
              "    <tr>\n",
              "      <th>15</th>\n",
              "      <td>4</td>\n",
              "      <td>2012-12-31 08:59:22</td>\n",
              "      <td>5</td>\n",
              "      <td>219</td>\n",
              "      <td>NaN</td>\n",
              "      <td>NaN</td>\n",
              "      <td>219</td>\n",
              "      <td>81172</td>\n",
              "      <td>0</td>\n",
              "      <td>4.0</td>\n",
              "      <td>...</td>\n",
              "      <td>NaN</td>\n",
              "      <td>NaN</td>\n",
              "      <td>NaN</td>\n",
              "      <td>NaN</td>\n",
              "      <td>NaN</td>\n",
              "      <td>NaN</td>\n",
              "      <td>NaN</td>\n",
              "      <td>0</td>\n",
              "      <td>NaN</td>\n",
              "      <td>0</td>\n",
              "    </tr>\n",
              "    <tr>\n",
              "      <th>16</th>\n",
              "      <td>4</td>\n",
              "      <td>2012-12-31 08:59:22</td>\n",
              "      <td>5</td>\n",
              "      <td>219</td>\n",
              "      <td>NaN</td>\n",
              "      <td>NaN</td>\n",
              "      <td>219</td>\n",
              "      <td>83045</td>\n",
              "      <td>3</td>\n",
              "      <td>3.5</td>\n",
              "      <td>...</td>\n",
              "      <td>NaN</td>\n",
              "      <td>NaN</td>\n",
              "      <td>NaN</td>\n",
              "      <td>NaN</td>\n",
              "      <td>NaN</td>\n",
              "      <td>NaN</td>\n",
              "      <td>NaN</td>\n",
              "      <td>0</td>\n",
              "      <td>NaN</td>\n",
              "      <td>0</td>\n",
              "    </tr>\n",
              "    <tr>\n",
              "      <th>17</th>\n",
              "      <td>4</td>\n",
              "      <td>2012-12-31 08:59:22</td>\n",
              "      <td>5</td>\n",
              "      <td>219</td>\n",
              "      <td>NaN</td>\n",
              "      <td>NaN</td>\n",
              "      <td>219</td>\n",
              "      <td>83430</td>\n",
              "      <td>4</td>\n",
              "      <td>4.5</td>\n",
              "      <td>...</td>\n",
              "      <td>NaN</td>\n",
              "      <td>NaN</td>\n",
              "      <td>NaN</td>\n",
              "      <td>NaN</td>\n",
              "      <td>NaN</td>\n",
              "      <td>NaN</td>\n",
              "      <td>NaN</td>\n",
              "      <td>0</td>\n",
              "      <td>NaN</td>\n",
              "      <td>0</td>\n",
              "    </tr>\n",
              "    <tr>\n",
              "      <th>18</th>\n",
              "      <td>4</td>\n",
              "      <td>2012-12-31 08:59:22</td>\n",
              "      <td>5</td>\n",
              "      <td>219</td>\n",
              "      <td>NaN</td>\n",
              "      <td>NaN</td>\n",
              "      <td>219</td>\n",
              "      <td>83806</td>\n",
              "      <td>4</td>\n",
              "      <td>4.0</td>\n",
              "      <td>...</td>\n",
              "      <td>NaN</td>\n",
              "      <td>NaN</td>\n",
              "      <td>NaN</td>\n",
              "      <td>NaN</td>\n",
              "      <td>NaN</td>\n",
              "      <td>NaN</td>\n",
              "      <td>NaN</td>\n",
              "      <td>0</td>\n",
              "      <td>NaN</td>\n",
              "      <td>0</td>\n",
              "    </tr>\n",
              "    <tr>\n",
              "      <th>19</th>\n",
              "      <td>4</td>\n",
              "      <td>2012-12-31 08:59:22</td>\n",
              "      <td>5</td>\n",
              "      <td>219</td>\n",
              "      <td>NaN</td>\n",
              "      <td>NaN</td>\n",
              "      <td>219</td>\n",
              "      <td>85567</td>\n",
              "      <td>2</td>\n",
              "      <td>4.0</td>\n",
              "      <td>...</td>\n",
              "      <td>NaN</td>\n",
              "      <td>NaN</td>\n",
              "      <td>NaN</td>\n",
              "      <td>NaN</td>\n",
              "      <td>NaN</td>\n",
              "      <td>NaN</td>\n",
              "      <td>NaN</td>\n",
              "      <td>0</td>\n",
              "      <td>NaN</td>\n",
              "      <td>0</td>\n",
              "    </tr>\n",
              "    <tr>\n",
              "      <th>20</th>\n",
              "      <td>4</td>\n",
              "      <td>2012-12-31 08:59:22</td>\n",
              "      <td>5</td>\n",
              "      <td>219</td>\n",
              "      <td>NaN</td>\n",
              "      <td>NaN</td>\n",
              "      <td>219</td>\n",
              "      <td>85742</td>\n",
              "      <td>3</td>\n",
              "      <td>4.0</td>\n",
              "      <td>...</td>\n",
              "      <td>NaN</td>\n",
              "      <td>NaN</td>\n",
              "      <td>NaN</td>\n",
              "      <td>NaN</td>\n",
              "      <td>NaN</td>\n",
              "      <td>NaN</td>\n",
              "      <td>NaN</td>\n",
              "      <td>0</td>\n",
              "      <td>NaN</td>\n",
              "      <td>0</td>\n",
              "    </tr>\n",
              "    <tr>\n",
              "      <th>21</th>\n",
              "      <td>4</td>\n",
              "      <td>2012-12-31 08:59:22</td>\n",
              "      <td>5</td>\n",
              "      <td>219</td>\n",
              "      <td>NaN</td>\n",
              "      <td>NaN</td>\n",
              "      <td>219</td>\n",
              "      <td>89119</td>\n",
              "      <td>4</td>\n",
              "      <td>4.5</td>\n",
              "      <td>...</td>\n",
              "      <td>NaN</td>\n",
              "      <td>NaN</td>\n",
              "      <td>NaN</td>\n",
              "      <td>NaN</td>\n",
              "      <td>NaN</td>\n",
              "      <td>NaN</td>\n",
              "      <td>NaN</td>\n",
              "      <td>0</td>\n",
              "      <td>NaN</td>\n",
              "      <td>0</td>\n",
              "    </tr>\n",
              "    <tr>\n",
              "      <th>22</th>\n",
              "      <td>4</td>\n",
              "      <td>2012-12-31 08:59:22</td>\n",
              "      <td>5</td>\n",
              "      <td>219</td>\n",
              "      <td>NaN</td>\n",
              "      <td>NaN</td>\n",
              "      <td>219</td>\n",
              "      <td>97099</td>\n",
              "      <td>4</td>\n",
              "      <td>4.0</td>\n",
              "      <td>...</td>\n",
              "      <td>NaN</td>\n",
              "      <td>NaN</td>\n",
              "      <td>NaN</td>\n",
              "      <td>NaN</td>\n",
              "      <td>NaN</td>\n",
              "      <td>NaN</td>\n",
              "      <td>NaN</td>\n",
              "      <td>0</td>\n",
              "      <td>NaN</td>\n",
              "      <td>0</td>\n",
              "    </tr>\n",
              "  </tbody>\n",
              "</table>\n",
              "<p>23 rows × 54 columns</p>\n",
              "</div>\n",
              "      <button class=\"colab-df-convert\" onclick=\"convertToInteractive('df-17c6617a-ce3f-4448-81ff-6ec1b1940a0a')\"\n",
              "              title=\"Convert this dataframe to an interactive table.\"\n",
              "              style=\"display:none;\">\n",
              "        \n",
              "  <svg xmlns=\"http://www.w3.org/2000/svg\" height=\"24px\"viewBox=\"0 0 24 24\"\n",
              "       width=\"24px\">\n",
              "    <path d=\"M0 0h24v24H0V0z\" fill=\"none\"/>\n",
              "    <path d=\"M18.56 5.44l.94 2.06.94-2.06 2.06-.94-2.06-.94-.94-2.06-.94 2.06-2.06.94zm-11 1L8.5 8.5l.94-2.06 2.06-.94-2.06-.94L8.5 2.5l-.94 2.06-2.06.94zm10 10l.94 2.06.94-2.06 2.06-.94-2.06-.94-.94-2.06-.94 2.06-2.06.94z\"/><path d=\"M17.41 7.96l-1.37-1.37c-.4-.4-.92-.59-1.43-.59-.52 0-1.04.2-1.43.59L10.3 9.45l-7.72 7.72c-.78.78-.78 2.05 0 2.83L4 21.41c.39.39.9.59 1.41.59.51 0 1.02-.2 1.41-.59l7.78-7.78 2.81-2.81c.8-.78.8-2.07 0-2.86zM5.41 20L4 18.59l7.72-7.72 1.47 1.35L5.41 20z\"/>\n",
              "  </svg>\n",
              "      </button>\n",
              "      \n",
              "  <style>\n",
              "    .colab-df-container {\n",
              "      display:flex;\n",
              "      flex-wrap:wrap;\n",
              "      gap: 12px;\n",
              "    }\n",
              "\n",
              "    .colab-df-convert {\n",
              "      background-color: #E8F0FE;\n",
              "      border: none;\n",
              "      border-radius: 50%;\n",
              "      cursor: pointer;\n",
              "      display: none;\n",
              "      fill: #1967D2;\n",
              "      height: 32px;\n",
              "      padding: 0 0 0 0;\n",
              "      width: 32px;\n",
              "    }\n",
              "\n",
              "    .colab-df-convert:hover {\n",
              "      background-color: #E2EBFA;\n",
              "      box-shadow: 0px 1px 2px rgba(60, 64, 67, 0.3), 0px 1px 3px 1px rgba(60, 64, 67, 0.15);\n",
              "      fill: #174EA6;\n",
              "    }\n",
              "\n",
              "    [theme=dark] .colab-df-convert {\n",
              "      background-color: #3B4455;\n",
              "      fill: #D2E3FC;\n",
              "    }\n",
              "\n",
              "    [theme=dark] .colab-df-convert:hover {\n",
              "      background-color: #434B5C;\n",
              "      box-shadow: 0px 1px 3px 1px rgba(0, 0, 0, 0.15);\n",
              "      filter: drop-shadow(0px 1px 2px rgba(0, 0, 0, 0.3));\n",
              "      fill: #FFFFFF;\n",
              "    }\n",
              "  </style>\n",
              "\n",
              "      <script>\n",
              "        const buttonEl =\n",
              "          document.querySelector('#df-17c6617a-ce3f-4448-81ff-6ec1b1940a0a button.colab-df-convert');\n",
              "        buttonEl.style.display =\n",
              "          google.colab.kernel.accessAllowed ? 'block' : 'none';\n",
              "\n",
              "        async function convertToInteractive(key) {\n",
              "          const element = document.querySelector('#df-17c6617a-ce3f-4448-81ff-6ec1b1940a0a');\n",
              "          const dataTable =\n",
              "            await google.colab.kernel.invokeFunction('convertToInteractive',\n",
              "                                                     [key], {});\n",
              "          if (!dataTable) return;\n",
              "\n",
              "          const docLinkHtml = 'Like what you see? Visit the ' +\n",
              "            '<a target=\"_blank\" href=https://colab.research.google.com/notebooks/data_table.ipynb>data table notebook</a>'\n",
              "            + ' to learn more about interactive tables.';\n",
              "          element.innerHTML = '';\n",
              "          dataTable['output_type'] = 'display_data';\n",
              "          await google.colab.output.renderOutput(dataTable, element);\n",
              "          const docLink = document.createElement('div');\n",
              "          docLink.innerHTML = docLinkHtml;\n",
              "          element.appendChild(docLink);\n",
              "        }\n",
              "      </script>\n",
              "    </div>\n",
              "  </div>\n",
              "  "
            ]
          },
          "metadata": {},
          "execution_count": 6
        }
      ]
    },
    {
      "cell_type": "code",
      "source": [
        "df.tail(19)"
      ],
      "metadata": {
        "colab": {
          "base_uri": "https://localhost:8080/",
          "height": 1000
        },
        "id": "xYwkXgh135_N",
        "outputId": "98423586-5b5c-4d71-eaf2-5102046fab27"
      },
      "execution_count": 7,
      "outputs": [
        {
          "output_type": "execute_result",
          "data": {
            "text/plain": [
              "       search_id            timestamp  site_id  user_country_id  \\\n",
              "65516      18575  2013-03-05 12:00:30       24              216   \n",
              "65517      18575  2013-03-05 12:00:30       24              216   \n",
              "65518      18575  2013-03-05 12:00:30       24              216   \n",
              "65519      18575  2013-03-05 12:00:30       24              216   \n",
              "65520      18575  2013-03-05 12:00:30       24              216   \n",
              "65521      18575  2013-03-05 12:00:30       24              216   \n",
              "65522      18575  2013-03-05 12:00:30       24              216   \n",
              "65523      18575  2013-03-05 12:00:30       24              216   \n",
              "65524      18575  2013-03-05 12:00:30       24              216   \n",
              "65525      18575  2013-03-05 12:00:30       24              216   \n",
              "65526      18579  2012-12-10 20:05:23       32              220   \n",
              "65527      18579  2012-12-10 20:05:23       32              220   \n",
              "65528      18579  2012-12-10 20:05:23       32              220   \n",
              "65529      18579  2012-12-10 20:05:23       32              220   \n",
              "65530      18579  2012-12-10 20:05:23       32              220   \n",
              "65531      18579  2012-12-10 20:05:23       32              220   \n",
              "65532      18579  2012-12-10 20:05:23       32              220   \n",
              "65533      18579  2012-12-10 20:05:23       32              220   \n",
              "65534      18579  2012-12-10 20:05:23       32              220   \n",
              "\n",
              "       user_hist_stars  user_hist_paid  listing_country_id  listing_id  \\\n",
              "65516              NaN             NaN                 216       83658   \n",
              "65517              NaN             NaN                 216       91119   \n",
              "65518              NaN             NaN                 216       96913   \n",
              "65519              NaN             NaN                 216       97575   \n",
              "65520              NaN             NaN                 216       97600   \n",
              "65521              NaN             NaN                 216      106186   \n",
              "65522              NaN             NaN                 216      106781   \n",
              "65523              NaN             NaN                 216      119194   \n",
              "65524              NaN             NaN                 216      126782   \n",
              "65525              NaN             NaN                 216      131776   \n",
              "65526              NaN             NaN                 220        1696   \n",
              "65527              NaN             NaN                 220        9959   \n",
              "65528              NaN             NaN                 220       10242   \n",
              "65529              NaN             NaN                 220       15491   \n",
              "65530              NaN             NaN                 220       24277   \n",
              "65531              NaN             NaN                 220       29677   \n",
              "65532              NaN             NaN                 220       36289   \n",
              "65533              NaN             NaN                 220       50432   \n",
              "65534              NaN             NaN                 220       61639   \n",
              "\n",
              "       listing_stars  listing_review_score  ...  \\\n",
              "65516              2                   2.0  ...   \n",
              "65517              3                   3.5  ...   \n",
              "65518              3                   3.0  ...   \n",
              "65519              4                   4.0  ...   \n",
              "65520              3                   4.0  ...   \n",
              "65521              4                   4.0  ...   \n",
              "65522              4                   4.0  ...   \n",
              "65523              3                   5.0  ...   \n",
              "65524              3                   4.5  ...   \n",
              "65525              3                   4.5  ...   \n",
              "65526              4                   3.5  ...   \n",
              "65527              5                   4.0  ...   \n",
              "65528              5                   4.0  ...   \n",
              "65529              4                   3.5  ...   \n",
              "65530              3                   0.0  ...   \n",
              "65531              4                   2.5  ...   \n",
              "65532              4                   4.0  ...   \n",
              "65533              5                   4.5  ...   \n",
              "65534              4                   3.5  ...   \n",
              "\n",
              "       competitor6_price_percent_diff  competitor7_rate  \\\n",
              "65516                             NaN               NaN   \n",
              "65517                             NaN               NaN   \n",
              "65518                             NaN               NaN   \n",
              "65519                             NaN               NaN   \n",
              "65520                             NaN               NaN   \n",
              "65521                             NaN               NaN   \n",
              "65522                             NaN               NaN   \n",
              "65523                             NaN               NaN   \n",
              "65524                             NaN               NaN   \n",
              "65525                             NaN               NaN   \n",
              "65526                             NaN               NaN   \n",
              "65527                             NaN               NaN   \n",
              "65528                             NaN               NaN   \n",
              "65529                             NaN               NaN   \n",
              "65530                             NaN               NaN   \n",
              "65531                             NaN               NaN   \n",
              "65532                             NaN               NaN   \n",
              "65533                             NaN               NaN   \n",
              "65534                             NaN               NaN   \n",
              "\n",
              "       competitor7_has_availability  competitor7_price_percent_diff  \\\n",
              "65516                           NaN                             NaN   \n",
              "65517                           NaN                             NaN   \n",
              "65518                           NaN                             NaN   \n",
              "65519                           NaN                             NaN   \n",
              "65520                           NaN                             NaN   \n",
              "65521                           NaN                             NaN   \n",
              "65522                           NaN                             NaN   \n",
              "65523                           NaN                             NaN   \n",
              "65524                           NaN                             NaN   \n",
              "65525                           NaN                             NaN   \n",
              "65526                           NaN                             NaN   \n",
              "65527                           NaN                             NaN   \n",
              "65528                           NaN                             NaN   \n",
              "65529                           NaN                             NaN   \n",
              "65530                           NaN                             NaN   \n",
              "65531                           NaN                             NaN   \n",
              "65532                           NaN                             NaN   \n",
              "65533                           NaN                             NaN   \n",
              "65534                           NaN                             NaN   \n",
              "\n",
              "       competitor8_rate  competitor8_has_availability  \\\n",
              "65516               NaN                           NaN   \n",
              "65517               NaN                           NaN   \n",
              "65518               NaN                           NaN   \n",
              "65519               NaN                           NaN   \n",
              "65520               NaN                           NaN   \n",
              "65521               NaN                           NaN   \n",
              "65522               NaN                           NaN   \n",
              "65523               NaN                           NaN   \n",
              "65524               NaN                           NaN   \n",
              "65525               NaN                           NaN   \n",
              "65526               NaN                           NaN   \n",
              "65527               NaN                           NaN   \n",
              "65528               NaN                           NaN   \n",
              "65529               NaN                           NaN   \n",
              "65530               NaN                           NaN   \n",
              "65531               NaN                           NaN   \n",
              "65532               NaN                           NaN   \n",
              "65533               NaN                           NaN   \n",
              "65534               NaN                           NaN   \n",
              "\n",
              "       competitor8_price_percent_diff  clicked  booking_value  booked  \n",
              "65516                             NaN        0            NaN       0  \n",
              "65517                             NaN        0            NaN       0  \n",
              "65518                             NaN        0            NaN       0  \n",
              "65519                             NaN        0            NaN       0  \n",
              "65520                             NaN        0            NaN       0  \n",
              "65521                             NaN        0            NaN       0  \n",
              "65522                             NaN        0            NaN       0  \n",
              "65523                             NaN        0            NaN       0  \n",
              "65524                             NaN        0            NaN       0  \n",
              "65525                             NaN        0            NaN       0  \n",
              "65526                             NaN        0            NaN       0  \n",
              "65527                             NaN        0            NaN       0  \n",
              "65528                             NaN        0            NaN       0  \n",
              "65529                             NaN        0            NaN       0  \n",
              "65530                             NaN        0            NaN       0  \n",
              "65531                             NaN        0            NaN       0  \n",
              "65532                             NaN        0            NaN       0  \n",
              "65533                             NaN        0            NaN       0  \n",
              "65534                             NaN        0            NaN       0  \n",
              "\n",
              "[19 rows x 54 columns]"
            ],
            "text/html": [
              "\n",
              "  <div id=\"df-525effda-bcfa-4e85-84c9-2227a703f54e\">\n",
              "    <div class=\"colab-df-container\">\n",
              "      <div>\n",
              "<style scoped>\n",
              "    .dataframe tbody tr th:only-of-type {\n",
              "        vertical-align: middle;\n",
              "    }\n",
              "\n",
              "    .dataframe tbody tr th {\n",
              "        vertical-align: top;\n",
              "    }\n",
              "\n",
              "    .dataframe thead th {\n",
              "        text-align: right;\n",
              "    }\n",
              "</style>\n",
              "<table border=\"1\" class=\"dataframe\">\n",
              "  <thead>\n",
              "    <tr style=\"text-align: right;\">\n",
              "      <th></th>\n",
              "      <th>search_id</th>\n",
              "      <th>timestamp</th>\n",
              "      <th>site_id</th>\n",
              "      <th>user_country_id</th>\n",
              "      <th>user_hist_stars</th>\n",
              "      <th>user_hist_paid</th>\n",
              "      <th>listing_country_id</th>\n",
              "      <th>listing_id</th>\n",
              "      <th>listing_stars</th>\n",
              "      <th>listing_review_score</th>\n",
              "      <th>...</th>\n",
              "      <th>competitor6_price_percent_diff</th>\n",
              "      <th>competitor7_rate</th>\n",
              "      <th>competitor7_has_availability</th>\n",
              "      <th>competitor7_price_percent_diff</th>\n",
              "      <th>competitor8_rate</th>\n",
              "      <th>competitor8_has_availability</th>\n",
              "      <th>competitor8_price_percent_diff</th>\n",
              "      <th>clicked</th>\n",
              "      <th>booking_value</th>\n",
              "      <th>booked</th>\n",
              "    </tr>\n",
              "  </thead>\n",
              "  <tbody>\n",
              "    <tr>\n",
              "      <th>65516</th>\n",
              "      <td>18575</td>\n",
              "      <td>2013-03-05 12:00:30</td>\n",
              "      <td>24</td>\n",
              "      <td>216</td>\n",
              "      <td>NaN</td>\n",
              "      <td>NaN</td>\n",
              "      <td>216</td>\n",
              "      <td>83658</td>\n",
              "      <td>2</td>\n",
              "      <td>2.0</td>\n",
              "      <td>...</td>\n",
              "      <td>NaN</td>\n",
              "      <td>NaN</td>\n",
              "      <td>NaN</td>\n",
              "      <td>NaN</td>\n",
              "      <td>NaN</td>\n",
              "      <td>NaN</td>\n",
              "      <td>NaN</td>\n",
              "      <td>0</td>\n",
              "      <td>NaN</td>\n",
              "      <td>0</td>\n",
              "    </tr>\n",
              "    <tr>\n",
              "      <th>65517</th>\n",
              "      <td>18575</td>\n",
              "      <td>2013-03-05 12:00:30</td>\n",
              "      <td>24</td>\n",
              "      <td>216</td>\n",
              "      <td>NaN</td>\n",
              "      <td>NaN</td>\n",
              "      <td>216</td>\n",
              "      <td>91119</td>\n",
              "      <td>3</td>\n",
              "      <td>3.5</td>\n",
              "      <td>...</td>\n",
              "      <td>NaN</td>\n",
              "      <td>NaN</td>\n",
              "      <td>NaN</td>\n",
              "      <td>NaN</td>\n",
              "      <td>NaN</td>\n",
              "      <td>NaN</td>\n",
              "      <td>NaN</td>\n",
              "      <td>0</td>\n",
              "      <td>NaN</td>\n",
              "      <td>0</td>\n",
              "    </tr>\n",
              "    <tr>\n",
              "      <th>65518</th>\n",
              "      <td>18575</td>\n",
              "      <td>2013-03-05 12:00:30</td>\n",
              "      <td>24</td>\n",
              "      <td>216</td>\n",
              "      <td>NaN</td>\n",
              "      <td>NaN</td>\n",
              "      <td>216</td>\n",
              "      <td>96913</td>\n",
              "      <td>3</td>\n",
              "      <td>3.0</td>\n",
              "      <td>...</td>\n",
              "      <td>NaN</td>\n",
              "      <td>NaN</td>\n",
              "      <td>NaN</td>\n",
              "      <td>NaN</td>\n",
              "      <td>NaN</td>\n",
              "      <td>NaN</td>\n",
              "      <td>NaN</td>\n",
              "      <td>0</td>\n",
              "      <td>NaN</td>\n",
              "      <td>0</td>\n",
              "    </tr>\n",
              "    <tr>\n",
              "      <th>65519</th>\n",
              "      <td>18575</td>\n",
              "      <td>2013-03-05 12:00:30</td>\n",
              "      <td>24</td>\n",
              "      <td>216</td>\n",
              "      <td>NaN</td>\n",
              "      <td>NaN</td>\n",
              "      <td>216</td>\n",
              "      <td>97575</td>\n",
              "      <td>4</td>\n",
              "      <td>4.0</td>\n",
              "      <td>...</td>\n",
              "      <td>NaN</td>\n",
              "      <td>NaN</td>\n",
              "      <td>NaN</td>\n",
              "      <td>NaN</td>\n",
              "      <td>NaN</td>\n",
              "      <td>NaN</td>\n",
              "      <td>NaN</td>\n",
              "      <td>0</td>\n",
              "      <td>NaN</td>\n",
              "      <td>0</td>\n",
              "    </tr>\n",
              "    <tr>\n",
              "      <th>65520</th>\n",
              "      <td>18575</td>\n",
              "      <td>2013-03-05 12:00:30</td>\n",
              "      <td>24</td>\n",
              "      <td>216</td>\n",
              "      <td>NaN</td>\n",
              "      <td>NaN</td>\n",
              "      <td>216</td>\n",
              "      <td>97600</td>\n",
              "      <td>3</td>\n",
              "      <td>4.0</td>\n",
              "      <td>...</td>\n",
              "      <td>NaN</td>\n",
              "      <td>NaN</td>\n",
              "      <td>NaN</td>\n",
              "      <td>NaN</td>\n",
              "      <td>NaN</td>\n",
              "      <td>NaN</td>\n",
              "      <td>NaN</td>\n",
              "      <td>0</td>\n",
              "      <td>NaN</td>\n",
              "      <td>0</td>\n",
              "    </tr>\n",
              "    <tr>\n",
              "      <th>65521</th>\n",
              "      <td>18575</td>\n",
              "      <td>2013-03-05 12:00:30</td>\n",
              "      <td>24</td>\n",
              "      <td>216</td>\n",
              "      <td>NaN</td>\n",
              "      <td>NaN</td>\n",
              "      <td>216</td>\n",
              "      <td>106186</td>\n",
              "      <td>4</td>\n",
              "      <td>4.0</td>\n",
              "      <td>...</td>\n",
              "      <td>NaN</td>\n",
              "      <td>NaN</td>\n",
              "      <td>NaN</td>\n",
              "      <td>NaN</td>\n",
              "      <td>NaN</td>\n",
              "      <td>NaN</td>\n",
              "      <td>NaN</td>\n",
              "      <td>0</td>\n",
              "      <td>NaN</td>\n",
              "      <td>0</td>\n",
              "    </tr>\n",
              "    <tr>\n",
              "      <th>65522</th>\n",
              "      <td>18575</td>\n",
              "      <td>2013-03-05 12:00:30</td>\n",
              "      <td>24</td>\n",
              "      <td>216</td>\n",
              "      <td>NaN</td>\n",
              "      <td>NaN</td>\n",
              "      <td>216</td>\n",
              "      <td>106781</td>\n",
              "      <td>4</td>\n",
              "      <td>4.0</td>\n",
              "      <td>...</td>\n",
              "      <td>NaN</td>\n",
              "      <td>NaN</td>\n",
              "      <td>NaN</td>\n",
              "      <td>NaN</td>\n",
              "      <td>NaN</td>\n",
              "      <td>NaN</td>\n",
              "      <td>NaN</td>\n",
              "      <td>0</td>\n",
              "      <td>NaN</td>\n",
              "      <td>0</td>\n",
              "    </tr>\n",
              "    <tr>\n",
              "      <th>65523</th>\n",
              "      <td>18575</td>\n",
              "      <td>2013-03-05 12:00:30</td>\n",
              "      <td>24</td>\n",
              "      <td>216</td>\n",
              "      <td>NaN</td>\n",
              "      <td>NaN</td>\n",
              "      <td>216</td>\n",
              "      <td>119194</td>\n",
              "      <td>3</td>\n",
              "      <td>5.0</td>\n",
              "      <td>...</td>\n",
              "      <td>NaN</td>\n",
              "      <td>NaN</td>\n",
              "      <td>NaN</td>\n",
              "      <td>NaN</td>\n",
              "      <td>NaN</td>\n",
              "      <td>NaN</td>\n",
              "      <td>NaN</td>\n",
              "      <td>0</td>\n",
              "      <td>NaN</td>\n",
              "      <td>0</td>\n",
              "    </tr>\n",
              "    <tr>\n",
              "      <th>65524</th>\n",
              "      <td>18575</td>\n",
              "      <td>2013-03-05 12:00:30</td>\n",
              "      <td>24</td>\n",
              "      <td>216</td>\n",
              "      <td>NaN</td>\n",
              "      <td>NaN</td>\n",
              "      <td>216</td>\n",
              "      <td>126782</td>\n",
              "      <td>3</td>\n",
              "      <td>4.5</td>\n",
              "      <td>...</td>\n",
              "      <td>NaN</td>\n",
              "      <td>NaN</td>\n",
              "      <td>NaN</td>\n",
              "      <td>NaN</td>\n",
              "      <td>NaN</td>\n",
              "      <td>NaN</td>\n",
              "      <td>NaN</td>\n",
              "      <td>0</td>\n",
              "      <td>NaN</td>\n",
              "      <td>0</td>\n",
              "    </tr>\n",
              "    <tr>\n",
              "      <th>65525</th>\n",
              "      <td>18575</td>\n",
              "      <td>2013-03-05 12:00:30</td>\n",
              "      <td>24</td>\n",
              "      <td>216</td>\n",
              "      <td>NaN</td>\n",
              "      <td>NaN</td>\n",
              "      <td>216</td>\n",
              "      <td>131776</td>\n",
              "      <td>3</td>\n",
              "      <td>4.5</td>\n",
              "      <td>...</td>\n",
              "      <td>NaN</td>\n",
              "      <td>NaN</td>\n",
              "      <td>NaN</td>\n",
              "      <td>NaN</td>\n",
              "      <td>NaN</td>\n",
              "      <td>NaN</td>\n",
              "      <td>NaN</td>\n",
              "      <td>0</td>\n",
              "      <td>NaN</td>\n",
              "      <td>0</td>\n",
              "    </tr>\n",
              "    <tr>\n",
              "      <th>65526</th>\n",
              "      <td>18579</td>\n",
              "      <td>2012-12-10 20:05:23</td>\n",
              "      <td>32</td>\n",
              "      <td>220</td>\n",
              "      <td>NaN</td>\n",
              "      <td>NaN</td>\n",
              "      <td>220</td>\n",
              "      <td>1696</td>\n",
              "      <td>4</td>\n",
              "      <td>3.5</td>\n",
              "      <td>...</td>\n",
              "      <td>NaN</td>\n",
              "      <td>NaN</td>\n",
              "      <td>NaN</td>\n",
              "      <td>NaN</td>\n",
              "      <td>NaN</td>\n",
              "      <td>NaN</td>\n",
              "      <td>NaN</td>\n",
              "      <td>0</td>\n",
              "      <td>NaN</td>\n",
              "      <td>0</td>\n",
              "    </tr>\n",
              "    <tr>\n",
              "      <th>65527</th>\n",
              "      <td>18579</td>\n",
              "      <td>2012-12-10 20:05:23</td>\n",
              "      <td>32</td>\n",
              "      <td>220</td>\n",
              "      <td>NaN</td>\n",
              "      <td>NaN</td>\n",
              "      <td>220</td>\n",
              "      <td>9959</td>\n",
              "      <td>5</td>\n",
              "      <td>4.0</td>\n",
              "      <td>...</td>\n",
              "      <td>NaN</td>\n",
              "      <td>NaN</td>\n",
              "      <td>NaN</td>\n",
              "      <td>NaN</td>\n",
              "      <td>NaN</td>\n",
              "      <td>NaN</td>\n",
              "      <td>NaN</td>\n",
              "      <td>0</td>\n",
              "      <td>NaN</td>\n",
              "      <td>0</td>\n",
              "    </tr>\n",
              "    <tr>\n",
              "      <th>65528</th>\n",
              "      <td>18579</td>\n",
              "      <td>2012-12-10 20:05:23</td>\n",
              "      <td>32</td>\n",
              "      <td>220</td>\n",
              "      <td>NaN</td>\n",
              "      <td>NaN</td>\n",
              "      <td>220</td>\n",
              "      <td>10242</td>\n",
              "      <td>5</td>\n",
              "      <td>4.0</td>\n",
              "      <td>...</td>\n",
              "      <td>NaN</td>\n",
              "      <td>NaN</td>\n",
              "      <td>NaN</td>\n",
              "      <td>NaN</td>\n",
              "      <td>NaN</td>\n",
              "      <td>NaN</td>\n",
              "      <td>NaN</td>\n",
              "      <td>0</td>\n",
              "      <td>NaN</td>\n",
              "      <td>0</td>\n",
              "    </tr>\n",
              "    <tr>\n",
              "      <th>65529</th>\n",
              "      <td>18579</td>\n",
              "      <td>2012-12-10 20:05:23</td>\n",
              "      <td>32</td>\n",
              "      <td>220</td>\n",
              "      <td>NaN</td>\n",
              "      <td>NaN</td>\n",
              "      <td>220</td>\n",
              "      <td>15491</td>\n",
              "      <td>4</td>\n",
              "      <td>3.5</td>\n",
              "      <td>...</td>\n",
              "      <td>NaN</td>\n",
              "      <td>NaN</td>\n",
              "      <td>NaN</td>\n",
              "      <td>NaN</td>\n",
              "      <td>NaN</td>\n",
              "      <td>NaN</td>\n",
              "      <td>NaN</td>\n",
              "      <td>0</td>\n",
              "      <td>NaN</td>\n",
              "      <td>0</td>\n",
              "    </tr>\n",
              "    <tr>\n",
              "      <th>65530</th>\n",
              "      <td>18579</td>\n",
              "      <td>2012-12-10 20:05:23</td>\n",
              "      <td>32</td>\n",
              "      <td>220</td>\n",
              "      <td>NaN</td>\n",
              "      <td>NaN</td>\n",
              "      <td>220</td>\n",
              "      <td>24277</td>\n",
              "      <td>3</td>\n",
              "      <td>0.0</td>\n",
              "      <td>...</td>\n",
              "      <td>NaN</td>\n",
              "      <td>NaN</td>\n",
              "      <td>NaN</td>\n",
              "      <td>NaN</td>\n",
              "      <td>NaN</td>\n",
              "      <td>NaN</td>\n",
              "      <td>NaN</td>\n",
              "      <td>0</td>\n",
              "      <td>NaN</td>\n",
              "      <td>0</td>\n",
              "    </tr>\n",
              "    <tr>\n",
              "      <th>65531</th>\n",
              "      <td>18579</td>\n",
              "      <td>2012-12-10 20:05:23</td>\n",
              "      <td>32</td>\n",
              "      <td>220</td>\n",
              "      <td>NaN</td>\n",
              "      <td>NaN</td>\n",
              "      <td>220</td>\n",
              "      <td>29677</td>\n",
              "      <td>4</td>\n",
              "      <td>2.5</td>\n",
              "      <td>...</td>\n",
              "      <td>NaN</td>\n",
              "      <td>NaN</td>\n",
              "      <td>NaN</td>\n",
              "      <td>NaN</td>\n",
              "      <td>NaN</td>\n",
              "      <td>NaN</td>\n",
              "      <td>NaN</td>\n",
              "      <td>0</td>\n",
              "      <td>NaN</td>\n",
              "      <td>0</td>\n",
              "    </tr>\n",
              "    <tr>\n",
              "      <th>65532</th>\n",
              "      <td>18579</td>\n",
              "      <td>2012-12-10 20:05:23</td>\n",
              "      <td>32</td>\n",
              "      <td>220</td>\n",
              "      <td>NaN</td>\n",
              "      <td>NaN</td>\n",
              "      <td>220</td>\n",
              "      <td>36289</td>\n",
              "      <td>4</td>\n",
              "      <td>4.0</td>\n",
              "      <td>...</td>\n",
              "      <td>NaN</td>\n",
              "      <td>NaN</td>\n",
              "      <td>NaN</td>\n",
              "      <td>NaN</td>\n",
              "      <td>NaN</td>\n",
              "      <td>NaN</td>\n",
              "      <td>NaN</td>\n",
              "      <td>0</td>\n",
              "      <td>NaN</td>\n",
              "      <td>0</td>\n",
              "    </tr>\n",
              "    <tr>\n",
              "      <th>65533</th>\n",
              "      <td>18579</td>\n",
              "      <td>2012-12-10 20:05:23</td>\n",
              "      <td>32</td>\n",
              "      <td>220</td>\n",
              "      <td>NaN</td>\n",
              "      <td>NaN</td>\n",
              "      <td>220</td>\n",
              "      <td>50432</td>\n",
              "      <td>5</td>\n",
              "      <td>4.5</td>\n",
              "      <td>...</td>\n",
              "      <td>NaN</td>\n",
              "      <td>NaN</td>\n",
              "      <td>NaN</td>\n",
              "      <td>NaN</td>\n",
              "      <td>NaN</td>\n",
              "      <td>NaN</td>\n",
              "      <td>NaN</td>\n",
              "      <td>0</td>\n",
              "      <td>NaN</td>\n",
              "      <td>0</td>\n",
              "    </tr>\n",
              "    <tr>\n",
              "      <th>65534</th>\n",
              "      <td>18579</td>\n",
              "      <td>2012-12-10 20:05:23</td>\n",
              "      <td>32</td>\n",
              "      <td>220</td>\n",
              "      <td>NaN</td>\n",
              "      <td>NaN</td>\n",
              "      <td>220</td>\n",
              "      <td>61639</td>\n",
              "      <td>4</td>\n",
              "      <td>3.5</td>\n",
              "      <td>...</td>\n",
              "      <td>NaN</td>\n",
              "      <td>NaN</td>\n",
              "      <td>NaN</td>\n",
              "      <td>NaN</td>\n",
              "      <td>NaN</td>\n",
              "      <td>NaN</td>\n",
              "      <td>NaN</td>\n",
              "      <td>0</td>\n",
              "      <td>NaN</td>\n",
              "      <td>0</td>\n",
              "    </tr>\n",
              "  </tbody>\n",
              "</table>\n",
              "<p>19 rows × 54 columns</p>\n",
              "</div>\n",
              "      <button class=\"colab-df-convert\" onclick=\"convertToInteractive('df-525effda-bcfa-4e85-84c9-2227a703f54e')\"\n",
              "              title=\"Convert this dataframe to an interactive table.\"\n",
              "              style=\"display:none;\">\n",
              "        \n",
              "  <svg xmlns=\"http://www.w3.org/2000/svg\" height=\"24px\"viewBox=\"0 0 24 24\"\n",
              "       width=\"24px\">\n",
              "    <path d=\"M0 0h24v24H0V0z\" fill=\"none\"/>\n",
              "    <path d=\"M18.56 5.44l.94 2.06.94-2.06 2.06-.94-2.06-.94-.94-2.06-.94 2.06-2.06.94zm-11 1L8.5 8.5l.94-2.06 2.06-.94-2.06-.94L8.5 2.5l-.94 2.06-2.06.94zm10 10l.94 2.06.94-2.06 2.06-.94-2.06-.94-.94-2.06-.94 2.06-2.06.94z\"/><path d=\"M17.41 7.96l-1.37-1.37c-.4-.4-.92-.59-1.43-.59-.52 0-1.04.2-1.43.59L10.3 9.45l-7.72 7.72c-.78.78-.78 2.05 0 2.83L4 21.41c.39.39.9.59 1.41.59.51 0 1.02-.2 1.41-.59l7.78-7.78 2.81-2.81c.8-.78.8-2.07 0-2.86zM5.41 20L4 18.59l7.72-7.72 1.47 1.35L5.41 20z\"/>\n",
              "  </svg>\n",
              "      </button>\n",
              "      \n",
              "  <style>\n",
              "    .colab-df-container {\n",
              "      display:flex;\n",
              "      flex-wrap:wrap;\n",
              "      gap: 12px;\n",
              "    }\n",
              "\n",
              "    .colab-df-convert {\n",
              "      background-color: #E8F0FE;\n",
              "      border: none;\n",
              "      border-radius: 50%;\n",
              "      cursor: pointer;\n",
              "      display: none;\n",
              "      fill: #1967D2;\n",
              "      height: 32px;\n",
              "      padding: 0 0 0 0;\n",
              "      width: 32px;\n",
              "    }\n",
              "\n",
              "    .colab-df-convert:hover {\n",
              "      background-color: #E2EBFA;\n",
              "      box-shadow: 0px 1px 2px rgba(60, 64, 67, 0.3), 0px 1px 3px 1px rgba(60, 64, 67, 0.15);\n",
              "      fill: #174EA6;\n",
              "    }\n",
              "\n",
              "    [theme=dark] .colab-df-convert {\n",
              "      background-color: #3B4455;\n",
              "      fill: #D2E3FC;\n",
              "    }\n",
              "\n",
              "    [theme=dark] .colab-df-convert:hover {\n",
              "      background-color: #434B5C;\n",
              "      box-shadow: 0px 1px 3px 1px rgba(0, 0, 0, 0.15);\n",
              "      filter: drop-shadow(0px 1px 2px rgba(0, 0, 0, 0.3));\n",
              "      fill: #FFFFFF;\n",
              "    }\n",
              "  </style>\n",
              "\n",
              "      <script>\n",
              "        const buttonEl =\n",
              "          document.querySelector('#df-525effda-bcfa-4e85-84c9-2227a703f54e button.colab-df-convert');\n",
              "        buttonEl.style.display =\n",
              "          google.colab.kernel.accessAllowed ? 'block' : 'none';\n",
              "\n",
              "        async function convertToInteractive(key) {\n",
              "          const element = document.querySelector('#df-525effda-bcfa-4e85-84c9-2227a703f54e');\n",
              "          const dataTable =\n",
              "            await google.colab.kernel.invokeFunction('convertToInteractive',\n",
              "                                                     [key], {});\n",
              "          if (!dataTable) return;\n",
              "\n",
              "          const docLinkHtml = 'Like what you see? Visit the ' +\n",
              "            '<a target=\"_blank\" href=https://colab.research.google.com/notebooks/data_table.ipynb>data table notebook</a>'\n",
              "            + ' to learn more about interactive tables.';\n",
              "          element.innerHTML = '';\n",
              "          dataTable['output_type'] = 'display_data';\n",
              "          await google.colab.output.renderOutput(dataTable, element);\n",
              "          const docLink = document.createElement('div');\n",
              "          docLink.innerHTML = docLinkHtml;\n",
              "          element.appendChild(docLink);\n",
              "        }\n",
              "      </script>\n",
              "    </div>\n",
              "  </div>\n",
              "  "
            ]
          },
          "metadata": {},
          "execution_count": 7
        }
      ]
    },
    {
      "cell_type": "code",
      "source": [
        "df.isnull()"
      ],
      "metadata": {
        "colab": {
          "base_uri": "https://localhost:8080/",
          "height": 488
        },
        "id": "m6XXoB_X3_IW",
        "outputId": "d6a1329d-f97e-440e-ccb2-6eff8fccf7ab"
      },
      "execution_count": 8,
      "outputs": [
        {
          "output_type": "execute_result",
          "data": {
            "text/plain": [
              "       search_id  timestamp  site_id  user_country_id  user_hist_stars  \\\n",
              "0          False      False    False            False             True   \n",
              "1          False      False    False            False             True   \n",
              "2          False      False    False            False             True   \n",
              "3          False      False    False            False             True   \n",
              "4          False      False    False            False             True   \n",
              "...          ...        ...      ...              ...              ...   \n",
              "65530      False      False    False            False             True   \n",
              "65531      False      False    False            False             True   \n",
              "65532      False      False    False            False             True   \n",
              "65533      False      False    False            False             True   \n",
              "65534      False      False    False            False             True   \n",
              "\n",
              "       user_hist_paid  listing_country_id  listing_id  listing_stars  \\\n",
              "0                True               False       False          False   \n",
              "1                True               False       False          False   \n",
              "2                True               False       False          False   \n",
              "3                True               False       False          False   \n",
              "4                True               False       False          False   \n",
              "...               ...                 ...         ...            ...   \n",
              "65530            True               False       False          False   \n",
              "65531            True               False       False          False   \n",
              "65532            True               False       False          False   \n",
              "65533            True               False       False          False   \n",
              "65534            True               False       False          False   \n",
              "\n",
              "       listing_review_score  ...  competitor6_price_percent_diff  \\\n",
              "0                     False  ...                            True   \n",
              "1                     False  ...                            True   \n",
              "2                     False  ...                            True   \n",
              "3                     False  ...                            True   \n",
              "4                     False  ...                            True   \n",
              "...                     ...  ...                             ...   \n",
              "65530                 False  ...                            True   \n",
              "65531                 False  ...                            True   \n",
              "65532                 False  ...                            True   \n",
              "65533                 False  ...                            True   \n",
              "65534                 False  ...                            True   \n",
              "\n",
              "       competitor7_rate  competitor7_has_availability  \\\n",
              "0                  True                          True   \n",
              "1                  True                          True   \n",
              "2                  True                          True   \n",
              "3                  True                          True   \n",
              "4                  True                          True   \n",
              "...                 ...                           ...   \n",
              "65530              True                          True   \n",
              "65531              True                          True   \n",
              "65532              True                          True   \n",
              "65533              True                          True   \n",
              "65534              True                          True   \n",
              "\n",
              "       competitor7_price_percent_diff  competitor8_rate  \\\n",
              "0                                True              True   \n",
              "1                                True              True   \n",
              "2                                True              True   \n",
              "3                                True              True   \n",
              "4                                True              True   \n",
              "...                               ...               ...   \n",
              "65530                            True              True   \n",
              "65531                            True              True   \n",
              "65532                            True              True   \n",
              "65533                            True              True   \n",
              "65534                            True              True   \n",
              "\n",
              "       competitor8_has_availability  competitor8_price_percent_diff  clicked  \\\n",
              "0                              True                            True    False   \n",
              "1                              True                            True    False   \n",
              "2                              True                            True    False   \n",
              "3                              True                            True    False   \n",
              "4                              True                            True    False   \n",
              "...                             ...                             ...      ...   \n",
              "65530                          True                            True    False   \n",
              "65531                          True                            True    False   \n",
              "65532                          True                            True    False   \n",
              "65533                          True                            True    False   \n",
              "65534                          True                            True    False   \n",
              "\n",
              "       booking_value  booked  \n",
              "0               True   False  \n",
              "1               True   False  \n",
              "2               True   False  \n",
              "3               True   False  \n",
              "4               True   False  \n",
              "...              ...     ...  \n",
              "65530           True   False  \n",
              "65531           True   False  \n",
              "65532           True   False  \n",
              "65533           True   False  \n",
              "65534           True   False  \n",
              "\n",
              "[65535 rows x 54 columns]"
            ],
            "text/html": [
              "\n",
              "  <div id=\"df-a701023d-a19a-46b7-a35a-f1da1e3c3374\">\n",
              "    <div class=\"colab-df-container\">\n",
              "      <div>\n",
              "<style scoped>\n",
              "    .dataframe tbody tr th:only-of-type {\n",
              "        vertical-align: middle;\n",
              "    }\n",
              "\n",
              "    .dataframe tbody tr th {\n",
              "        vertical-align: top;\n",
              "    }\n",
              "\n",
              "    .dataframe thead th {\n",
              "        text-align: right;\n",
              "    }\n",
              "</style>\n",
              "<table border=\"1\" class=\"dataframe\">\n",
              "  <thead>\n",
              "    <tr style=\"text-align: right;\">\n",
              "      <th></th>\n",
              "      <th>search_id</th>\n",
              "      <th>timestamp</th>\n",
              "      <th>site_id</th>\n",
              "      <th>user_country_id</th>\n",
              "      <th>user_hist_stars</th>\n",
              "      <th>user_hist_paid</th>\n",
              "      <th>listing_country_id</th>\n",
              "      <th>listing_id</th>\n",
              "      <th>listing_stars</th>\n",
              "      <th>listing_review_score</th>\n",
              "      <th>...</th>\n",
              "      <th>competitor6_price_percent_diff</th>\n",
              "      <th>competitor7_rate</th>\n",
              "      <th>competitor7_has_availability</th>\n",
              "      <th>competitor7_price_percent_diff</th>\n",
              "      <th>competitor8_rate</th>\n",
              "      <th>competitor8_has_availability</th>\n",
              "      <th>competitor8_price_percent_diff</th>\n",
              "      <th>clicked</th>\n",
              "      <th>booking_value</th>\n",
              "      <th>booked</th>\n",
              "    </tr>\n",
              "  </thead>\n",
              "  <tbody>\n",
              "    <tr>\n",
              "      <th>0</th>\n",
              "      <td>False</td>\n",
              "      <td>False</td>\n",
              "      <td>False</td>\n",
              "      <td>False</td>\n",
              "      <td>True</td>\n",
              "      <td>True</td>\n",
              "      <td>False</td>\n",
              "      <td>False</td>\n",
              "      <td>False</td>\n",
              "      <td>False</td>\n",
              "      <td>...</td>\n",
              "      <td>True</td>\n",
              "      <td>True</td>\n",
              "      <td>True</td>\n",
              "      <td>True</td>\n",
              "      <td>True</td>\n",
              "      <td>True</td>\n",
              "      <td>True</td>\n",
              "      <td>False</td>\n",
              "      <td>True</td>\n",
              "      <td>False</td>\n",
              "    </tr>\n",
              "    <tr>\n",
              "      <th>1</th>\n",
              "      <td>False</td>\n",
              "      <td>False</td>\n",
              "      <td>False</td>\n",
              "      <td>False</td>\n",
              "      <td>True</td>\n",
              "      <td>True</td>\n",
              "      <td>False</td>\n",
              "      <td>False</td>\n",
              "      <td>False</td>\n",
              "      <td>False</td>\n",
              "      <td>...</td>\n",
              "      <td>True</td>\n",
              "      <td>True</td>\n",
              "      <td>True</td>\n",
              "      <td>True</td>\n",
              "      <td>True</td>\n",
              "      <td>True</td>\n",
              "      <td>True</td>\n",
              "      <td>False</td>\n",
              "      <td>True</td>\n",
              "      <td>False</td>\n",
              "    </tr>\n",
              "    <tr>\n",
              "      <th>2</th>\n",
              "      <td>False</td>\n",
              "      <td>False</td>\n",
              "      <td>False</td>\n",
              "      <td>False</td>\n",
              "      <td>True</td>\n",
              "      <td>True</td>\n",
              "      <td>False</td>\n",
              "      <td>False</td>\n",
              "      <td>False</td>\n",
              "      <td>False</td>\n",
              "      <td>...</td>\n",
              "      <td>True</td>\n",
              "      <td>True</td>\n",
              "      <td>True</td>\n",
              "      <td>True</td>\n",
              "      <td>True</td>\n",
              "      <td>True</td>\n",
              "      <td>True</td>\n",
              "      <td>False</td>\n",
              "      <td>True</td>\n",
              "      <td>False</td>\n",
              "    </tr>\n",
              "    <tr>\n",
              "      <th>3</th>\n",
              "      <td>False</td>\n",
              "      <td>False</td>\n",
              "      <td>False</td>\n",
              "      <td>False</td>\n",
              "      <td>True</td>\n",
              "      <td>True</td>\n",
              "      <td>False</td>\n",
              "      <td>False</td>\n",
              "      <td>False</td>\n",
              "      <td>False</td>\n",
              "      <td>...</td>\n",
              "      <td>True</td>\n",
              "      <td>True</td>\n",
              "      <td>True</td>\n",
              "      <td>True</td>\n",
              "      <td>True</td>\n",
              "      <td>True</td>\n",
              "      <td>True</td>\n",
              "      <td>False</td>\n",
              "      <td>True</td>\n",
              "      <td>False</td>\n",
              "    </tr>\n",
              "    <tr>\n",
              "      <th>4</th>\n",
              "      <td>False</td>\n",
              "      <td>False</td>\n",
              "      <td>False</td>\n",
              "      <td>False</td>\n",
              "      <td>True</td>\n",
              "      <td>True</td>\n",
              "      <td>False</td>\n",
              "      <td>False</td>\n",
              "      <td>False</td>\n",
              "      <td>False</td>\n",
              "      <td>...</td>\n",
              "      <td>True</td>\n",
              "      <td>True</td>\n",
              "      <td>True</td>\n",
              "      <td>True</td>\n",
              "      <td>True</td>\n",
              "      <td>True</td>\n",
              "      <td>True</td>\n",
              "      <td>False</td>\n",
              "      <td>True</td>\n",
              "      <td>False</td>\n",
              "    </tr>\n",
              "    <tr>\n",
              "      <th>...</th>\n",
              "      <td>...</td>\n",
              "      <td>...</td>\n",
              "      <td>...</td>\n",
              "      <td>...</td>\n",
              "      <td>...</td>\n",
              "      <td>...</td>\n",
              "      <td>...</td>\n",
              "      <td>...</td>\n",
              "      <td>...</td>\n",
              "      <td>...</td>\n",
              "      <td>...</td>\n",
              "      <td>...</td>\n",
              "      <td>...</td>\n",
              "      <td>...</td>\n",
              "      <td>...</td>\n",
              "      <td>...</td>\n",
              "      <td>...</td>\n",
              "      <td>...</td>\n",
              "      <td>...</td>\n",
              "      <td>...</td>\n",
              "      <td>...</td>\n",
              "    </tr>\n",
              "    <tr>\n",
              "      <th>65530</th>\n",
              "      <td>False</td>\n",
              "      <td>False</td>\n",
              "      <td>False</td>\n",
              "      <td>False</td>\n",
              "      <td>True</td>\n",
              "      <td>True</td>\n",
              "      <td>False</td>\n",
              "      <td>False</td>\n",
              "      <td>False</td>\n",
              "      <td>False</td>\n",
              "      <td>...</td>\n",
              "      <td>True</td>\n",
              "      <td>True</td>\n",
              "      <td>True</td>\n",
              "      <td>True</td>\n",
              "      <td>True</td>\n",
              "      <td>True</td>\n",
              "      <td>True</td>\n",
              "      <td>False</td>\n",
              "      <td>True</td>\n",
              "      <td>False</td>\n",
              "    </tr>\n",
              "    <tr>\n",
              "      <th>65531</th>\n",
              "      <td>False</td>\n",
              "      <td>False</td>\n",
              "      <td>False</td>\n",
              "      <td>False</td>\n",
              "      <td>True</td>\n",
              "      <td>True</td>\n",
              "      <td>False</td>\n",
              "      <td>False</td>\n",
              "      <td>False</td>\n",
              "      <td>False</td>\n",
              "      <td>...</td>\n",
              "      <td>True</td>\n",
              "      <td>True</td>\n",
              "      <td>True</td>\n",
              "      <td>True</td>\n",
              "      <td>True</td>\n",
              "      <td>True</td>\n",
              "      <td>True</td>\n",
              "      <td>False</td>\n",
              "      <td>True</td>\n",
              "      <td>False</td>\n",
              "    </tr>\n",
              "    <tr>\n",
              "      <th>65532</th>\n",
              "      <td>False</td>\n",
              "      <td>False</td>\n",
              "      <td>False</td>\n",
              "      <td>False</td>\n",
              "      <td>True</td>\n",
              "      <td>True</td>\n",
              "      <td>False</td>\n",
              "      <td>False</td>\n",
              "      <td>False</td>\n",
              "      <td>False</td>\n",
              "      <td>...</td>\n",
              "      <td>True</td>\n",
              "      <td>True</td>\n",
              "      <td>True</td>\n",
              "      <td>True</td>\n",
              "      <td>True</td>\n",
              "      <td>True</td>\n",
              "      <td>True</td>\n",
              "      <td>False</td>\n",
              "      <td>True</td>\n",
              "      <td>False</td>\n",
              "    </tr>\n",
              "    <tr>\n",
              "      <th>65533</th>\n",
              "      <td>False</td>\n",
              "      <td>False</td>\n",
              "      <td>False</td>\n",
              "      <td>False</td>\n",
              "      <td>True</td>\n",
              "      <td>True</td>\n",
              "      <td>False</td>\n",
              "      <td>False</td>\n",
              "      <td>False</td>\n",
              "      <td>False</td>\n",
              "      <td>...</td>\n",
              "      <td>True</td>\n",
              "      <td>True</td>\n",
              "      <td>True</td>\n",
              "      <td>True</td>\n",
              "      <td>True</td>\n",
              "      <td>True</td>\n",
              "      <td>True</td>\n",
              "      <td>False</td>\n",
              "      <td>True</td>\n",
              "      <td>False</td>\n",
              "    </tr>\n",
              "    <tr>\n",
              "      <th>65534</th>\n",
              "      <td>False</td>\n",
              "      <td>False</td>\n",
              "      <td>False</td>\n",
              "      <td>False</td>\n",
              "      <td>True</td>\n",
              "      <td>True</td>\n",
              "      <td>False</td>\n",
              "      <td>False</td>\n",
              "      <td>False</td>\n",
              "      <td>False</td>\n",
              "      <td>...</td>\n",
              "      <td>True</td>\n",
              "      <td>True</td>\n",
              "      <td>True</td>\n",
              "      <td>True</td>\n",
              "      <td>True</td>\n",
              "      <td>True</td>\n",
              "      <td>True</td>\n",
              "      <td>False</td>\n",
              "      <td>True</td>\n",
              "      <td>False</td>\n",
              "    </tr>\n",
              "  </tbody>\n",
              "</table>\n",
              "<p>65535 rows × 54 columns</p>\n",
              "</div>\n",
              "      <button class=\"colab-df-convert\" onclick=\"convertToInteractive('df-a701023d-a19a-46b7-a35a-f1da1e3c3374')\"\n",
              "              title=\"Convert this dataframe to an interactive table.\"\n",
              "              style=\"display:none;\">\n",
              "        \n",
              "  <svg xmlns=\"http://www.w3.org/2000/svg\" height=\"24px\"viewBox=\"0 0 24 24\"\n",
              "       width=\"24px\">\n",
              "    <path d=\"M0 0h24v24H0V0z\" fill=\"none\"/>\n",
              "    <path d=\"M18.56 5.44l.94 2.06.94-2.06 2.06-.94-2.06-.94-.94-2.06-.94 2.06-2.06.94zm-11 1L8.5 8.5l.94-2.06 2.06-.94-2.06-.94L8.5 2.5l-.94 2.06-2.06.94zm10 10l.94 2.06.94-2.06 2.06-.94-2.06-.94-.94-2.06-.94 2.06-2.06.94z\"/><path d=\"M17.41 7.96l-1.37-1.37c-.4-.4-.92-.59-1.43-.59-.52 0-1.04.2-1.43.59L10.3 9.45l-7.72 7.72c-.78.78-.78 2.05 0 2.83L4 21.41c.39.39.9.59 1.41.59.51 0 1.02-.2 1.41-.59l7.78-7.78 2.81-2.81c.8-.78.8-2.07 0-2.86zM5.41 20L4 18.59l7.72-7.72 1.47 1.35L5.41 20z\"/>\n",
              "  </svg>\n",
              "      </button>\n",
              "      \n",
              "  <style>\n",
              "    .colab-df-container {\n",
              "      display:flex;\n",
              "      flex-wrap:wrap;\n",
              "      gap: 12px;\n",
              "    }\n",
              "\n",
              "    .colab-df-convert {\n",
              "      background-color: #E8F0FE;\n",
              "      border: none;\n",
              "      border-radius: 50%;\n",
              "      cursor: pointer;\n",
              "      display: none;\n",
              "      fill: #1967D2;\n",
              "      height: 32px;\n",
              "      padding: 0 0 0 0;\n",
              "      width: 32px;\n",
              "    }\n",
              "\n",
              "    .colab-df-convert:hover {\n",
              "      background-color: #E2EBFA;\n",
              "      box-shadow: 0px 1px 2px rgba(60, 64, 67, 0.3), 0px 1px 3px 1px rgba(60, 64, 67, 0.15);\n",
              "      fill: #174EA6;\n",
              "    }\n",
              "\n",
              "    [theme=dark] .colab-df-convert {\n",
              "      background-color: #3B4455;\n",
              "      fill: #D2E3FC;\n",
              "    }\n",
              "\n",
              "    [theme=dark] .colab-df-convert:hover {\n",
              "      background-color: #434B5C;\n",
              "      box-shadow: 0px 1px 3px 1px rgba(0, 0, 0, 0.15);\n",
              "      filter: drop-shadow(0px 1px 2px rgba(0, 0, 0, 0.3));\n",
              "      fill: #FFFFFF;\n",
              "    }\n",
              "  </style>\n",
              "\n",
              "      <script>\n",
              "        const buttonEl =\n",
              "          document.querySelector('#df-a701023d-a19a-46b7-a35a-f1da1e3c3374 button.colab-df-convert');\n",
              "        buttonEl.style.display =\n",
              "          google.colab.kernel.accessAllowed ? 'block' : 'none';\n",
              "\n",
              "        async function convertToInteractive(key) {\n",
              "          const element = document.querySelector('#df-a701023d-a19a-46b7-a35a-f1da1e3c3374');\n",
              "          const dataTable =\n",
              "            await google.colab.kernel.invokeFunction('convertToInteractive',\n",
              "                                                     [key], {});\n",
              "          if (!dataTable) return;\n",
              "\n",
              "          const docLinkHtml = 'Like what you see? Visit the ' +\n",
              "            '<a target=\"_blank\" href=https://colab.research.google.com/notebooks/data_table.ipynb>data table notebook</a>'\n",
              "            + ' to learn more about interactive tables.';\n",
              "          element.innerHTML = '';\n",
              "          dataTable['output_type'] = 'display_data';\n",
              "          await google.colab.output.renderOutput(dataTable, element);\n",
              "          const docLink = document.createElement('div');\n",
              "          docLink.innerHTML = docLinkHtml;\n",
              "          element.appendChild(docLink);\n",
              "        }\n",
              "      </script>\n",
              "    </div>\n",
              "  </div>\n",
              "  "
            ]
          },
          "metadata": {},
          "execution_count": 8
        }
      ]
    },
    {
      "cell_type": "code",
      "source": [
        "df.isnull().sum()"
      ],
      "metadata": {
        "colab": {
          "base_uri": "https://localhost:8080/"
        },
        "id": "x76zfVyo4DdC",
        "outputId": "64d5d0a2-5f49-4b1f-9746-cf6fa683b9fd"
      },
      "execution_count": 9,
      "outputs": [
        {
          "output_type": "execute_result",
          "data": {
            "text/plain": [
              "search_id                             0\n",
              "timestamp                             0\n",
              "site_id                               0\n",
              "user_country_id                       0\n",
              "user_hist_stars                   61863\n",
              "user_hist_paid                    61863\n",
              "listing_country_id                    0\n",
              "listing_id                            0\n",
              "listing_stars                         0\n",
              "listing_review_score                 79\n",
              "is_brand                              0\n",
              "location_score1                       0\n",
              "location_score2                   13554\n",
              "log_historical_price                  0\n",
              "listing_position                      0\n",
              "price_usd                             0\n",
              "has_promotion                         0\n",
              "destination_id                        0\n",
              "length_of_stay                        0\n",
              "booking_window                        0\n",
              "num_adults                            0\n",
              "num_kids                              0\n",
              "num_rooms                             0\n",
              "stay_on_saturday                      0\n",
              "log_click_proportion              61533\n",
              "distance_to_dest                  22031\n",
              "random_sort                           0\n",
              "competitor1_rate                  63463\n",
              "competitor1_has_availability      63331\n",
              "competitor1_price_percent_diff    63853\n",
              "competitor2_rate                  38988\n",
              "competitor2_has_availability      37551\n",
              "competitor2_price_percent_diff    58274\n",
              "competitor3_rate                  45214\n",
              "competitor3_has_availability      43694\n",
              "competitor3_price_percent_diff    59180\n",
              "competitor4_rate                  61306\n",
              "competitor4_has_availability      60847\n",
              "competitor4_price_percent_diff    63770\n",
              "competitor5_rate                  36204\n",
              "competitor5_has_availability      34409\n",
              "competitor5_price_percent_diff    54633\n",
              "competitor6_rate                  61775\n",
              "competitor6_has_availability      61422\n",
              "competitor6_price_percent_diff    64059\n",
              "competitor7_rate                  60889\n",
              "competitor7_has_availability      60218\n",
              "competitor7_price_percent_diff    63541\n",
              "competitor8_rate                  40936\n",
              "competitor8_has_availability      39958\n",
              "competitor8_price_percent_diff    57543\n",
              "clicked                               0\n",
              "booking_value                     63735\n",
              "booked                                0\n",
              "dtype: int64"
            ]
          },
          "metadata": {},
          "execution_count": 9
        }
      ]
    },
    {
      "cell_type": "code",
      "source": [
        "df.drop(['user_hist_stars', 'user_hist_paid'],axis = 1, inplace = True)\n",
        "\n"
      ],
      "metadata": {
        "id": "wkq6vOgu5cfh"
      },
      "execution_count": 10,
      "outputs": []
    },
    {
      "cell_type": "code",
      "source": [
        "df.drop(df.loc[:, 'competitor1_rate':'competitor8_price_percent_diff'], axis = 1, inplace = True)\n"
      ],
      "metadata": {
        "id": "zrn8YHp1HEy2"
      },
      "execution_count": 11,
      "outputs": []
    },
    {
      "cell_type": "code",
      "source": [
        "df.drop(['timestamp'],axis=1,inplace=True)"
      ],
      "metadata": {
        "id": "gftXyENPtsHF"
      },
      "execution_count": 12,
      "outputs": []
    },
    {
      "cell_type": "code",
      "source": [
        "df.isnull().sum()"
      ],
      "metadata": {
        "colab": {
          "base_uri": "https://localhost:8080/"
        },
        "id": "G6pLf_2pJg8r",
        "outputId": "61739d55-d3ce-4aac-8256-98d81d451c9b"
      },
      "execution_count": 13,
      "outputs": [
        {
          "output_type": "execute_result",
          "data": {
            "text/plain": [
              "search_id                   0\n",
              "site_id                     0\n",
              "user_country_id             0\n",
              "listing_country_id          0\n",
              "listing_id                  0\n",
              "listing_stars               0\n",
              "listing_review_score       79\n",
              "is_brand                    0\n",
              "location_score1             0\n",
              "location_score2         13554\n",
              "log_historical_price        0\n",
              "listing_position            0\n",
              "price_usd                   0\n",
              "has_promotion               0\n",
              "destination_id              0\n",
              "length_of_stay              0\n",
              "booking_window              0\n",
              "num_adults                  0\n",
              "num_kids                    0\n",
              "num_rooms                   0\n",
              "stay_on_saturday            0\n",
              "log_click_proportion    61533\n",
              "distance_to_dest        22031\n",
              "random_sort                 0\n",
              "clicked                     0\n",
              "booking_value           63735\n",
              "booked                      0\n",
              "dtype: int64"
            ]
          },
          "metadata": {},
          "execution_count": 13
        }
      ]
    },
    {
      "cell_type": "code",
      "source": [
        "updated_df = df\n",
        "updated_df['log_click_proportion']=updated_df['log_click_proportion'].fillna(updated_df['log_click_proportion'].mean())\n",
        "updated_df['distance_to_dest']= updated_df['distance_to_dest'].fillna(updated_df['distance_to_dest'].mean())\n",
        "updated_df['booking_value']= updated_df['booking_value'].fillna(updated_df['booking_value'].mean())\n",
        "updated_df['listing_review_score']= updated_df['listing_review_score'].fillna(updated_df['listing_review_score'].mean())\n",
        "updated_df['location_score2']= updated_df['location_score2'].fillna(updated_df['location_score2'].mean())\n",
        "updated_df.info()"
      ],
      "metadata": {
        "colab": {
          "base_uri": "https://localhost:8080/"
        },
        "id": "WtpqSvgBKUqK",
        "outputId": "d1fb1588-2a4d-4308-ccea-a33843f665fb"
      },
      "execution_count": 14,
      "outputs": [
        {
          "output_type": "stream",
          "name": "stdout",
          "text": [
            "<class 'pandas.core.frame.DataFrame'>\n",
            "RangeIndex: 65535 entries, 0 to 65534\n",
            "Data columns (total 27 columns):\n",
            " #   Column                Non-Null Count  Dtype  \n",
            "---  ------                --------------  -----  \n",
            " 0   search_id             65535 non-null  int64  \n",
            " 1   site_id               65535 non-null  int64  \n",
            " 2   user_country_id       65535 non-null  int64  \n",
            " 3   listing_country_id    65535 non-null  int64  \n",
            " 4   listing_id            65535 non-null  int64  \n",
            " 5   listing_stars         65535 non-null  int64  \n",
            " 6   listing_review_score  65535 non-null  float64\n",
            " 7   is_brand              65535 non-null  int64  \n",
            " 8   location_score1       65535 non-null  float64\n",
            " 9   location_score2       65535 non-null  float64\n",
            " 10  log_historical_price  65535 non-null  float64\n",
            " 11  listing_position      65535 non-null  int64  \n",
            " 12  price_usd             65535 non-null  float64\n",
            " 13  has_promotion         65535 non-null  int64  \n",
            " 14  destination_id        65535 non-null  int64  \n",
            " 15  length_of_stay        65535 non-null  int64  \n",
            " 16  booking_window        65535 non-null  int64  \n",
            " 17  num_adults            65535 non-null  int64  \n",
            " 18  num_kids              65535 non-null  int64  \n",
            " 19  num_rooms             65535 non-null  int64  \n",
            " 20  stay_on_saturday      65535 non-null  int64  \n",
            " 21  log_click_proportion  65535 non-null  float64\n",
            " 22  distance_to_dest      65535 non-null  float64\n",
            " 23  random_sort           65535 non-null  int64  \n",
            " 24  clicked               65535 non-null  int64  \n",
            " 25  booking_value         65535 non-null  float64\n",
            " 26  booked                65535 non-null  int64  \n",
            "dtypes: float64(8), int64(19)\n",
            "memory usage: 13.5 MB\n"
          ]
        }
      ]
    },
    {
      "cell_type": "code",
      "source": [
        "df.isnull().sum()"
      ],
      "metadata": {
        "colab": {
          "base_uri": "https://localhost:8080/"
        },
        "id": "X0fyZLgUMlPP",
        "outputId": "bba60a7f-e510-4d96-aee4-43d7d057b32b"
      },
      "execution_count": 15,
      "outputs": [
        {
          "output_type": "execute_result",
          "data": {
            "text/plain": [
              "search_id               0\n",
              "site_id                 0\n",
              "user_country_id         0\n",
              "listing_country_id      0\n",
              "listing_id              0\n",
              "listing_stars           0\n",
              "listing_review_score    0\n",
              "is_brand                0\n",
              "location_score1         0\n",
              "location_score2         0\n",
              "log_historical_price    0\n",
              "listing_position        0\n",
              "price_usd               0\n",
              "has_promotion           0\n",
              "destination_id          0\n",
              "length_of_stay          0\n",
              "booking_window          0\n",
              "num_adults              0\n",
              "num_kids                0\n",
              "num_rooms               0\n",
              "stay_on_saturday        0\n",
              "log_click_proportion    0\n",
              "distance_to_dest        0\n",
              "random_sort             0\n",
              "clicked                 0\n",
              "booking_value           0\n",
              "booked                  0\n",
              "dtype: int64"
            ]
          },
          "metadata": {},
          "execution_count": 15
        }
      ]
    },
    {
      "cell_type": "code",
      "source": [
        "df.shape"
      ],
      "metadata": {
        "colab": {
          "base_uri": "https://localhost:8080/"
        },
        "id": "5szKHUbLQwAu",
        "outputId": "a5b6ff0e-c052-4d87-d5fb-fe4120019e21"
      },
      "execution_count": 16,
      "outputs": [
        {
          "output_type": "execute_result",
          "data": {
            "text/plain": [
              "(65535, 27)"
            ]
          },
          "metadata": {},
          "execution_count": 16
        }
      ]
    },
    {
      "cell_type": "code",
      "source": [
        "df.listing_stars.hist()\n",
        "plt.show()"
      ],
      "metadata": {
        "colab": {
          "base_uri": "https://localhost:8080/",
          "height": 265
        },
        "id": "vDKPbzrmgihs",
        "outputId": "af1d92a5-d441-428a-c76d-0304621234fe"
      },
      "execution_count": 80,
      "outputs": [
        {
          "output_type": "display_data",
          "data": {
            "text/plain": [
              "<Figure size 432x288 with 1 Axes>"
            ],
            "image/png": "[encoded data removed]"
          },
          "metadata": {
            "needs_background": "light"
          }
        }
      ]
    },
    {
      "cell_type": "code",
      "source": [
        "df.booking_value.plot(kind='hist' , grid = True)\n",
        "plt.show()"
      ],
      "metadata": {
        "colab": {
          "base_uri": "https://localhost:8080/",
          "height": 265
        },
        "id": "026Pli5bjL1k",
        "outputId": "72bacf23-0ddf-44e4-831f-5a2f3855399e"
      },
      "execution_count": 82,
      "outputs": [
        {
          "output_type": "display_data",
          "data": {
            "text/plain": [
              "<Figure size 432x288 with 1 Axes>"
            ],
            "image/png": "[encoded data removed]"
          },
          "metadata": {
            "needs_background": "light"
          }
        }
      ]
    },
    {
      "cell_type": "code",
      "source": [
        "sns.countplot(df.num_rooms)\n",
        "plt.show()"
      ],
      "metadata": {
        "colab": {
          "base_uri": "https://localhost:8080/",
          "height": 334
        },
        "id": "s4BaR-3aj5Uv",
        "outputId": "38138466-7769-41fd-ad98-1a80714c5650"
      },
      "execution_count": 87,
      "outputs": [
        {
          "output_type": "stream",
          "name": "stderr",
          "text": [
            "/usr/local/lib/python3.7/dist-packages/seaborn/_decorators.py:43: FutureWarning: Pass the following variable as a keyword arg: x. From version 0.12, the only valid positional argument will be `data`, and passing other arguments without an explicit keyword will result in an error or misinterpretation.\n",
            "  FutureWarning\n"
          ]
        },
        {
          "output_type": "display_data",
          "data": {
            "text/plain": [
              "<Figure size 432x288 with 1 Axes>"
            ],
            "image/png": "[encoded data removed]"
          },
          "metadata": {
            "needs_background": "light"
          }
        }
      ]
    },
    {
      "cell_type": "code",
      "source": [
        "df.groupby('num_rooms').length_of_stay.count().plot(kind='pie')\n",
        "plt.show()"
      ],
      "metadata": {
        "colab": {
          "base_uri": "https://localhost:8080/",
          "height": 248
        },
        "id": "HwCsGfIykUMr",
        "outputId": "c4f0df6e-a4ec-4f8b-81ea-a2f3bd84e9d4"
      },
      "execution_count": 88,
      "outputs": [
        {
          "output_type": "display_data",
          "data": {
            "text/plain": [
              "<Figure size 432x288 with 1 Axes>"
            ],
            "image/png": "[encoded data removed]"
          },
          "metadata": {}
        }
      ]
    },
    {
      "cell_type": "code",
      "source": [
        "sns.countplot(df.booking_window)\n",
        "plt.show()"
      ],
      "metadata": {
        "colab": {
          "base_uri": "https://localhost:8080/",
          "height": 335
        },
        "id": "S66RCD3Kkz51",
        "outputId": "0f12e262-de3e-489b-839b-43aa35506df8"
      },
      "execution_count": 89,
      "outputs": [
        {
          "output_type": "stream",
          "name": "stderr",
          "text": [
            "/usr/local/lib/python3.7/dist-packages/seaborn/_decorators.py:43: FutureWarning: Pass the following variable as a keyword arg: x. From version 0.12, the only valid positional argument will be `data`, and passing other arguments without an explicit keyword will result in an error or misinterpretation.\n",
            "  FutureWarning\n"
          ]
        },
        {
          "output_type": "display_data",
          "data": {
            "text/plain": [
              "<Figure size 432x288 with 1 Axes>"
            ],
            "image/png": "[encoded data removed]"
          },
          "metadata": {
            "needs_background": "light"
          }
        }
      ]
    },
    {
      "cell_type": "code",
      "source": [
        "df.groupby('num_rooms').num_adults.count().plot(kind='pie')\n",
        "plt.show()"
      ],
      "metadata": {
        "colab": {
          "base_uri": "https://localhost:8080/",
          "height": 248
        },
        "id": "cWkkxq5dlKyd",
        "outputId": "a05d5713-4dd8-472d-c16a-d9318b6b07b2"
      },
      "execution_count": 90,
      "outputs": [
        {
          "output_type": "display_data",
          "data": {
            "text/plain": [
              "<Figure size 432x288 with 1 Axes>"
            ],
            "image/png": "[encoded data removed]"
          },
          "metadata": {}
        }
      ]
    },
    {
      "cell_type": "code",
      "source": [
        "plt.figure(figsize=(12,5))\n",
        "\n",
        "total = float(len(df['num_adults']))\n",
        "\n",
        "a = sns.countplot(x='stay_on_saturday',data=df)\n",
        "\n",
        "for f in a.patches:\n",
        "    height = f.get_height()\n",
        "    a.text(f.get_x() + f.get_width()/2., height+3, '{:1.2f}'.format((height/total)*100),ha=\"center\")\n",
        "plt.show()"
      ],
      "metadata": {
        "colab": {
          "base_uri": "https://localhost:8080/",
          "height": 335
        },
        "id": "wSk88Qe8llur",
        "outputId": "f0bfa48f-1a15-4b3b-9284-4f262319cdb7"
      },
      "execution_count": 92,
      "outputs": [
        {
          "output_type": "display_data",
          "data": {
            "text/plain": [
              "<Figure size 864x360 with 1 Axes>"
            ],
            "image/png": "[encoded data removed]"
          },
          "metadata": {
            "needs_background": "light"
          }
        }
      ]
    },
    {
      "cell_type": "code",
      "source": [
        "df.groupby('num_rooms').booked.sum().plot(kind='bar')\n",
        "plt.show()"
      ],
      "metadata": {
        "colab": {
          "base_uri": "https://localhost:8080/",
          "height": 276
        },
        "id": "fDg_fPB2nLHI",
        "outputId": "1eb957b5-dae5-417a-bab1-001ec63f7477"
      },
      "execution_count": 96,
      "outputs": [
        {
          "output_type": "display_data",
          "data": {
            "text/plain": [
              "<Figure size 432x288 with 1 Axes>"
            ],
            "image/png": "[encoded data removed]"
          },
          "metadata": {
            "needs_background": "light"
          }
        }
      ]
    },
    {
      "cell_type": "code",
      "source": [
        "summary=df.groupby('booked').clicked.sum()\n",
        "plt.bar(x=summary.index , height=summary.values)\n",
        "plt.show()"
      ],
      "metadata": {
        "colab": {
          "base_uri": "https://localhost:8080/",
          "height": 265
        },
        "id": "4B-p5Fxgoabc",
        "outputId": "25939d1f-b811-4f2a-f80e-1ab4eb3adf4a"
      },
      "execution_count": 102,
      "outputs": [
        {
          "output_type": "display_data",
          "data": {
            "text/plain": [
              "<Figure size 432x288 with 1 Axes>"
            ],
            "image/png": "[encoded data removed]"
          },
          "metadata": {
            "needs_background": "light"
          }
        }
      ]
    },
    {
      "cell_type": "code",
      "source": [
        "df.groupby('site_id').clicked.sum().plot(kind='area')\n",
        "plt.show()"
      ],
      "metadata": {
        "colab": {
          "base_uri": "https://localhost:8080/",
          "height": 280
        },
        "id": "TEgXN-7Htaiq",
        "outputId": "502d9a02-1649-499a-eaff-5d3a1d012d5d"
      },
      "execution_count": 103,
      "outputs": [
        {
          "output_type": "display_data",
          "data": {
            "text/plain": [
              "<Figure size 432x288 with 1 Axes>"
            ],
            "image/png": "[encoded data removed]"
          },
          "metadata": {
            "needs_background": "light"
          }
        }
      ]
    },
    {
      "cell_type": "code",
      "source": [
        "df.groupby('site_id').booked.sum().plot(kind='bar')\n",
        "plt.show()"
      ],
      "metadata": {
        "colab": {
          "base_uri": "https://localhost:8080/",
          "height": 285
        },
        "id": "TufXl08zv3Aw",
        "outputId": "96b564f6-a9d5-4304-c591-2fa413b1b4bb"
      },
      "execution_count": 105,
      "outputs": [
        {
          "output_type": "display_data",
          "data": {
            "text/plain": [
              "<Figure size 432x288 with 1 Axes>"
            ],
            "image/png": "[encoded data removed]"
          },
          "metadata": {
            "needs_background": "light"
          }
        }
      ]
    },
    {
      "cell_type": "code",
      "source": [
        "df.groupby('user_country_id').booking_window.sum().plot(kind='area')\n",
        "plt.show()"
      ],
      "metadata": {
        "colab": {
          "base_uri": "https://localhost:8080/",
          "height": 291
        },
        "id": "xJaDlBnGwiUA",
        "outputId": "251f0af3-af71-4abb-f33f-e38cd996f83a"
      },
      "execution_count": 107,
      "outputs": [
        {
          "output_type": "display_data",
          "data": {
            "text/plain": [
              "<Figure size 432x288 with 1 Axes>"
            ],
            "image/png": "[encoded data removed]"
          },
          "metadata": {
            "needs_background": "light"
          }
        }
      ]
    },
    {
      "cell_type": "code",
      "source": [
        "df.listing_stars.plot(kind='box')\n",
        "plt.show()"
      ],
      "metadata": {
        "colab": {
          "base_uri": "https://localhost:8080/",
          "height": 266
        },
        "id": "PmQZZqVgjdIa",
        "outputId": "f6bce2e6-0510-443f-bcb5-f1ab7f29df13"
      },
      "execution_count": 84,
      "outputs": [
        {
          "output_type": "display_data",
          "data": {
            "text/plain": [
              "<Figure size 432x288 with 1 Axes>"
            ],
            "image/png": "[encoded data removed]"
          },
          "metadata": {
            "needs_background": "light"
          }
        }
      ]
    },
    {
      "cell_type": "markdown",
      "source": [
        "Removing Outliers"
      ],
      "metadata": {
        "id": "y21IsHdqRBK4"
      }
    },
    {
      "cell_type": "code",
      "source": [
        "Q1 = df.quantile(0.25)\n",
        "Q3 = df.quantile(0.75)\n",
        "IQR = Q3 - Q1\n",
        "print(IQR)"
      ],
      "metadata": {
        "colab": {
          "base_uri": "https://localhost:8080/"
        },
        "id": "hbn_nsydN_8t",
        "outputId": "645598f1-9ef8-4d26-9426-14d2c77b4249"
      },
      "execution_count": 17,
      "outputs": [
        {
          "output_type": "stream",
          "name": "stdout",
          "text": [
            "search_id                9260.500000\n",
            "site_id                     9.000000\n",
            "user_country_id           116.000000\n",
            "listing_country_id        119.000000\n",
            "listing_id              69973.000000\n",
            "listing_stars               1.000000\n",
            "listing_review_score        1.000000\n",
            "is_brand                    1.000000\n",
            "location_score1             2.300000\n",
            "location_score2             0.108400\n",
            "log_historical_price        0.870000\n",
            "listing_position           18.000000\n",
            "price_usd                 102.000000\n",
            "has_promotion               0.000000\n",
            "destination_id          13720.000000\n",
            "length_of_stay              2.000000\n",
            "booking_window             44.000000\n",
            "num_adults                  0.000000\n",
            "num_kids                    0.000000\n",
            "num_rooms                   0.000000\n",
            "stay_on_saturday            1.000000\n",
            "log_click_proportion        0.000000\n",
            "distance_to_dest         1043.761882\n",
            "random_sort                 1.000000\n",
            "clicked                     0.000000\n",
            "booking_value               0.000000\n",
            "booked                      0.000000\n",
            "dtype: float64\n"
          ]
        }
      ]
    },
    {
      "cell_type": "code",
      "source": [
        "df_out = df[~((df < (Q1 - 1.5 * IQR)) |(df > (Q3 + 1.5 * IQR))).any(axis=1)]"
      ],
      "metadata": {
        "id": "Q4iR3PFwPsfM"
      },
      "execution_count": 18,
      "outputs": []
    },
    {
      "cell_type": "code",
      "source": [
        "df_out.shape"
      ],
      "metadata": {
        "colab": {
          "base_uri": "https://localhost:8080/"
        },
        "id": "_CAJg9MhQtyi",
        "outputId": "e1c8698f-7371-4bb1-a61c-d229dda3a972"
      },
      "execution_count": 19,
      "outputs": [
        {
          "output_type": "execute_result",
          "data": {
            "text/plain": [
              "(11824, 27)"
            ]
          },
          "metadata": {},
          "execution_count": 19
        }
      ]
    },
    {
      "cell_type": "code",
      "source": [
        "print(df['num_rooms'].equals(df['booking_value'])) "
      ],
      "metadata": {
        "colab": {
          "base_uri": "https://localhost:8080/"
        },
        "id": "8JdtNNBsRaXu",
        "outputId": "09eb756e-c629-462e-89bd-faeb128128cb"
      },
      "execution_count": 20,
      "outputs": [
        {
          "output_type": "stream",
          "name": "stdout",
          "text": [
            "False\n"
          ]
        }
      ]
    },
    {
      "cell_type": "code",
      "source": [
        "   \n",
        "print(df['log_click_proportion'] == df['clicked'])   "
      ],
      "metadata": {
        "colab": {
          "base_uri": "https://localhost:8080/"
        },
        "id": "BdZ5EbbOT2-7",
        "outputId": "6413a4a2-6f92-4b3e-89d6-04681b1c4d0f"
      },
      "execution_count": 21,
      "outputs": [
        {
          "output_type": "stream",
          "name": "stdout",
          "text": [
            "0        False\n",
            "1        False\n",
            "2        False\n",
            "3        False\n",
            "4        False\n",
            "         ...  \n",
            "65530    False\n",
            "65531    False\n",
            "65532    False\n",
            "65533    False\n",
            "65534    False\n",
            "Length: 65535, dtype: bool\n"
          ]
        }
      ]
    },
    {
      "cell_type": "code",
      "source": [
        "print(df['length_of_stay'].isin(df['stay_on_saturday']))     "
      ],
      "metadata": {
        "colab": {
          "base_uri": "https://localhost:8080/"
        },
        "id": "u42awz7MVMMB",
        "outputId": "40c0c6b7-a1f2-4882-dbf7-3e67c2e2272d"
      },
      "execution_count": 22,
      "outputs": [
        {
          "output_type": "stream",
          "name": "stdout",
          "text": [
            "0        False\n",
            "1        False\n",
            "2        False\n",
            "3        False\n",
            "4        False\n",
            "         ...  \n",
            "65530    False\n",
            "65531    False\n",
            "65532    False\n",
            "65533    False\n",
            "65534    False\n",
            "Name: length_of_stay, Length: 65535, dtype: bool\n"
          ]
        }
      ]
    },
    {
      "cell_type": "code",
      "source": [
        "df.corr()"
      ],
      "metadata": {
        "colab": {
          "base_uri": "https://localhost:8080/",
          "height": 1000
        },
        "id": "OLIbSeCCdbIn",
        "outputId": "92b8b46f-8239-4e48-b492-8c8adce17d4b"
      },
      "execution_count": 23,
      "outputs": [
        {
          "output_type": "execute_result",
          "data": {
            "text/plain": [
              "                      search_id   site_id  user_country_id  \\\n",
              "search_id              1.000000 -0.044020         0.040387   \n",
              "site_id               -0.044020  1.000000        -0.290786   \n",
              "user_country_id        0.040387 -0.290786         1.000000   \n",
              "listing_country_id     0.030244 -0.311871         0.457649   \n",
              "listing_id             0.001989 -0.002465         0.008228   \n",
              "listing_stars         -0.020650  0.182732        -0.111359   \n",
              "listing_review_score  -0.005408 -0.063298         0.060100   \n",
              "is_brand               0.012385 -0.199639         0.188625   \n",
              "location_score1       -0.031322  0.186989        -0.128578   \n",
              "location_score2       -0.014186  0.023438        -0.005196   \n",
              "log_historical_price  -0.001017  0.049170        -0.047504   \n",
              "listing_position       0.012586 -0.035915         0.015888   \n",
              "price_usd             -0.001779 -0.010368         0.003591   \n",
              "has_promotion          0.002872  0.094147        -0.021330   \n",
              "destination_id         0.003971  0.023441        -0.001703   \n",
              "length_of_stay        -0.025282  0.141798        -0.091610   \n",
              "booking_window        -0.010558  0.192404        -0.091686   \n",
              "num_adults             0.000587 -0.011629         0.016789   \n",
              "num_kids               0.054542  0.012556        -0.020951   \n",
              "num_rooms              0.013501  0.043927        -0.010883   \n",
              "stay_on_saturday       0.022743 -0.104098         0.054070   \n",
              "log_click_proportion   0.027797 -0.004002         0.027969   \n",
              "distance_to_dest      -0.015929  0.214260        -0.016026   \n",
              "random_sort            0.009684  0.022809        -0.035925   \n",
              "clicked               -0.000438  0.012593        -0.003557   \n",
              "booking_value         -0.003786  0.018915        -0.017968   \n",
              "booked                -0.001136 -0.001924         0.003689   \n",
              "\n",
              "                      listing_country_id  listing_id  listing_stars  \\\n",
              "search_id                       0.030244    0.001989      -0.020650   \n",
              "site_id                        -0.311871   -0.002465       0.182732   \n",
              "user_country_id                 0.457649    0.008228      -0.111359   \n",
              "listing_country_id              1.000000    0.008119      -0.193784   \n",
              "listing_id                      0.008119    1.000000       0.000438   \n",
              "listing_stars                  -0.193784    0.000438       1.000000   \n",
              "listing_review_score            0.076763    0.004966       0.302079   \n",
              "is_brand                        0.326428    0.010243       0.020791   \n",
              "location_score1                -0.235827   -0.001735       0.298688   \n",
              "location_score2                -0.009734   -0.003752       0.076961   \n",
              "log_historical_price           -0.074854   -0.000633       0.157915   \n",
              "listing_position                0.017992    0.005808      -0.100072   \n",
              "price_usd                      -0.032624    0.005162       0.104517   \n",
              "has_promotion                  -0.060666   -0.002525       0.179696   \n",
              "destination_id                 -0.021652   -0.002830      -0.019058   \n",
              "length_of_stay                 -0.110688    0.003143       0.093526   \n",
              "booking_window                 -0.182516    0.002184       0.071160   \n",
              "num_adults                      0.048191   -0.000476       0.003021   \n",
              "num_kids                       -0.011143   -0.001499      -0.024414   \n",
              "num_rooms                      -0.008806   -0.001879       0.036221   \n",
              "stay_on_saturday                0.094966   -0.000023      -0.050592   \n",
              "log_click_proportion            0.020796    0.000393       0.001137   \n",
              "distance_to_dest               -0.290447   -0.003011       0.165676   \n",
              "random_sort                    -0.002285    0.002162      -0.015256   \n",
              "clicked                        -0.004441   -0.007935       0.026110   \n",
              "booking_value                  -0.023969   -0.000086       0.046806   \n",
              "booked                          0.001886   -0.002820       0.020398   \n",
              "\n",
              "                      listing_review_score  is_brand  location_score1  \\\n",
              "search_id                        -0.005408  0.012385        -0.031322   \n",
              "site_id                          -0.063298 -0.199639         0.186989   \n",
              "user_country_id                   0.060100  0.188625        -0.128578   \n",
              "listing_country_id                0.076763  0.326428        -0.235827   \n",
              "listing_id                        0.004966  0.010243        -0.001735   \n",
              "listing_stars                     0.302079  0.020791         0.298688   \n",
              "listing_review_score              1.000000  0.201237         0.105107   \n",
              "is_brand                          0.201237  1.000000        -0.195669   \n",
              "location_score1                   0.105107 -0.195669         1.000000   \n",
              "location_score2                   0.036112 -0.067446         0.379668   \n",
              "log_historical_price              0.103377 -0.020028         0.117393   \n",
              "listing_position                 -0.056556  0.016190         0.008092   \n",
              "price_usd                         0.054200 -0.004385         0.078928   \n",
              "has_promotion                     0.057195 -0.099949         0.178473   \n",
              "destination_id                   -0.014226 -0.034226        -0.012895   \n",
              "length_of_stay                   -0.037723 -0.111916         0.138861   \n",
              "booking_window                   -0.000367 -0.107234         0.122122   \n",
              "num_adults                        0.028431  0.019164         0.020701   \n",
              "num_kids                         -0.000402  0.003672         0.004358   \n",
              "num_rooms                         0.014561  0.012134         0.039680   \n",
              "stay_on_saturday                  0.015856  0.068097        -0.054732   \n",
              "log_click_proportion              0.014533 -0.003131         0.017834   \n",
              "distance_to_dest                 -0.037564 -0.170864         0.188480   \n",
              "random_sort                      -0.047940 -0.031876        -0.012431   \n",
              "clicked                           0.024733 -0.002715         0.000983   \n",
              "booking_value                     0.010223 -0.004869         0.049497   \n",
              "booked                            0.026145  0.009918        -0.006141   \n",
              "\n",
              "                      location_score2  ...  num_adults  num_kids  num_rooms  \\\n",
              "search_id                   -0.014186  ...    0.000587  0.054542   0.013501   \n",
              "site_id                      0.023438  ...   -0.011629  0.012556   0.043927   \n",
              "user_country_id             -0.005196  ...    0.016789 -0.020951  -0.010883   \n",
              "listing_country_id          -0.009734  ...    0.048191 -0.011143  -0.008806   \n",
              "listing_id                  -0.003752  ...   -0.000476 -0.001499  -0.001879   \n",
              "listing_stars                0.076961  ...    0.003021 -0.024414   0.036221   \n",
              "listing_review_score         0.036112  ...    0.028431 -0.000402   0.014561   \n",
              "is_brand                    -0.067446  ...    0.019164  0.003672   0.012134   \n",
              "location_score1              0.379668  ...    0.020701  0.004358   0.039680   \n",
              "location_score2              1.000000  ...    0.021531 -0.050803  -0.002064   \n",
              "log_historical_price         0.046238  ...   -0.002121 -0.024058  -0.003496   \n",
              "listing_position            -0.149942  ...   -0.009743 -0.022325  -0.028664   \n",
              "price_usd                    0.013098  ...    0.013790  0.019282   0.047321   \n",
              "has_promotion                0.036292  ...    0.006442  0.006107   0.016869   \n",
              "destination_id               0.023682  ...   -0.003594 -0.001528   0.006641   \n",
              "length_of_stay               0.031232  ...    0.006710  0.042420   0.008109   \n",
              "booking_window               0.035542  ...    0.112697  0.073794   0.051379   \n",
              "num_adults                   0.021531  ...    1.000000  0.058567   0.414350   \n",
              "num_kids                    -0.050803  ...    0.058567  1.000000   0.103030   \n",
              "num_rooms                   -0.002064  ...    0.414350  0.103030   1.000000   \n",
              "stay_on_saturday             0.013212  ...    0.084854 -0.019176  -0.024455   \n",
              "log_click_proportion         0.018997  ...    0.042886  0.008969   0.025505   \n",
              "distance_to_dest             0.017100  ...   -0.044913  0.010295   0.015302   \n",
              "random_sort                  0.007502  ...    0.055696  0.022313  -0.002420   \n",
              "clicked                      0.060184  ...    0.005304  0.002667   0.006767   \n",
              "booking_value                0.012154  ...    0.036877  0.010778   0.036985   \n",
              "booked                       0.060035  ...   -0.003511  0.001815   0.009816   \n",
              "\n",
              "                      stay_on_saturday  log_click_proportion  \\\n",
              "search_id                     0.022743              0.027797   \n",
              "site_id                      -0.104098             -0.004002   \n",
              "user_country_id               0.054070              0.027969   \n",
              "listing_country_id            0.094966              0.020796   \n",
              "listing_id                   -0.000023              0.000393   \n",
              "listing_stars                -0.050592              0.001137   \n",
              "listing_review_score          0.015856              0.014533   \n",
              "is_brand                      0.068097             -0.003131   \n",
              "location_score1              -0.054732              0.017834   \n",
              "location_score2               0.013212              0.018997   \n",
              "log_historical_price         -0.011342             -0.006375   \n",
              "listing_position             -0.004957             -0.022922   \n",
              "price_usd                    -0.012423              0.001461   \n",
              "has_promotion                -0.041249              0.009858   \n",
              "destination_id                0.015255             -0.001697   \n",
              "length_of_stay               -0.300463             -0.000782   \n",
              "booking_window               -0.086788             -0.002296   \n",
              "num_adults                    0.084854              0.042886   \n",
              "num_kids                     -0.019176              0.008969   \n",
              "num_rooms                    -0.024455              0.025505   \n",
              "stay_on_saturday              1.000000             -0.016786   \n",
              "log_click_proportion         -0.016786              1.000000   \n",
              "distance_to_dest             -0.161646              0.003895   \n",
              "random_sort                  -0.003945              0.049549   \n",
              "clicked                      -0.001068              0.007918   \n",
              "booking_value                -0.027364              0.001367   \n",
              "booked                        0.004127              0.002341   \n",
              "\n",
              "                      distance_to_dest  random_sort       clicked  \\\n",
              "search_id                    -0.015929     0.009684 -4.379345e-04   \n",
              "site_id                       0.214260     0.022809  1.259326e-02   \n",
              "user_country_id              -0.016026    -0.035925 -3.557216e-03   \n",
              "listing_country_id           -0.290447    -0.002285 -4.440690e-03   \n",
              "listing_id                   -0.003011     0.002162 -7.935324e-03   \n",
              "listing_stars                 0.165676    -0.015256  2.610973e-02   \n",
              "listing_review_score         -0.037564    -0.047940  2.473329e-02   \n",
              "is_brand                     -0.170864    -0.031876 -2.714644e-03   \n",
              "location_score1               0.188480    -0.012431  9.827060e-04   \n",
              "location_score2               0.017100     0.007502  6.018378e-02   \n",
              "log_historical_price          0.069008    -0.012212  7.979206e-03   \n",
              "listing_position             -0.004718    -0.019370 -1.592685e-01   \n",
              "price_usd                     0.028251     0.010863 -7.883191e-03   \n",
              "has_promotion                 0.065879    -0.028033  3.597941e-02   \n",
              "destination_id               -0.006821     0.011069  3.629678e-03   \n",
              "length_of_stay                0.166383     0.180846  3.233231e-03   \n",
              "booking_window                0.241368     0.143110 -1.585616e-03   \n",
              "num_adults                   -0.044913     0.055696  5.303708e-03   \n",
              "num_kids                      0.010295     0.022313  2.667226e-03   \n",
              "num_rooms                     0.015302    -0.002420  6.766920e-03   \n",
              "stay_on_saturday             -0.161646    -0.003945 -1.067839e-03   \n",
              "log_click_proportion          0.003895     0.049549  7.917743e-03   \n",
              "distance_to_dest              1.000000     0.010369  2.473587e-03   \n",
              "random_sort                   0.010369     1.000000  5.776925e-03   \n",
              "clicked                       0.002474     0.005777  1.000000e+00   \n",
              "booking_value                 0.031543    -0.000344  1.839608e-16   \n",
              "booked                       -0.004165    -0.090118  7.722741e-01   \n",
              "\n",
              "                      booking_value        booked  \n",
              "search_id             -3.786305e-03 -1.135920e-03  \n",
              "site_id                1.891530e-02 -1.923828e-03  \n",
              "user_country_id       -1.796849e-02  3.688708e-03  \n",
              "listing_country_id    -2.396857e-02  1.885721e-03  \n",
              "listing_id            -8.565111e-05 -2.820397e-03  \n",
              "listing_stars          4.680609e-02  2.039754e-02  \n",
              "listing_review_score   1.022256e-02  2.614518e-02  \n",
              "is_brand              -4.869099e-03  9.918063e-03  \n",
              "location_score1        4.949742e-02 -6.140950e-03  \n",
              "location_score2        1.215374e-02  6.003515e-02  \n",
              "log_historical_price   1.744297e-02  1.716516e-03  \n",
              "listing_position       4.885423e-03 -1.427123e-01  \n",
              "price_usd              1.234089e-02 -7.485665e-03  \n",
              "has_promotion          2.011971e-02  2.923412e-02  \n",
              "destination_id        -5.655122e-03 -1.390736e-03  \n",
              "length_of_stay         8.557854e-02 -2.530241e-02  \n",
              "booking_window         3.568475e-02 -2.059895e-02  \n",
              "num_adults             3.687725e-02 -3.511151e-03  \n",
              "num_kids               1.077770e-02  1.815332e-03  \n",
              "num_rooms              3.698540e-02  9.815502e-03  \n",
              "stay_on_saturday      -2.736449e-02  4.127097e-03  \n",
              "log_click_proportion   1.366738e-03  2.341483e-03  \n",
              "distance_to_dest       3.154261e-02 -4.165348e-03  \n",
              "random_sort           -3.436975e-04 -9.011764e-02  \n",
              "clicked                1.839608e-16  7.722741e-01  \n",
              "booking_value          1.000000e+00  9.357241e-17  \n",
              "booked                 9.357241e-17  1.000000e+00  \n",
              "\n",
              "[27 rows x 27 columns]"
            ],
            "text/html": [
              "\n",
              "  <div id=\"df-94c38fdc-075b-4095-9af1-521f096f9697\">\n",
              "    <div class=\"colab-df-container\">\n",
              "      <div>\n",
              "<style scoped>\n",
              "    .dataframe tbody tr th:only-of-type {\n",
              "        vertical-align: middle;\n",
              "    }\n",
              "\n",
              "    .dataframe tbody tr th {\n",
              "        vertical-align: top;\n",
              "    }\n",
              "\n",
              "    .dataframe thead th {\n",
              "        text-align: right;\n",
              "    }\n",
              "</style>\n",
              "<table border=\"1\" class=\"dataframe\">\n",
              "  <thead>\n",
              "    <tr style=\"text-align: right;\">\n",
              "      <th></th>\n",
              "      <th>search_id</th>\n",
              "      <th>site_id</th>\n",
              "      <th>user_country_id</th>\n",
              "      <th>listing_country_id</th>\n",
              "      <th>listing_id</th>\n",
              "      <th>listing_stars</th>\n",
              "      <th>listing_review_score</th>\n",
              "      <th>is_brand</th>\n",
              "      <th>location_score1</th>\n",
              "      <th>location_score2</th>\n",
              "      <th>...</th>\n",
              "      <th>num_adults</th>\n",
              "      <th>num_kids</th>\n",
              "      <th>num_rooms</th>\n",
              "      <th>stay_on_saturday</th>\n",
              "      <th>log_click_proportion</th>\n",
              "      <th>distance_to_dest</th>\n",
              "      <th>random_sort</th>\n",
              "      <th>clicked</th>\n",
              "      <th>booking_value</th>\n",
              "      <th>booked</th>\n",
              "    </tr>\n",
              "  </thead>\n",
              "  <tbody>\n",
              "    <tr>\n",
              "      <th>search_id</th>\n",
              "      <td>1.000000</td>\n",
              "      <td>-0.044020</td>\n",
              "      <td>0.040387</td>\n",
              "      <td>0.030244</td>\n",
              "      <td>0.001989</td>\n",
              "      <td>-0.020650</td>\n",
              "      <td>-0.005408</td>\n",
              "      <td>0.012385</td>\n",
              "      <td>-0.031322</td>\n",
              "      <td>-0.014186</td>\n",
              "      <td>...</td>\n",
              "      <td>0.000587</td>\n",
              "      <td>0.054542</td>\n",
              "      <td>0.013501</td>\n",
              "      <td>0.022743</td>\n",
              "      <td>0.027797</td>\n",
              "      <td>-0.015929</td>\n",
              "      <td>0.009684</td>\n",
              "      <td>-4.379345e-04</td>\n",
              "      <td>-3.786305e-03</td>\n",
              "      <td>-1.135920e-03</td>\n",
              "    </tr>\n",
              "    <tr>\n",
              "      <th>site_id</th>\n",
              "      <td>-0.044020</td>\n",
              "      <td>1.000000</td>\n",
              "      <td>-0.290786</td>\n",
              "      <td>-0.311871</td>\n",
              "      <td>-0.002465</td>\n",
              "      <td>0.182732</td>\n",
              "      <td>-0.063298</td>\n",
              "      <td>-0.199639</td>\n",
              "      <td>0.186989</td>\n",
              "      <td>0.023438</td>\n",
              "      <td>...</td>\n",
              "      <td>-0.011629</td>\n",
              "      <td>0.012556</td>\n",
              "      <td>0.043927</td>\n",
              "      <td>-0.104098</td>\n",
              "      <td>-0.004002</td>\n",
              "      <td>0.214260</td>\n",
              "      <td>0.022809</td>\n",
              "      <td>1.259326e-02</td>\n",
              "      <td>1.891530e-02</td>\n",
              "      <td>-1.923828e-03</td>\n",
              "    </tr>\n",
              "    <tr>\n",
              "      <th>user_country_id</th>\n",
              "      <td>0.040387</td>\n",
              "      <td>-0.290786</td>\n",
              "      <td>1.000000</td>\n",
              "      <td>0.457649</td>\n",
              "      <td>0.008228</td>\n",
              "      <td>-0.111359</td>\n",
              "      <td>0.060100</td>\n",
              "      <td>0.188625</td>\n",
              "      <td>-0.128578</td>\n",
              "      <td>-0.005196</td>\n",
              "      <td>...</td>\n",
              "      <td>0.016789</td>\n",
              "      <td>-0.020951</td>\n",
              "      <td>-0.010883</td>\n",
              "      <td>0.054070</td>\n",
              "      <td>0.027969</td>\n",
              "      <td>-0.016026</td>\n",
              "      <td>-0.035925</td>\n",
              "      <td>-3.557216e-03</td>\n",
              "      <td>-1.796849e-02</td>\n",
              "      <td>3.688708e-03</td>\n",
              "    </tr>\n",
              "    <tr>\n",
              "      <th>listing_country_id</th>\n",
              "      <td>0.030244</td>\n",
              "      <td>-0.311871</td>\n",
              "      <td>0.457649</td>\n",
              "      <td>1.000000</td>\n",
              "      <td>0.008119</td>\n",
              "      <td>-0.193784</td>\n",
              "      <td>0.076763</td>\n",
              "      <td>0.326428</td>\n",
              "      <td>-0.235827</td>\n",
              "      <td>-0.009734</td>\n",
              "      <td>...</td>\n",
              "      <td>0.048191</td>\n",
              "      <td>-0.011143</td>\n",
              "      <td>-0.008806</td>\n",
              "      <td>0.094966</td>\n",
              "      <td>0.020796</td>\n",
              "      <td>-0.290447</td>\n",
              "      <td>-0.002285</td>\n",
              "      <td>-4.440690e-03</td>\n",
              "      <td>-2.396857e-02</td>\n",
              "      <td>1.885721e-03</td>\n",
              "    </tr>\n",
              "    <tr>\n",
              "      <th>listing_id</th>\n",
              "      <td>0.001989</td>\n",
              "      <td>-0.002465</td>\n",
              "      <td>0.008228</td>\n",
              "      <td>0.008119</td>\n",
              "      <td>1.000000</td>\n",
              "      <td>0.000438</td>\n",
              "      <td>0.004966</td>\n",
              "      <td>0.010243</td>\n",
              "      <td>-0.001735</td>\n",
              "      <td>-0.003752</td>\n",
              "      <td>...</td>\n",
              "      <td>-0.000476</td>\n",
              "      <td>-0.001499</td>\n",
              "      <td>-0.001879</td>\n",
              "      <td>-0.000023</td>\n",
              "      <td>0.000393</td>\n",
              "      <td>-0.003011</td>\n",
              "      <td>0.002162</td>\n",
              "      <td>-7.935324e-03</td>\n",
              "      <td>-8.565111e-05</td>\n",
              "      <td>-2.820397e-03</td>\n",
              "    </tr>\n",
              "    <tr>\n",
              "      <th>listing_stars</th>\n",
              "      <td>-0.020650</td>\n",
              "      <td>0.182732</td>\n",
              "      <td>-0.111359</td>\n",
              "      <td>-0.193784</td>\n",
              "      <td>0.000438</td>\n",
              "      <td>1.000000</td>\n",
              "      <td>0.302079</td>\n",
              "      <td>0.020791</td>\n",
              "      <td>0.298688</td>\n",
              "      <td>0.076961</td>\n",
              "      <td>...</td>\n",
              "      <td>0.003021</td>\n",
              "      <td>-0.024414</td>\n",
              "      <td>0.036221</td>\n",
              "      <td>-0.050592</td>\n",
              "      <td>0.001137</td>\n",
              "      <td>0.165676</td>\n",
              "      <td>-0.015256</td>\n",
              "      <td>2.610973e-02</td>\n",
              "      <td>4.680609e-02</td>\n",
              "      <td>2.039754e-02</td>\n",
              "    </tr>\n",
              "    <tr>\n",
              "      <th>listing_review_score</th>\n",
              "      <td>-0.005408</td>\n",
              "      <td>-0.063298</td>\n",
              "      <td>0.060100</td>\n",
              "      <td>0.076763</td>\n",
              "      <td>0.004966</td>\n",
              "      <td>0.302079</td>\n",
              "      <td>1.000000</td>\n",
              "      <td>0.201237</td>\n",
              "      <td>0.105107</td>\n",
              "      <td>0.036112</td>\n",
              "      <td>...</td>\n",
              "      <td>0.028431</td>\n",
              "      <td>-0.000402</td>\n",
              "      <td>0.014561</td>\n",
              "      <td>0.015856</td>\n",
              "      <td>0.014533</td>\n",
              "      <td>-0.037564</td>\n",
              "      <td>-0.047940</td>\n",
              "      <td>2.473329e-02</td>\n",
              "      <td>1.022256e-02</td>\n",
              "      <td>2.614518e-02</td>\n",
              "    </tr>\n",
              "    <tr>\n",
              "      <th>is_brand</th>\n",
              "      <td>0.012385</td>\n",
              "      <td>-0.199639</td>\n",
              "      <td>0.188625</td>\n",
              "      <td>0.326428</td>\n",
              "      <td>0.010243</td>\n",
              "      <td>0.020791</td>\n",
              "      <td>0.201237</td>\n",
              "      <td>1.000000</td>\n",
              "      <td>-0.195669</td>\n",
              "      <td>-0.067446</td>\n",
              "      <td>...</td>\n",
              "      <td>0.019164</td>\n",
              "      <td>0.003672</td>\n",
              "      <td>0.012134</td>\n",
              "      <td>0.068097</td>\n",
              "      <td>-0.003131</td>\n",
              "      <td>-0.170864</td>\n",
              "      <td>-0.031876</td>\n",
              "      <td>-2.714644e-03</td>\n",
              "      <td>-4.869099e-03</td>\n",
              "      <td>9.918063e-03</td>\n",
              "    </tr>\n",
              "    <tr>\n",
              "      <th>location_score1</th>\n",
              "      <td>-0.031322</td>\n",
              "      <td>0.186989</td>\n",
              "      <td>-0.128578</td>\n",
              "      <td>-0.235827</td>\n",
              "      <td>-0.001735</td>\n",
              "      <td>0.298688</td>\n",
              "      <td>0.105107</td>\n",
              "      <td>-0.195669</td>\n",
              "      <td>1.000000</td>\n",
              "      <td>0.379668</td>\n",
              "      <td>...</td>\n",
              "      <td>0.020701</td>\n",
              "      <td>0.004358</td>\n",
              "      <td>0.039680</td>\n",
              "      <td>-0.054732</td>\n",
              "      <td>0.017834</td>\n",
              "      <td>0.188480</td>\n",
              "      <td>-0.012431</td>\n",
              "      <td>9.827060e-04</td>\n",
              "      <td>4.949742e-02</td>\n",
              "      <td>-6.140950e-03</td>\n",
              "    </tr>\n",
              "    <tr>\n",
              "      <th>location_score2</th>\n",
              "      <td>-0.014186</td>\n",
              "      <td>0.023438</td>\n",
              "      <td>-0.005196</td>\n",
              "      <td>-0.009734</td>\n",
              "      <td>-0.003752</td>\n",
              "      <td>0.076961</td>\n",
              "      <td>0.036112</td>\n",
              "      <td>-0.067446</td>\n",
              "      <td>0.379668</td>\n",
              "      <td>1.000000</td>\n",
              "      <td>...</td>\n",
              "      <td>0.021531</td>\n",
              "      <td>-0.050803</td>\n",
              "      <td>-0.002064</td>\n",
              "      <td>0.013212</td>\n",
              "      <td>0.018997</td>\n",
              "      <td>0.017100</td>\n",
              "      <td>0.007502</td>\n",
              "      <td>6.018378e-02</td>\n",
              "      <td>1.215374e-02</td>\n",
              "      <td>6.003515e-02</td>\n",
              "    </tr>\n",
              "    <tr>\n",
              "      <th>log_historical_price</th>\n",
              "      <td>-0.001017</td>\n",
              "      <td>0.049170</td>\n",
              "      <td>-0.047504</td>\n",
              "      <td>-0.074854</td>\n",
              "      <td>-0.000633</td>\n",
              "      <td>0.157915</td>\n",
              "      <td>0.103377</td>\n",
              "      <td>-0.020028</td>\n",
              "      <td>0.117393</td>\n",
              "      <td>0.046238</td>\n",
              "      <td>...</td>\n",
              "      <td>-0.002121</td>\n",
              "      <td>-0.024058</td>\n",
              "      <td>-0.003496</td>\n",
              "      <td>-0.011342</td>\n",
              "      <td>-0.006375</td>\n",
              "      <td>0.069008</td>\n",
              "      <td>-0.012212</td>\n",
              "      <td>7.979206e-03</td>\n",
              "      <td>1.744297e-02</td>\n",
              "      <td>1.716516e-03</td>\n",
              "    </tr>\n",
              "    <tr>\n",
              "      <th>listing_position</th>\n",
              "      <td>0.012586</td>\n",
              "      <td>-0.035915</td>\n",
              "      <td>0.015888</td>\n",
              "      <td>0.017992</td>\n",
              "      <td>0.005808</td>\n",
              "      <td>-0.100072</td>\n",
              "      <td>-0.056556</td>\n",
              "      <td>0.016190</td>\n",
              "      <td>0.008092</td>\n",
              "      <td>-0.149942</td>\n",
              "      <td>...</td>\n",
              "      <td>-0.009743</td>\n",
              "      <td>-0.022325</td>\n",
              "      <td>-0.028664</td>\n",
              "      <td>-0.004957</td>\n",
              "      <td>-0.022922</td>\n",
              "      <td>-0.004718</td>\n",
              "      <td>-0.019370</td>\n",
              "      <td>-1.592685e-01</td>\n",
              "      <td>4.885423e-03</td>\n",
              "      <td>-1.427123e-01</td>\n",
              "    </tr>\n",
              "    <tr>\n",
              "      <th>price_usd</th>\n",
              "      <td>-0.001779</td>\n",
              "      <td>-0.010368</td>\n",
              "      <td>0.003591</td>\n",
              "      <td>-0.032624</td>\n",
              "      <td>0.005162</td>\n",
              "      <td>0.104517</td>\n",
              "      <td>0.054200</td>\n",
              "      <td>-0.004385</td>\n",
              "      <td>0.078928</td>\n",
              "      <td>0.013098</td>\n",
              "      <td>...</td>\n",
              "      <td>0.013790</td>\n",
              "      <td>0.019282</td>\n",
              "      <td>0.047321</td>\n",
              "      <td>-0.012423</td>\n",
              "      <td>0.001461</td>\n",
              "      <td>0.028251</td>\n",
              "      <td>0.010863</td>\n",
              "      <td>-7.883191e-03</td>\n",
              "      <td>1.234089e-02</td>\n",
              "      <td>-7.485665e-03</td>\n",
              "    </tr>\n",
              "    <tr>\n",
              "      <th>has_promotion</th>\n",
              "      <td>0.002872</td>\n",
              "      <td>0.094147</td>\n",
              "      <td>-0.021330</td>\n",
              "      <td>-0.060666</td>\n",
              "      <td>-0.002525</td>\n",
              "      <td>0.179696</td>\n",
              "      <td>0.057195</td>\n",
              "      <td>-0.099949</td>\n",
              "      <td>0.178473</td>\n",
              "      <td>0.036292</td>\n",
              "      <td>...</td>\n",
              "      <td>0.006442</td>\n",
              "      <td>0.006107</td>\n",
              "      <td>0.016869</td>\n",
              "      <td>-0.041249</td>\n",
              "      <td>0.009858</td>\n",
              "      <td>0.065879</td>\n",
              "      <td>-0.028033</td>\n",
              "      <td>3.597941e-02</td>\n",
              "      <td>2.011971e-02</td>\n",
              "      <td>2.923412e-02</td>\n",
              "    </tr>\n",
              "    <tr>\n",
              "      <th>destination_id</th>\n",
              "      <td>0.003971</td>\n",
              "      <td>0.023441</td>\n",
              "      <td>-0.001703</td>\n",
              "      <td>-0.021652</td>\n",
              "      <td>-0.002830</td>\n",
              "      <td>-0.019058</td>\n",
              "      <td>-0.014226</td>\n",
              "      <td>-0.034226</td>\n",
              "      <td>-0.012895</td>\n",
              "      <td>0.023682</td>\n",
              "      <td>...</td>\n",
              "      <td>-0.003594</td>\n",
              "      <td>-0.001528</td>\n",
              "      <td>0.006641</td>\n",
              "      <td>0.015255</td>\n",
              "      <td>-0.001697</td>\n",
              "      <td>-0.006821</td>\n",
              "      <td>0.011069</td>\n",
              "      <td>3.629678e-03</td>\n",
              "      <td>-5.655122e-03</td>\n",
              "      <td>-1.390736e-03</td>\n",
              "    </tr>\n",
              "    <tr>\n",
              "      <th>length_of_stay</th>\n",
              "      <td>-0.025282</td>\n",
              "      <td>0.141798</td>\n",
              "      <td>-0.091610</td>\n",
              "      <td>-0.110688</td>\n",
              "      <td>0.003143</td>\n",
              "      <td>0.093526</td>\n",
              "      <td>-0.037723</td>\n",
              "      <td>-0.111916</td>\n",
              "      <td>0.138861</td>\n",
              "      <td>0.031232</td>\n",
              "      <td>...</td>\n",
              "      <td>0.006710</td>\n",
              "      <td>0.042420</td>\n",
              "      <td>0.008109</td>\n",
              "      <td>-0.300463</td>\n",
              "      <td>-0.000782</td>\n",
              "      <td>0.166383</td>\n",
              "      <td>0.180846</td>\n",
              "      <td>3.233231e-03</td>\n",
              "      <td>8.557854e-02</td>\n",
              "      <td>-2.530241e-02</td>\n",
              "    </tr>\n",
              "    <tr>\n",
              "      <th>booking_window</th>\n",
              "      <td>-0.010558</td>\n",
              "      <td>0.192404</td>\n",
              "      <td>-0.091686</td>\n",
              "      <td>-0.182516</td>\n",
              "      <td>0.002184</td>\n",
              "      <td>0.071160</td>\n",
              "      <td>-0.000367</td>\n",
              "      <td>-0.107234</td>\n",
              "      <td>0.122122</td>\n",
              "      <td>0.035542</td>\n",
              "      <td>...</td>\n",
              "      <td>0.112697</td>\n",
              "      <td>0.073794</td>\n",
              "      <td>0.051379</td>\n",
              "      <td>-0.086788</td>\n",
              "      <td>-0.002296</td>\n",
              "      <td>0.241368</td>\n",
              "      <td>0.143110</td>\n",
              "      <td>-1.585616e-03</td>\n",
              "      <td>3.568475e-02</td>\n",
              "      <td>-2.059895e-02</td>\n",
              "    </tr>\n",
              "    <tr>\n",
              "      <th>num_adults</th>\n",
              "      <td>0.000587</td>\n",
              "      <td>-0.011629</td>\n",
              "      <td>0.016789</td>\n",
              "      <td>0.048191</td>\n",
              "      <td>-0.000476</td>\n",
              "      <td>0.003021</td>\n",
              "      <td>0.028431</td>\n",
              "      <td>0.019164</td>\n",
              "      <td>0.020701</td>\n",
              "      <td>0.021531</td>\n",
              "      <td>...</td>\n",
              "      <td>1.000000</td>\n",
              "      <td>0.058567</td>\n",
              "      <td>0.414350</td>\n",
              "      <td>0.084854</td>\n",
              "      <td>0.042886</td>\n",
              "      <td>-0.044913</td>\n",
              "      <td>0.055696</td>\n",
              "      <td>5.303708e-03</td>\n",
              "      <td>3.687725e-02</td>\n",
              "      <td>-3.511151e-03</td>\n",
              "    </tr>\n",
              "    <tr>\n",
              "      <th>num_kids</th>\n",
              "      <td>0.054542</td>\n",
              "      <td>0.012556</td>\n",
              "      <td>-0.020951</td>\n",
              "      <td>-0.011143</td>\n",
              "      <td>-0.001499</td>\n",
              "      <td>-0.024414</td>\n",
              "      <td>-0.000402</td>\n",
              "      <td>0.003672</td>\n",
              "      <td>0.004358</td>\n",
              "      <td>-0.050803</td>\n",
              "      <td>...</td>\n",
              "      <td>0.058567</td>\n",
              "      <td>1.000000</td>\n",
              "      <td>0.103030</td>\n",
              "      <td>-0.019176</td>\n",
              "      <td>0.008969</td>\n",
              "      <td>0.010295</td>\n",
              "      <td>0.022313</td>\n",
              "      <td>2.667226e-03</td>\n",
              "      <td>1.077770e-02</td>\n",
              "      <td>1.815332e-03</td>\n",
              "    </tr>\n",
              "    <tr>\n",
              "      <th>num_rooms</th>\n",
              "      <td>0.013501</td>\n",
              "      <td>0.043927</td>\n",
              "      <td>-0.010883</td>\n",
              "      <td>-0.008806</td>\n",
              "      <td>-0.001879</td>\n",
              "      <td>0.036221</td>\n",
              "      <td>0.014561</td>\n",
              "      <td>0.012134</td>\n",
              "      <td>0.039680</td>\n",
              "      <td>-0.002064</td>\n",
              "      <td>...</td>\n",
              "      <td>0.414350</td>\n",
              "      <td>0.103030</td>\n",
              "      <td>1.000000</td>\n",
              "      <td>-0.024455</td>\n",
              "      <td>0.025505</td>\n",
              "      <td>0.015302</td>\n",
              "      <td>-0.002420</td>\n",
              "      <td>6.766920e-03</td>\n",
              "      <td>3.698540e-02</td>\n",
              "      <td>9.815502e-03</td>\n",
              "    </tr>\n",
              "    <tr>\n",
              "      <th>stay_on_saturday</th>\n",
              "      <td>0.022743</td>\n",
              "      <td>-0.104098</td>\n",
              "      <td>0.054070</td>\n",
              "      <td>0.094966</td>\n",
              "      <td>-0.000023</td>\n",
              "      <td>-0.050592</td>\n",
              "      <td>0.015856</td>\n",
              "      <td>0.068097</td>\n",
              "      <td>-0.054732</td>\n",
              "      <td>0.013212</td>\n",
              "      <td>...</td>\n",
              "      <td>0.084854</td>\n",
              "      <td>-0.019176</td>\n",
              "      <td>-0.024455</td>\n",
              "      <td>1.000000</td>\n",
              "      <td>-0.016786</td>\n",
              "      <td>-0.161646</td>\n",
              "      <td>-0.003945</td>\n",
              "      <td>-1.067839e-03</td>\n",
              "      <td>-2.736449e-02</td>\n",
              "      <td>4.127097e-03</td>\n",
              "    </tr>\n",
              "    <tr>\n",
              "      <th>log_click_proportion</th>\n",
              "      <td>0.027797</td>\n",
              "      <td>-0.004002</td>\n",
              "      <td>0.027969</td>\n",
              "      <td>0.020796</td>\n",
              "      <td>0.000393</td>\n",
              "      <td>0.001137</td>\n",
              "      <td>0.014533</td>\n",
              "      <td>-0.003131</td>\n",
              "      <td>0.017834</td>\n",
              "      <td>0.018997</td>\n",
              "      <td>...</td>\n",
              "      <td>0.042886</td>\n",
              "      <td>0.008969</td>\n",
              "      <td>0.025505</td>\n",
              "      <td>-0.016786</td>\n",
              "      <td>1.000000</td>\n",
              "      <td>0.003895</td>\n",
              "      <td>0.049549</td>\n",
              "      <td>7.917743e-03</td>\n",
              "      <td>1.366738e-03</td>\n",
              "      <td>2.341483e-03</td>\n",
              "    </tr>\n",
              "    <tr>\n",
              "      <th>distance_to_dest</th>\n",
              "      <td>-0.015929</td>\n",
              "      <td>0.214260</td>\n",
              "      <td>-0.016026</td>\n",
              "      <td>-0.290447</td>\n",
              "      <td>-0.003011</td>\n",
              "      <td>0.165676</td>\n",
              "      <td>-0.037564</td>\n",
              "      <td>-0.170864</td>\n",
              "      <td>0.188480</td>\n",
              "      <td>0.017100</td>\n",
              "      <td>...</td>\n",
              "      <td>-0.044913</td>\n",
              "      <td>0.010295</td>\n",
              "      <td>0.015302</td>\n",
              "      <td>-0.161646</td>\n",
              "      <td>0.003895</td>\n",
              "      <td>1.000000</td>\n",
              "      <td>0.010369</td>\n",
              "      <td>2.473587e-03</td>\n",
              "      <td>3.154261e-02</td>\n",
              "      <td>-4.165348e-03</td>\n",
              "    </tr>\n",
              "    <tr>\n",
              "      <th>random_sort</th>\n",
              "      <td>0.009684</td>\n",
              "      <td>0.022809</td>\n",
              "      <td>-0.035925</td>\n",
              "      <td>-0.002285</td>\n",
              "      <td>0.002162</td>\n",
              "      <td>-0.015256</td>\n",
              "      <td>-0.047940</td>\n",
              "      <td>-0.031876</td>\n",
              "      <td>-0.012431</td>\n",
              "      <td>0.007502</td>\n",
              "      <td>...</td>\n",
              "      <td>0.055696</td>\n",
              "      <td>0.022313</td>\n",
              "      <td>-0.002420</td>\n",
              "      <td>-0.003945</td>\n",
              "      <td>0.049549</td>\n",
              "      <td>0.010369</td>\n",
              "      <td>1.000000</td>\n",
              "      <td>5.776925e-03</td>\n",
              "      <td>-3.436975e-04</td>\n",
              "      <td>-9.011764e-02</td>\n",
              "    </tr>\n",
              "    <tr>\n",
              "      <th>clicked</th>\n",
              "      <td>-0.000438</td>\n",
              "      <td>0.012593</td>\n",
              "      <td>-0.003557</td>\n",
              "      <td>-0.004441</td>\n",
              "      <td>-0.007935</td>\n",
              "      <td>0.026110</td>\n",
              "      <td>0.024733</td>\n",
              "      <td>-0.002715</td>\n",
              "      <td>0.000983</td>\n",
              "      <td>0.060184</td>\n",
              "      <td>...</td>\n",
              "      <td>0.005304</td>\n",
              "      <td>0.002667</td>\n",
              "      <td>0.006767</td>\n",
              "      <td>-0.001068</td>\n",
              "      <td>0.007918</td>\n",
              "      <td>0.002474</td>\n",
              "      <td>0.005777</td>\n",
              "      <td>1.000000e+00</td>\n",
              "      <td>1.839608e-16</td>\n",
              "      <td>7.722741e-01</td>\n",
              "    </tr>\n",
              "    <tr>\n",
              "      <th>booking_value</th>\n",
              "      <td>-0.003786</td>\n",
              "      <td>0.018915</td>\n",
              "      <td>-0.017968</td>\n",
              "      <td>-0.023969</td>\n",
              "      <td>-0.000086</td>\n",
              "      <td>0.046806</td>\n",
              "      <td>0.010223</td>\n",
              "      <td>-0.004869</td>\n",
              "      <td>0.049497</td>\n",
              "      <td>0.012154</td>\n",
              "      <td>...</td>\n",
              "      <td>0.036877</td>\n",
              "      <td>0.010778</td>\n",
              "      <td>0.036985</td>\n",
              "      <td>-0.027364</td>\n",
              "      <td>0.001367</td>\n",
              "      <td>0.031543</td>\n",
              "      <td>-0.000344</td>\n",
              "      <td>1.839608e-16</td>\n",
              "      <td>1.000000e+00</td>\n",
              "      <td>9.357241e-17</td>\n",
              "    </tr>\n",
              "    <tr>\n",
              "      <th>booked</th>\n",
              "      <td>-0.001136</td>\n",
              "      <td>-0.001924</td>\n",
              "      <td>0.003689</td>\n",
              "      <td>0.001886</td>\n",
              "      <td>-0.002820</td>\n",
              "      <td>0.020398</td>\n",
              "      <td>0.026145</td>\n",
              "      <td>0.009918</td>\n",
              "      <td>-0.006141</td>\n",
              "      <td>0.060035</td>\n",
              "      <td>...</td>\n",
              "      <td>-0.003511</td>\n",
              "      <td>0.001815</td>\n",
              "      <td>0.009816</td>\n",
              "      <td>0.004127</td>\n",
              "      <td>0.002341</td>\n",
              "      <td>-0.004165</td>\n",
              "      <td>-0.090118</td>\n",
              "      <td>7.722741e-01</td>\n",
              "      <td>9.357241e-17</td>\n",
              "      <td>1.000000e+00</td>\n",
              "    </tr>\n",
              "  </tbody>\n",
              "</table>\n",
              "<p>27 rows × 27 columns</p>\n",
              "</div>\n",
              "      <button class=\"colab-df-convert\" onclick=\"convertToInteractive('df-94c38fdc-075b-4095-9af1-521f096f9697')\"\n",
              "              title=\"Convert this dataframe to an interactive table.\"\n",
              "              style=\"display:none;\">\n",
              "        \n",
              "  <svg xmlns=\"http://www.w3.org/2000/svg\" height=\"24px\"viewBox=\"0 0 24 24\"\n",
              "       width=\"24px\">\n",
              "    <path d=\"M0 0h24v24H0V0z\" fill=\"none\"/>\n",
              "    <path d=\"M18.56 5.44l.94 2.06.94-2.06 2.06-.94-2.06-.94-.94-2.06-.94 2.06-2.06.94zm-11 1L8.5 8.5l.94-2.06 2.06-.94-2.06-.94L8.5 2.5l-.94 2.06-2.06.94zm10 10l.94 2.06.94-2.06 2.06-.94-2.06-.94-.94-2.06-.94 2.06-2.06.94z\"/><path d=\"M17.41 7.96l-1.37-1.37c-.4-.4-.92-.59-1.43-.59-.52 0-1.04.2-1.43.59L10.3 9.45l-7.72 7.72c-.78.78-.78 2.05 0 2.83L4 21.41c.39.39.9.59 1.41.59.51 0 1.02-.2 1.41-.59l7.78-7.78 2.81-2.81c.8-.78.8-2.07 0-2.86zM5.41 20L4 18.59l7.72-7.72 1.47 1.35L5.41 20z\"/>\n",
              "  </svg>\n",
              "      </button>\n",
              "      \n",
              "  <style>\n",
              "    .colab-df-container {\n",
              "      display:flex;\n",
              "      flex-wrap:wrap;\n",
              "      gap: 12px;\n",
              "    }\n",
              "\n",
              "    .colab-df-convert {\n",
              "      background-color: #E8F0FE;\n",
              "      border: none;\n",
              "      border-radius: 50%;\n",
              "      cursor: pointer;\n",
              "      display: none;\n",
              "      fill: #1967D2;\n",
              "      height: 32px;\n",
              "      padding: 0 0 0 0;\n",
              "      width: 32px;\n",
              "    }\n",
              "\n",
              "    .colab-df-convert:hover {\n",
              "      background-color: #E2EBFA;\n",
              "      box-shadow: 0px 1px 2px rgba(60, 64, 67, 0.3), 0px 1px 3px 1px rgba(60, 64, 67, 0.15);\n",
              "      fill: #174EA6;\n",
              "    }\n",
              "\n",
              "    [theme=dark] .colab-df-convert {\n",
              "      background-color: #3B4455;\n",
              "      fill: #D2E3FC;\n",
              "    }\n",
              "\n",
              "    [theme=dark] .colab-df-convert:hover {\n",
              "      background-color: #434B5C;\n",
              "      box-shadow: 0px 1px 3px 1px rgba(0, 0, 0, 0.15);\n",
              "      filter: drop-shadow(0px 1px 2px rgba(0, 0, 0, 0.3));\n",
              "      fill: #FFFFFF;\n",
              "    }\n",
              "  </style>\n",
              "\n",
              "      <script>\n",
              "        const buttonEl =\n",
              "          document.querySelector('#df-94c38fdc-075b-4095-9af1-521f096f9697 button.colab-df-convert');\n",
              "        buttonEl.style.display =\n",
              "          google.colab.kernel.accessAllowed ? 'block' : 'none';\n",
              "\n",
              "        async function convertToInteractive(key) {\n",
              "          const element = document.querySelector('#df-94c38fdc-075b-4095-9af1-521f096f9697');\n",
              "          const dataTable =\n",
              "            await google.colab.kernel.invokeFunction('convertToInteractive',\n",
              "                                                     [key], {});\n",
              "          if (!dataTable) return;\n",
              "\n",
              "          const docLinkHtml = 'Like what you see? Visit the ' +\n",
              "            '<a target=\"_blank\" href=https://colab.research.google.com/notebooks/data_table.ipynb>data table notebook</a>'\n",
              "            + ' to learn more about interactive tables.';\n",
              "          element.innerHTML = '';\n",
              "          dataTable['output_type'] = 'display_data';\n",
              "          await google.colab.output.renderOutput(dataTable, element);\n",
              "          const docLink = document.createElement('div');\n",
              "          docLink.innerHTML = docLinkHtml;\n",
              "          element.appendChild(docLink);\n",
              "        }\n",
              "      </script>\n",
              "    </div>\n",
              "  </div>\n",
              "  "
            ]
          },
          "metadata": {},
          "execution_count": 23
        }
      ]
    },
    {
      "cell_type": "code",
      "source": [
        "X = df.drop(\"clicked\", axis=\"columns\")\n",
        "y = df[\"clicked\"]\n"
      ],
      "metadata": {
        "id": "y2-TIS5trdO3"
      },
      "execution_count": 24,
      "outputs": []
    },
    {
      "cell_type": "code",
      "source": [
        "from sklearn.model_selection import train_test_split\n",
        "\n",
        "X_train, X_test, y_train, y_test = train_test_split(X, y, test_size=0.2, random_state=1)\n",
        "\n",
        "\n"
      ],
      "metadata": {
        "id": "9j6uboyaru3e"
      },
      "execution_count": 25,
      "outputs": []
    },
    {
      "cell_type": "markdown",
      "source": [
        "Linear Regression"
      ],
      "metadata": {
        "id": "jr96qJj9yomQ"
      }
    },
    {
      "cell_type": "code",
      "source": [
        "from sklearn.linear_model import LinearRegression\n",
        "\n",
        "lr = LinearRegression()\n",
        "\n",
        "lr.fit(X_train, y_train)\n",
        "\n",
        "Y_pred = lr.predict(X_test)\n",
        "\n",
        "acc_log = round(lr.score(X_train, y_train) * 100, 2)\n",
        "\n",
        "acc_log"
      ],
      "metadata": {
        "colab": {
          "base_uri": "https://localhost:8080/"
        },
        "id": "bxkHN2-Yr31V",
        "outputId": "81b1f1ed-bc18-41ac-a780-add6e6c5643d"
      },
      "execution_count": 26,
      "outputs": [
        {
          "output_type": "execute_result",
          "data": {
            "text/plain": [
              "58.73"
            ]
          },
          "metadata": {},
          "execution_count": 26
        }
      ]
    },
    {
      "cell_type": "code",
      "source": [
        "from sklearn.preprocessing import StandardScaler\n",
        "scaler=StandardScaler()\n",
        "scaler.fit(X_train)\n",
        "X_train_scaled=scaler.transform(X_train)"
      ],
      "metadata": {
        "id": "_2ffCqKqqZ_E"
      },
      "execution_count": 27,
      "outputs": []
    },
    {
      "cell_type": "code",
      "source": [
        "X_train_scaled"
      ],
      "metadata": {
        "colab": {
          "base_uri": "https://localhost:8080/"
        },
        "id": "E6eVcJOxv7y0",
        "outputId": "09adea20-e273-4c4d-eb4c-22bed6a2132b"
      },
      "execution_count": 28,
      "outputs": [
        {
          "output_type": "execute_result",
          "data": {
            "text/plain": [
              "array([[ 1.09228299, -0.63853659,  0.64348671, ..., -0.65883646,\n",
              "        -0.00213234, -0.16411214],\n",
              "       [-0.87612754, -0.63853659,  0.64348671, ..., -0.65883646,\n",
              "        -0.00213234, -0.16411214],\n",
              "       [-0.2782819 , -0.63853659,  0.64348671, ..., -0.65883646,\n",
              "        -0.00213234, -0.16411214],\n",
              "       ...,\n",
              "       [-1.0946725 ,  0.66247836, -1.82011569, ..., -0.65883646,\n",
              "        -0.00213234, -0.16411214],\n",
              "       [-0.00684191,  1.05278285, -1.80509372, ..., -0.65883646,\n",
              "        -0.00213234, -0.16411214],\n",
              "       [ 1.59695054, -0.63853659,  0.64348671, ...,  1.51782735,\n",
              "        -0.00213234, -0.16411214]])"
            ]
          },
          "metadata": {},
          "execution_count": 28
        }
      ]
    },
    {
      "cell_type": "markdown",
      "source": [
        "Logistic Regression"
      ],
      "metadata": {
        "id": "naJHQ0bHy6tT"
      }
    },
    {
      "cell_type": "code",
      "source": [
        "from sklearn.linear_model import LogisticRegression\n",
        "\n",
        "logreg = LogisticRegression(max_iter=1000)\n",
        "\n",
        "logreg.fit(X_train_scaled, y_train)\n",
        "\n",
        "Y_pred = logreg.predict(X_test)\n"
      ],
      "metadata": {
        "colab": {
          "base_uri": "https://localhost:8080/"
        },
        "id": "mpidKBubwUKl",
        "outputId": "d89999a7-95c4-4739-ee9d-edf1edbd0dea"
      },
      "execution_count": 29,
      "outputs": [
        {
          "output_type": "stream",
          "name": "stderr",
          "text": [
            "/usr/local/lib/python3.7/dist-packages/sklearn/base.py:444: UserWarning: X has feature names, but LogisticRegression was fitted without feature names\n",
            "  f\"X has feature names, but {self.__class__.__name__} was fitted without\"\n"
          ]
        }
      ]
    },
    {
      "cell_type": "code",
      "source": [
        "from sklearn.metrics import accuracy_score\n",
        "\n",
        "\n",
        "accuracy_score(y_test, Y_pred)"
      ],
      "metadata": {
        "colab": {
          "base_uri": "https://localhost:8080/"
        },
        "id": "hCMIzq40xuE5",
        "outputId": "737a5ad5-aa51-4ae6-84a4-fae4953bf723"
      },
      "execution_count": 30,
      "outputs": [
        {
          "output_type": "execute_result",
          "data": {
            "text/plain": [
              "0.9111924925612268"
            ]
          },
          "metadata": {},
          "execution_count": 30
        }
      ]
    },
    {
      "cell_type": "code",
      "source": [
        "from sklearn.metrics import confusion_matrix\n",
        "\n",
        "conf_mtx_nb =confusion_matrix(y_test, Y_pred)\n",
        "\n",
        "conf_mtx_nb\n"
      ],
      "metadata": {
        "colab": {
          "base_uri": "https://localhost:8080/"
        },
        "id": "x9FunANHyDnw",
        "outputId": "dada33f3-dde8-4e1e-f526-f5b09acd5914"
      },
      "execution_count": 31,
      "outputs": [
        {
          "output_type": "execute_result",
          "data": {
            "text/plain": [
              "array([[11909,   570],\n",
              "       [  594,    34]])"
            ]
          },
          "metadata": {},
          "execution_count": 31
        }
      ]
    },
    {
      "cell_type": "code",
      "source": [
        "from sklearn.metrics import classification_report\n",
        "\n",
        "print(classification_report(y_test, Y_pred)) "
      ],
      "metadata": {
        "colab": {
          "base_uri": "https://localhost:8080/"
        },
        "id": "XSY8MyT9yKFE",
        "outputId": "9b232f8d-7650-487b-9823-e776d4a17487"
      },
      "execution_count": 32,
      "outputs": [
        {
          "output_type": "stream",
          "name": "stdout",
          "text": [
            "              precision    recall  f1-score   support\n",
            "\n",
            "           0       0.95      0.95      0.95     12479\n",
            "           1       0.06      0.05      0.06       628\n",
            "\n",
            "    accuracy                           0.91     13107\n",
            "   macro avg       0.50      0.50      0.50     13107\n",
            "weighted avg       0.91      0.91      0.91     13107\n",
            "\n"
          ]
        }
      ]
    },
    {
      "cell_type": "code",
      "source": [
        "from sklearn.model_selection import cross_val_score\n",
        "\n",
        "np.mean(cross_val_score(LogisticRegression(),X,y,cv=2,scoring=\"accuracy\"))"
      ],
      "metadata": {
        "colab": {
          "base_uri": "https://localhost:8080/"
        },
        "id": "Wi1eONy2yPVO",
        "outputId": "11833a91-4b15-4d48-db8b-598fb3a69d3e"
      },
      "execution_count": 33,
      "outputs": [
        {
          "output_type": "stream",
          "name": "stderr",
          "text": [
            "/usr/local/lib/python3.7/dist-packages/sklearn/linear_model/_logistic.py:818: ConvergenceWarning: lbfgs failed to converge (status=1):\n",
            "STOP: TOTAL NO. of ITERATIONS REACHED LIMIT.\n",
            "\n",
            "Increase the number of iterations (max_iter) or scale the data as shown in:\n",
            "    https://scikit-learn.org/stable/modules/preprocessing.html\n",
            "Please also refer to the documentation for alternative solver options:\n",
            "    https://scikit-learn.org/stable/modules/linear_model.html#logistic-regression\n",
            "  extra_warning_msg=_LOGISTIC_SOLVER_CONVERGENCE_MSG,\n",
            "/usr/local/lib/python3.7/dist-packages/sklearn/linear_model/_logistic.py:818: ConvergenceWarning: lbfgs failed to converge (status=1):\n",
            "STOP: TOTAL NO. of ITERATIONS REACHED LIMIT.\n",
            "\n",
            "Increase the number of iterations (max_iter) or scale the data as shown in:\n",
            "    https://scikit-learn.org/stable/modules/preprocessing.html\n",
            "Please also refer to the documentation for alternative solver options:\n",
            "    https://scikit-learn.org/stable/modules/linear_model.html#logistic-regression\n",
            "  extra_warning_msg=_LOGISTIC_SOLVER_CONVERGENCE_MSG,\n"
          ]
        },
        {
          "output_type": "execute_result",
          "data": {
            "text/plain": [
              "0.954787518342399"
            ]
          },
          "metadata": {},
          "execution_count": 33
        }
      ]
    },
    {
      "cell_type": "code",
      "source": [
        "from sklearn.metrics import roc_curve\n",
        "fpr, tpr, thresholds = roc_curve(y_test,Y_pred)\n",
        "# create plot\n",
        "plt.plot(fpr, tpr, label='ROC curve')\n",
        "plt.plot([0, 1], [0, 1], 'k--', label='Random guess')\n",
        "_ = plt.xlabel('False Positive rate')\n",
        "_ = plt.ylabel('True Positive rate')\n",
        "_ = plt.title('ROC Curve')\n",
        "_ = plt.xlim([-0.02, 1])\n",
        "_ = plt.ylim([0, 1.02])\n",
        "_ = plt.legend(loc=\"lower right\")"
      ],
      "metadata": {
        "colab": {
          "base_uri": "https://localhost:8080/",
          "height": 295
        },
        "id": "-j8XN98SyYIM",
        "outputId": "72560686-28d7-455e-81b3-9bb4374463d0"
      },
      "execution_count": 34,
      "outputs": [
        {
          "output_type": "display_data",
          "data": {
            "text/plain": [
              "<Figure size 432x288 with 1 Axes>"
            ],
            "image/png": "[encoded data removed]"
          },
          "metadata": {
            "needs_background": "light"
          }
        }
      ]
    },
    {
      "cell_type": "markdown",
      "source": [
        "Multicollinearity Detection\n"
      ],
      "metadata": {
        "id": "U2DswqyrzDFd"
      }
    },
    {
      "cell_type": "code",
      "source": [
        "import statsmodels.api as sma\n",
        "from statsmodels.stats.outliers_influence  import  variance_inflation_factor\n",
        "\n"
      ],
      "metadata": {
        "id": "vVdj0DFXzA3H",
        "colab": {
          "base_uri": "https://localhost:8080/"
        },
        "outputId": "5a64e7f5-ae04-4c3c-f1df-2f260474bc9b"
      },
      "execution_count": 35,
      "outputs": [
        {
          "output_type": "stream",
          "name": "stderr",
          "text": [
            "/usr/local/lib/python3.7/dist-packages/statsmodels/tools/_testing.py:19: FutureWarning: pandas.util.testing is deprecated. Use the functions in the public API at pandas.testing instead.\n",
            "  import pandas.util.testing as tm\n"
          ]
        }
      ]
    },
    {
      "cell_type": "code",
      "source": [
        "def vif_arr(df):\n",
        "      vif=pd.DataFrame()\n",
        "      df=sma.add_constant(df)\n",
        "      vif[\"variables\"]=df.columns\n",
        "      vif[\"VIF\"]=[variance_inflation_factor(df.values,i)for i in range(df.shape[1])]\n",
        "   \n",
        "      return(vif)\n",
        "      vif_arr(df)\n"
      ],
      "metadata": {
        "id": "m63WrxTp5fQX"
      },
      "execution_count": 36,
      "outputs": []
    },
    {
      "cell_type": "code",
      "source": [
        "vif_arr(df)"
      ],
      "metadata": {
        "colab": {
          "base_uri": "https://localhost:8080/",
          "height": 982
        },
        "id": "UINqlDtI6f6v",
        "outputId": "979e926f-a1f0-4b8a-a643-45c756b22112"
      },
      "execution_count": 37,
      "outputs": [
        {
          "output_type": "stream",
          "name": "stderr",
          "text": [
            "/usr/local/lib/python3.7/dist-packages/statsmodels/tsa/tsatools.py:117: FutureWarning: In a future version of pandas all arguments of concat except for the argument 'objs' will be keyword-only\n",
            "  x = pd.concat(x[::order], 1)\n"
          ]
        },
        {
          "output_type": "execute_result",
          "data": {
            "text/plain": [
              "               variables         VIF\n",
              "0                  const  130.001016\n",
              "1              search_id    1.008492\n",
              "2                site_id    1.239033\n",
              "3        user_country_id    1.353776\n",
              "4     listing_country_id    1.571980\n",
              "5             listing_id    1.000372\n",
              "6          listing_stars    1.326211\n",
              "7   listing_review_score    1.185194\n",
              "8               is_brand    1.226611\n",
              "9        location_score1    1.449237\n",
              "10       location_score2    1.230892\n",
              "11  log_historical_price    1.046766\n",
              "12      listing_position    1.082457\n",
              "13             price_usd    1.020699\n",
              "14         has_promotion    1.084035\n",
              "15        destination_id    1.006070\n",
              "16        length_of_stay    1.258168\n",
              "17        booking_window    1.202717\n",
              "18            num_adults    1.252198\n",
              "19              num_kids    1.026690\n",
              "20             num_rooms    1.232567\n",
              "21      stay_on_saturday    1.134620\n",
              "22  log_click_proportion    1.008112\n",
              "23      distance_to_dest    1.239637\n",
              "24           random_sort    1.084321\n",
              "25               clicked    2.530546\n",
              "26         booking_value    1.012133\n",
              "27                booked    2.540720"
            ],
            "text/html": [
              "\n",
              "  <div id=\"df-c0af47c9-6b11-4939-aa22-f97eb33d5442\">\n",
              "    <div class=\"colab-df-container\">\n",
              "      <div>\n",
              "<style scoped>\n",
              "    .dataframe tbody tr th:only-of-type {\n",
              "        vertical-align: middle;\n",
              "    }\n",
              "\n",
              "    .dataframe tbody tr th {\n",
              "        vertical-align: top;\n",
              "    }\n",
              "\n",
              "    .dataframe thead th {\n",
              "        text-align: right;\n",
              "    }\n",
              "</style>\n",
              "<table border=\"1\" class=\"dataframe\">\n",
              "  <thead>\n",
              "    <tr style=\"text-align: right;\">\n",
              "      <th></th>\n",
              "      <th>variables</th>\n",
              "      <th>VIF</th>\n",
              "    </tr>\n",
              "  </thead>\n",
              "  <tbody>\n",
              "    <tr>\n",
              "      <th>0</th>\n",
              "      <td>const</td>\n",
              "      <td>130.001016</td>\n",
              "    </tr>\n",
              "    <tr>\n",
              "      <th>1</th>\n",
              "      <td>search_id</td>\n",
              "      <td>1.008492</td>\n",
              "    </tr>\n",
              "    <tr>\n",
              "      <th>2</th>\n",
              "      <td>site_id</td>\n",
              "      <td>1.239033</td>\n",
              "    </tr>\n",
              "    <tr>\n",
              "      <th>3</th>\n",
              "      <td>user_country_id</td>\n",
              "      <td>1.353776</td>\n",
              "    </tr>\n",
              "    <tr>\n",
              "      <th>4</th>\n",
              "      <td>listing_country_id</td>\n",
              "      <td>1.571980</td>\n",
              "    </tr>\n",
              "    <tr>\n",
              "      <th>5</th>\n",
              "      <td>listing_id</td>\n",
              "      <td>1.000372</td>\n",
              "    </tr>\n",
              "    <tr>\n",
              "      <th>6</th>\n",
              "      <td>listing_stars</td>\n",
              "      <td>1.326211</td>\n",
              "    </tr>\n",
              "    <tr>\n",
              "      <th>7</th>\n",
              "      <td>listing_review_score</td>\n",
              "      <td>1.185194</td>\n",
              "    </tr>\n",
              "    <tr>\n",
              "      <th>8</th>\n",
              "      <td>is_brand</td>\n",
              "      <td>1.226611</td>\n",
              "    </tr>\n",
              "    <tr>\n",
              "      <th>9</th>\n",
              "      <td>location_score1</td>\n",
              "      <td>1.449237</td>\n",
              "    </tr>\n",
              "    <tr>\n",
              "      <th>10</th>\n",
              "      <td>location_score2</td>\n",
              "      <td>1.230892</td>\n",
              "    </tr>\n",
              "    <tr>\n",
              "      <th>11</th>\n",
              "      <td>log_historical_price</td>\n",
              "      <td>1.046766</td>\n",
              "    </tr>\n",
              "    <tr>\n",
              "      <th>12</th>\n",
              "      <td>listing_position</td>\n",
              "      <td>1.082457</td>\n",
              "    </tr>\n",
              "    <tr>\n",
              "      <th>13</th>\n",
              "      <td>price_usd</td>\n",
              "      <td>1.020699</td>\n",
              "    </tr>\n",
              "    <tr>\n",
              "      <th>14</th>\n",
              "      <td>has_promotion</td>\n",
              "      <td>1.084035</td>\n",
              "    </tr>\n",
              "    <tr>\n",
              "      <th>15</th>\n",
              "      <td>destination_id</td>\n",
              "      <td>1.006070</td>\n",
              "    </tr>\n",
              "    <tr>\n",
              "      <th>16</th>\n",
              "      <td>length_of_stay</td>\n",
              "      <td>1.258168</td>\n",
              "    </tr>\n",
              "    <tr>\n",
              "      <th>17</th>\n",
              "      <td>booking_window</td>\n",
              "      <td>1.202717</td>\n",
              "    </tr>\n",
              "    <tr>\n",
              "      <th>18</th>\n",
              "      <td>num_adults</td>\n",
              "      <td>1.252198</td>\n",
              "    </tr>\n",
              "    <tr>\n",
              "      <th>19</th>\n",
              "      <td>num_kids</td>\n",
              "      <td>1.026690</td>\n",
              "    </tr>\n",
              "    <tr>\n",
              "      <th>20</th>\n",
              "      <td>num_rooms</td>\n",
              "      <td>1.232567</td>\n",
              "    </tr>\n",
              "    <tr>\n",
              "      <th>21</th>\n",
              "      <td>stay_on_saturday</td>\n",
              "      <td>1.134620</td>\n",
              "    </tr>\n",
              "    <tr>\n",
              "      <th>22</th>\n",
              "      <td>log_click_proportion</td>\n",
              "      <td>1.008112</td>\n",
              "    </tr>\n",
              "    <tr>\n",
              "      <th>23</th>\n",
              "      <td>distance_to_dest</td>\n",
              "      <td>1.239637</td>\n",
              "    </tr>\n",
              "    <tr>\n",
              "      <th>24</th>\n",
              "      <td>random_sort</td>\n",
              "      <td>1.084321</td>\n",
              "    </tr>\n",
              "    <tr>\n",
              "      <th>25</th>\n",
              "      <td>clicked</td>\n",
              "      <td>2.530546</td>\n",
              "    </tr>\n",
              "    <tr>\n",
              "      <th>26</th>\n",
              "      <td>booking_value</td>\n",
              "      <td>1.012133</td>\n",
              "    </tr>\n",
              "    <tr>\n",
              "      <th>27</th>\n",
              "      <td>booked</td>\n",
              "      <td>2.540720</td>\n",
              "    </tr>\n",
              "  </tbody>\n",
              "</table>\n",
              "</div>\n",
              "      <button class=\"colab-df-convert\" onclick=\"convertToInteractive('df-c0af47c9-6b11-4939-aa22-f97eb33d5442')\"\n",
              "              title=\"Convert this dataframe to an interactive table.\"\n",
              "              style=\"display:none;\">\n",
              "        \n",
              "  <svg xmlns=\"http://www.w3.org/2000/svg\" height=\"24px\"viewBox=\"0 0 24 24\"\n",
              "       width=\"24px\">\n",
              "    <path d=\"M0 0h24v24H0V0z\" fill=\"none\"/>\n",
              "    <path d=\"M18.56 5.44l.94 2.06.94-2.06 2.06-.94-2.06-.94-.94-2.06-.94 2.06-2.06.94zm-11 1L8.5 8.5l.94-2.06 2.06-.94-2.06-.94L8.5 2.5l-.94 2.06-2.06.94zm10 10l.94 2.06.94-2.06 2.06-.94-2.06-.94-.94-2.06-.94 2.06-2.06.94z\"/><path d=\"M17.41 7.96l-1.37-1.37c-.4-.4-.92-.59-1.43-.59-.52 0-1.04.2-1.43.59L10.3 9.45l-7.72 7.72c-.78.78-.78 2.05 0 2.83L4 21.41c.39.39.9.59 1.41.59.51 0 1.02-.2 1.41-.59l7.78-7.78 2.81-2.81c.8-.78.8-2.07 0-2.86zM5.41 20L4 18.59l7.72-7.72 1.47 1.35L5.41 20z\"/>\n",
              "  </svg>\n",
              "      </button>\n",
              "      \n",
              "  <style>\n",
              "    .colab-df-container {\n",
              "      display:flex;\n",
              "      flex-wrap:wrap;\n",
              "      gap: 12px;\n",
              "    }\n",
              "\n",
              "    .colab-df-convert {\n",
              "      background-color: #E8F0FE;\n",
              "      border: none;\n",
              "      border-radius: 50%;\n",
              "      cursor: pointer;\n",
              "      display: none;\n",
              "      fill: #1967D2;\n",
              "      height: 32px;\n",
              "      padding: 0 0 0 0;\n",
              "      width: 32px;\n",
              "    }\n",
              "\n",
              "    .colab-df-convert:hover {\n",
              "      background-color: #E2EBFA;\n",
              "      box-shadow: 0px 1px 2px rgba(60, 64, 67, 0.3), 0px 1px 3px 1px rgba(60, 64, 67, 0.15);\n",
              "      fill: #174EA6;\n",
              "    }\n",
              "\n",
              "    [theme=dark] .colab-df-convert {\n",
              "      background-color: #3B4455;\n",
              "      fill: #D2E3FC;\n",
              "    }\n",
              "\n",
              "    [theme=dark] .colab-df-convert:hover {\n",
              "      background-color: #434B5C;\n",
              "      box-shadow: 0px 1px 3px 1px rgba(0, 0, 0, 0.15);\n",
              "      filter: drop-shadow(0px 1px 2px rgba(0, 0, 0, 0.3));\n",
              "      fill: #FFFFFF;\n",
              "    }\n",
              "  </style>\n",
              "\n",
              "      <script>\n",
              "        const buttonEl =\n",
              "          document.querySelector('#df-c0af47c9-6b11-4939-aa22-f97eb33d5442 button.colab-df-convert');\n",
              "        buttonEl.style.display =\n",
              "          google.colab.kernel.accessAllowed ? 'block' : 'none';\n",
              "\n",
              "        async function convertToInteractive(key) {\n",
              "          const element = document.querySelector('#df-c0af47c9-6b11-4939-aa22-f97eb33d5442');\n",
              "          const dataTable =\n",
              "            await google.colab.kernel.invokeFunction('convertToInteractive',\n",
              "                                                     [key], {});\n",
              "          if (!dataTable) return;\n",
              "\n",
              "          const docLinkHtml = 'Like what you see? Visit the ' +\n",
              "            '<a target=\"_blank\" href=https://colab.research.google.com/notebooks/data_table.ipynb>data table notebook</a>'\n",
              "            + ' to learn more about interactive tables.';\n",
              "          element.innerHTML = '';\n",
              "          dataTable['output_type'] = 'display_data';\n",
              "          await google.colab.output.renderOutput(dataTable, element);\n",
              "          const docLink = document.createElement('div');\n",
              "          docLink.innerHTML = docLinkHtml;\n",
              "          element.appendChild(docLink);\n",
              "        }\n",
              "      </script>\n",
              "    </div>\n",
              "  </div>\n",
              "  "
            ]
          },
          "metadata": {},
          "execution_count": 37
        }
      ]
    },
    {
      "cell_type": "markdown",
      "source": [
        "PCA"
      ],
      "metadata": {
        "id": "wMT0lbwO7wDc"
      }
    },
    {
      "cell_type": "code",
      "source": [
        "X.shape"
      ],
      "metadata": {
        "colab": {
          "base_uri": "https://localhost:8080/"
        },
        "id": "ne9tF7nl62Fv",
        "outputId": "0f58b79c-2731-47f7-b781-565ac73828a1"
      },
      "execution_count": 38,
      "outputs": [
        {
          "output_type": "execute_result",
          "data": {
            "text/plain": [
              "(65535, 26)"
            ]
          },
          "metadata": {},
          "execution_count": 38
        }
      ]
    },
    {
      "cell_type": "code",
      "source": [
        "from sklearn.decomposition import PCA\n",
        "\n",
        "pca=PCA(0.95)\n",
        "\n",
        "X_pca=pca.fit_transform(X)\n",
        "\n",
        "X_pca.shape"
      ],
      "metadata": {
        "colab": {
          "base_uri": "https://localhost:8080/"
        },
        "id": "EIeAoNeq7nY8",
        "outputId": "dd0ff144-925c-4e80-ed1d-47f7c66611c9"
      },
      "execution_count": 39,
      "outputs": [
        {
          "output_type": "execute_result",
          "data": {
            "text/plain": [
              "(65535, 2)"
            ]
          },
          "metadata": {},
          "execution_count": 39
        }
      ]
    },
    {
      "cell_type": "code",
      "source": [
        "pca.explained_variance_ratio_"
      ],
      "metadata": {
        "colab": {
          "base_uri": "https://localhost:8080/"
        },
        "id": "vSRv4nrh79RW",
        "outputId": "1d7ddce3-bd78-4536-e645-0f366c97277d"
      },
      "execution_count": 40,
      "outputs": [
        {
          "output_type": "execute_result",
          "data": {
            "text/plain": [
              "array([0.94407025, 0.03792341])"
            ]
          },
          "metadata": {},
          "execution_count": 40
        }
      ]
    },
    {
      "cell_type": "code",
      "source": [
        "pca.n_components_"
      ],
      "metadata": {
        "colab": {
          "base_uri": "https://localhost:8080/"
        },
        "id": "FPjazUBm8DUW",
        "outputId": "0873977e-13b4-46bd-f211-a1c173fec532"
      },
      "execution_count": 41,
      "outputs": [
        {
          "output_type": "execute_result",
          "data": {
            "text/plain": [
              "2"
            ]
          },
          "metadata": {},
          "execution_count": 41
        }
      ]
    },
    {
      "cell_type": "code",
      "source": [
        "X_train_pca, X_test_pca, y_train, y_test = train_test_split(X, y, test_size=0.2, random_state=30)"
      ],
      "metadata": {
        "id": "6dm2vTft8T2N"
      },
      "execution_count": 42,
      "outputs": []
    },
    {
      "cell_type": "code",
      "source": [
        "logreg = LogisticRegression(max_iter=1000)\n",
        "\n",
        "logreg.fit(X_train_pca, y_train)\n",
        "\n",
        "logreg.score(X_test_pca, y_test)"
      ],
      "metadata": {
        "colab": {
          "base_uri": "https://localhost:8080/"
        },
        "id": "5dS3wqsz8f9y",
        "outputId": "807b6f94-a798-4429-8b37-41d8666aae74"
      },
      "execution_count": 43,
      "outputs": [
        {
          "output_type": "execute_result",
          "data": {
            "text/plain": [
              "0.9518577859159227"
            ]
          },
          "metadata": {},
          "execution_count": 43
        }
      ]
    },
    {
      "cell_type": "code",
      "source": [
        "pca=PCA(n_components=2)\n",
        "X_pca=pca.fit_transform(X)\n",
        "X_pca.shape"
      ],
      "metadata": {
        "colab": {
          "base_uri": "https://localhost:8080/"
        },
        "id": "HGU6vzHa8neZ",
        "outputId": "cafdd49a-cd0b-48ab-9a44-322279deb0c5"
      },
      "execution_count": 44,
      "outputs": [
        {
          "output_type": "execute_result",
          "data": {
            "text/plain": [
              "(65535, 2)"
            ]
          },
          "metadata": {},
          "execution_count": 44
        }
      ]
    },
    {
      "cell_type": "code",
      "source": [
        "X_pca"
      ],
      "metadata": {
        "colab": {
          "base_uri": "https://localhost:8080/"
        },
        "id": "wFr-Sv8O9HlB",
        "outputId": "7f9ee524-cb7c-4225-e8cc-40bcc9178761"
      },
      "execution_count": 45,
      "outputs": [
        {
          "output_type": "execute_result",
          "data": {
            "text/plain": [
              "array([[-66779.44696194,   1792.28533927],\n",
              "       [-58782.44840532,   1787.56842589],\n",
              "       [-58578.4430487 ,   1787.39531583],\n",
              "       ...,\n",
              "       [-34109.55713814,   3520.48702344],\n",
              "       [-19966.56419263,   3512.18816974],\n",
              "       [ -8759.57365418,   3505.64997835]])"
            ]
          },
          "metadata": {},
          "execution_count": 45
        }
      ]
    },
    {
      "cell_type": "code",
      "source": [
        "pca.explained_variance_ratio_"
      ],
      "metadata": {
        "colab": {
          "base_uri": "https://localhost:8080/"
        },
        "id": "p2ReBiED9Nd1",
        "outputId": "4e52b3e5-89fa-4efd-a904-4d02317bc042"
      },
      "execution_count": 46,
      "outputs": [
        {
          "output_type": "execute_result",
          "data": {
            "text/plain": [
              "array([0.94407025, 0.03792341])"
            ]
          },
          "metadata": {},
          "execution_count": 46
        }
      ]
    },
    {
      "cell_type": "code",
      "source": [
        "X_train_pca, X_test_pca, y_train, y_test = train_test_split(X, y, test_size=0.2, random_state=30)\n",
        "\n",
        "logreg = LogisticRegression(max_iter=1000)\n",
        "\n",
        "logreg.fit(X_train_pca, y_train)\n",
        "\n",
        "logreg.score(X_test_pca, y_test)\n",
        "\n"
      ],
      "metadata": {
        "colab": {
          "base_uri": "https://localhost:8080/"
        },
        "id": "vWctwQ-H9TaM",
        "outputId": "b919a7e1-06da-45ce-9e31-ce7137bffa83"
      },
      "execution_count": 47,
      "outputs": [
        {
          "output_type": "execute_result",
          "data": {
            "text/plain": [
              "0.9518577859159227"
            ]
          },
          "metadata": {},
          "execution_count": 47
        }
      ]
    },
    {
      "cell_type": "markdown",
      "source": [
        "KNN"
      ],
      "metadata": {
        "id": "nGI6rsRB-w8Z"
      }
    },
    {
      "cell_type": "code",
      "source": [
        "from sklearn.neighbors import KNeighborsClassifier\n",
        "\n",
        "knn = KNeighborsClassifier(n_neighbors=3)\n",
        "\n",
        "knn.fit(X_train_scaled, y_train)\n",
        "\n",
        "Y_pred = knn.predict(X_test)\n"
      ],
      "metadata": {
        "colab": {
          "base_uri": "https://localhost:8080/"
        },
        "id": "m0wdPu-09lmX",
        "outputId": "8e52b1e7-09f1-4aa9-a9d4-2ffc60230bb5"
      },
      "execution_count": 48,
      "outputs": [
        {
          "output_type": "stream",
          "name": "stderr",
          "text": [
            "/usr/local/lib/python3.7/dist-packages/sklearn/base.py:444: UserWarning: X has feature names, but KNeighborsClassifier was fitted without feature names\n",
            "  f\"X has feature names, but {self.__class__.__name__} was fitted without\"\n"
          ]
        }
      ]
    },
    {
      "cell_type": "code",
      "source": [
        "from sklearn.metrics import accuracy_score\n",
        "\n",
        "accuracy_score(y_test, Y_pred)"
      ],
      "metadata": {
        "colab": {
          "base_uri": "https://localhost:8080/"
        },
        "id": "b-zmFozY9_hG",
        "outputId": "3480ed77-cdfc-4b1b-c641-21dab9bcb968"
      },
      "execution_count": 49,
      "outputs": [
        {
          "output_type": "execute_result",
          "data": {
            "text/plain": [
              "0.9517814908064393"
            ]
          },
          "metadata": {},
          "execution_count": 49
        }
      ]
    },
    {
      "cell_type": "code",
      "source": [
        "from sklearn.metrics import confusion_matrix\n",
        "\n",
        "conf_mtx_nb = confusion_matrix(y_test, Y_pred)\n",
        "\n",
        "conf_mtx_nb"
      ],
      "metadata": {
        "colab": {
          "base_uri": "https://localhost:8080/"
        },
        "id": "xxLa7xGu-I3T",
        "outputId": "dc46a259-ad73-4eca-89a8-dec245e0f4f1"
      },
      "execution_count": 50,
      "outputs": [
        {
          "output_type": "execute_result",
          "data": {
            "text/plain": [
              "array([[12475,     1],\n",
              "       [  631,     0]])"
            ]
          },
          "metadata": {},
          "execution_count": 50
        }
      ]
    },
    {
      "cell_type": "code",
      "source": [
        "from sklearn.model_selection import cross_val_score\n",
        "\n",
        "np.mean(cross_val_score(KNeighborsClassifier(),X,y,cv=10,scoring=\"accuracy\"))"
      ],
      "metadata": {
        "colab": {
          "base_uri": "https://localhost:8080/"
        },
        "id": "Q8znvuDP-NiC",
        "outputId": "e7f3edc3-b2d1-424a-95e3-d9d1a73732fa"
      },
      "execution_count": 51,
      "outputs": [
        {
          "output_type": "execute_result",
          "data": {
            "text/plain": [
              "0.9540398397498837"
            ]
          },
          "metadata": {},
          "execution_count": 51
        }
      ]
    },
    {
      "cell_type": "code",
      "source": [
        "from sklearn.metrics import classification_report\n",
        "\n",
        "print(classification_report(y_test, Y_pred)) "
      ],
      "metadata": {
        "colab": {
          "base_uri": "https://localhost:8080/"
        },
        "id": "ZhbE9zG8_AiJ",
        "outputId": "7b718a76-6743-4f2f-a8c0-a8b8a91a51e8"
      },
      "execution_count": 52,
      "outputs": [
        {
          "output_type": "stream",
          "name": "stdout",
          "text": [
            "              precision    recall  f1-score   support\n",
            "\n",
            "           0       0.95      1.00      0.98     12476\n",
            "           1       0.00      0.00      0.00       631\n",
            "\n",
            "    accuracy                           0.95     13107\n",
            "   macro avg       0.48      0.50      0.49     13107\n",
            "weighted avg       0.91      0.95      0.93     13107\n",
            "\n"
          ]
        }
      ]
    },
    {
      "cell_type": "code",
      "source": [
        "from sklearn.metrics import roc_curve\n",
        "fpr, tpr, thresholds = roc_curve(y_test,Y_pred)\n",
        "# create plot\n",
        "plt.plot(fpr, tpr, label='ROC curve')\n",
        "plt.plot([0, 1], [0, 1], 'k--', label='Random guess')\n",
        "_ = plt.xlabel('False Positive rate')\n",
        "_ = plt.ylabel('True Positive rate')\n",
        "_ = plt.title('ROC Curve')\n",
        "_ = plt.xlim([-0.02, 1])\n",
        "_ = plt.ylim([0, 1.02])\n",
        "_ = plt.legend(loc=\"lower right\")"
      ],
      "metadata": {
        "colab": {
          "base_uri": "https://localhost:8080/",
          "height": 295
        },
        "id": "xFnDbuKJ_DwC",
        "outputId": "5f18c4fb-64f2-439a-cf0e-a6f03e37449e"
      },
      "execution_count": 53,
      "outputs": [
        {
          "output_type": "display_data",
          "data": {
            "text/plain": [
              "<Figure size 432x288 with 1 Axes>"
            ],
            "image/png": "[encoded data removed]"
          },
          "metadata": {
            "needs_background": "light"
          }
        }
      ]
    },
    {
      "cell_type": "markdown",
      "source": [
        "SVM"
      ],
      "metadata": {
        "id": "Yx98Bmdq-3dA"
      }
    },
    {
      "cell_type": "code",
      "source": [
        "from sklearn.svm import SVC\n",
        "\n",
        "svc = SVC()\n",
        "\n",
        "svc.fit(X_train, y_train)\n",
        "\n",
        "Y_pred = svc.predict(X_test)\n"
      ],
      "metadata": {
        "id": "-SNc31md-61-"
      },
      "execution_count": 54,
      "outputs": []
    },
    {
      "cell_type": "code",
      "source": [
        "from sklearn.metrics import accuracy_score\n",
        "\n",
        "\n",
        "accuracy_score(y_test, Y_pred)"
      ],
      "metadata": {
        "id": "qlVm657S_ld7",
        "colab": {
          "base_uri": "https://localhost:8080/"
        },
        "outputId": "57b633d0-dfda-4d53-8bee-58f56b98bfe0"
      },
      "execution_count": 55,
      "outputs": [
        {
          "output_type": "execute_result",
          "data": {
            "text/plain": [
              "0.9518577859159227"
            ]
          },
          "metadata": {},
          "execution_count": 55
        }
      ]
    },
    {
      "cell_type": "code",
      "source": [
        "from sklearn.metrics import confusion_matrix\n",
        "\n",
        "conf_mtx_nb =confusion_matrix(y_test, Y_pred)\n",
        "\n",
        "conf_mtx_nb\n"
      ],
      "metadata": {
        "id": "lND3_4RB_p05",
        "colab": {
          "base_uri": "https://localhost:8080/"
        },
        "outputId": "5258c94f-1baf-4a6e-9fef-6ae7d969c212"
      },
      "execution_count": 56,
      "outputs": [
        {
          "output_type": "execute_result",
          "data": {
            "text/plain": [
              "array([[12476,     0],\n",
              "       [  631,     0]])"
            ]
          },
          "metadata": {},
          "execution_count": 56
        }
      ]
    },
    {
      "cell_type": "code",
      "source": [
        "from sklearn.metrics import classification_report\n",
        "\n",
        "print(classification_report(y_test, Y_pred)) "
      ],
      "metadata": {
        "id": "d3onDak0_uHF",
        "colab": {
          "base_uri": "https://localhost:8080/"
        },
        "outputId": "96241716-36ad-46dc-f32f-92f7de5ed855"
      },
      "execution_count": 57,
      "outputs": [
        {
          "output_type": "stream",
          "name": "stdout",
          "text": [
            "              precision    recall  f1-score   support\n",
            "\n",
            "           0       0.95      1.00      0.98     12476\n",
            "           1       0.00      0.00      0.00       631\n",
            "\n",
            "    accuracy                           0.95     13107\n",
            "   macro avg       0.48      0.50      0.49     13107\n",
            "weighted avg       0.91      0.95      0.93     13107\n",
            "\n"
          ]
        },
        {
          "output_type": "stream",
          "name": "stderr",
          "text": [
            "/usr/local/lib/python3.7/dist-packages/sklearn/metrics/_classification.py:1318: UndefinedMetricWarning: Precision and F-score are ill-defined and being set to 0.0 in labels with no predicted samples. Use `zero_division` parameter to control this behavior.\n",
            "  _warn_prf(average, modifier, msg_start, len(result))\n",
            "/usr/local/lib/python3.7/dist-packages/sklearn/metrics/_classification.py:1318: UndefinedMetricWarning: Precision and F-score are ill-defined and being set to 0.0 in labels with no predicted samples. Use `zero_division` parameter to control this behavior.\n",
            "  _warn_prf(average, modifier, msg_start, len(result))\n",
            "/usr/local/lib/python3.7/dist-packages/sklearn/metrics/_classification.py:1318: UndefinedMetricWarning: Precision and F-score are ill-defined and being set to 0.0 in labels with no predicted samples. Use `zero_division` parameter to control this behavior.\n",
            "  _warn_prf(average, modifier, msg_start, len(result))\n"
          ]
        }
      ]
    },
    {
      "cell_type": "code",
      "source": [
        "from sklearn.metrics import roc_curve\n",
        "fpr, tpr, thresholds = roc_curve(y_test,Y_pred)\n",
        "# create plot\n",
        "plt.plot(fpr, tpr, label='ROC curve')\n",
        "plt.plot([0, 1], [0, 1], 'k--', label='Random guess')\n",
        "_ = plt.xlabel('False Positive rate')\n",
        "_ = plt.ylabel('True Positive rate')\n",
        "_ = plt.title('ROC Curve')\n",
        "_ = plt.xlim([-0.02, 1])\n",
        "_ = plt.ylim([0, 1.02])\n",
        "_ = plt.legend(loc=\"lower right\")"
      ],
      "metadata": {
        "id": "AA4xVzSv_2bt",
        "colab": {
          "base_uri": "https://localhost:8080/",
          "height": 295
        },
        "outputId": "83d029c8-74fc-426d-be1b-dbb2f6c924cf"
      },
      "execution_count": 58,
      "outputs": [
        {
          "output_type": "display_data",
          "data": {
            "text/plain": [
              "<Figure size 432x288 with 1 Axes>"
            ],
            "image/png": "[encoded data removed]"
          },
          "metadata": {
            "needs_background": "light"
          }
        }
      ]
    },
    {
      "cell_type": "markdown",
      "source": [
        "DecisionTreeClassifier"
      ],
      "metadata": {
        "id": "Di3jkvF_Ddjq"
      }
    },
    {
      "cell_type": "code",
      "source": [
        "from sklearn.tree import DecisionTreeClassifier\n",
        "\n",
        "decision_tree = DecisionTreeClassifier()\n",
        "\n",
        "decision_tree.fit(X_train_scaled, y_train)\n",
        "\n",
        "Y_pred = decision_tree.predict(X_test)\n"
      ],
      "metadata": {
        "colab": {
          "base_uri": "https://localhost:8080/"
        },
        "id": "YJy0ax3JyXzP",
        "outputId": "99695c1b-9051-4b07-cf3c-05bb66808be6"
      },
      "execution_count": 59,
      "outputs": [
        {
          "output_type": "stream",
          "name": "stderr",
          "text": [
            "/usr/local/lib/python3.7/dist-packages/sklearn/base.py:444: UserWarning: X has feature names, but DecisionTreeClassifier was fitted without feature names\n",
            "  f\"X has feature names, but {self.__class__.__name__} was fitted without\"\n"
          ]
        }
      ]
    },
    {
      "cell_type": "code",
      "source": [
        "from sklearn.metrics import accuracy_score\n",
        "\n",
        "\n",
        "accuracy_score(y_test, Y_pred)"
      ],
      "metadata": {
        "colab": {
          "base_uri": "https://localhost:8080/"
        },
        "id": "4wuqI47B1tIx",
        "outputId": "fe6ce683-261d-4eb3-8076-9cdbd14f618e"
      },
      "execution_count": 60,
      "outputs": [
        {
          "output_type": "execute_result",
          "data": {
            "text/plain": [
              "0.11848630502784771"
            ]
          },
          "metadata": {},
          "execution_count": 60
        }
      ]
    },
    {
      "cell_type": "code",
      "source": [
        "from sklearn.metrics import confusion_matrix\n",
        "\n",
        "conf_mtx_nb = confusion_matrix(y_test, Y_pred)\n",
        "\n",
        "conf_mtx_nb\n"
      ],
      "metadata": {
        "colab": {
          "base_uri": "https://localhost:8080/"
        },
        "id": "gT6xVf2f11os",
        "outputId": "3291100e-9f32-4e13-c8eb-48d99ec491d3"
      },
      "execution_count": 61,
      "outputs": [
        {
          "output_type": "execute_result",
          "data": {
            "text/plain": [
              "array([[  968, 11508],\n",
              "       [   46,   585]])"
            ]
          },
          "metadata": {},
          "execution_count": 61
        }
      ]
    },
    {
      "cell_type": "code",
      "source": [
        "from sklearn.metrics import classification_report\n",
        "\n",
        "print(classification_report(y_test, Y_pred))"
      ],
      "metadata": {
        "colab": {
          "base_uri": "https://localhost:8080/"
        },
        "id": "pCjbSZcu16VV",
        "outputId": "0b1a5846-ea5a-4559-d993-89b33f45bd11"
      },
      "execution_count": 62,
      "outputs": [
        {
          "output_type": "stream",
          "name": "stdout",
          "text": [
            "              precision    recall  f1-score   support\n",
            "\n",
            "           0       0.95      0.08      0.14     12476\n",
            "           1       0.05      0.93      0.09       631\n",
            "\n",
            "    accuracy                           0.12     13107\n",
            "   macro avg       0.50      0.50      0.12     13107\n",
            "weighted avg       0.91      0.12      0.14     13107\n",
            "\n"
          ]
        }
      ]
    },
    {
      "cell_type": "code",
      "source": [
        "from sklearn.metrics import roc_curve\n",
        "fpr, tpr, thresholds = roc_curve(y_test,Y_pred)\n",
        "# create plot\n",
        "plt.plot(fpr, tpr, label='ROC curve')\n",
        "plt.plot([0, 1], [0, 1], 'k--', label='Random guess')\n",
        "_ = plt.xlabel('False Positive rate')\n",
        "_ = plt.ylabel('True Positive rate')\n",
        "_ = plt.title('ROC Curve')\n",
        "_ = plt.xlim([-0.02, 1])\n",
        "_ = plt.ylim([0, 1.02])\n",
        "_ = plt.legend(loc=\"lower right\")"
      ],
      "metadata": {
        "colab": {
          "base_uri": "https://localhost:8080/",
          "height": 295
        },
        "id": "-Ead5EFz1_fO",
        "outputId": "3c75ae45-50a4-4795-d2f1-598f96fa62fa"
      },
      "execution_count": 63,
      "outputs": [
        {
          "output_type": "display_data",
          "data": {
            "text/plain": [
              "<Figure size 432x288 with 1 Axes>"
            ],
            "image/png": "[encoded data removed]"
          },
          "metadata": {
            "needs_background": "light"
          }
        }
      ]
    },
    {
      "cell_type": "code",
      "source": [
        "from sklearn.model_selection import cross_val_score\n",
        "\n",
        "np.mean(cross_val_score(DecisionTreeClassifier(),X,y,cv=10,scoring=\"accuracy\"))"
      ],
      "metadata": {
        "colab": {
          "base_uri": "https://localhost:8080/"
        },
        "id": "pSkC2x5u2R93",
        "outputId": "a055df7b-ede9-4cb3-8738-3ff244e37054"
      },
      "execution_count": 64,
      "outputs": [
        {
          "output_type": "execute_result",
          "data": {
            "text/plain": [
              "0.9533837774767754"
            ]
          },
          "metadata": {},
          "execution_count": 64
        }
      ]
    },
    {
      "cell_type": "markdown",
      "source": [
        "Random Forest"
      ],
      "metadata": {
        "id": "sdHWfGIG31Cp"
      }
    },
    {
      "cell_type": "code",
      "source": [
        "from sklearn.ensemble import RandomForestClassifier\n",
        "\n",
        "classifier= RandomForestClassifier()\n",
        "\n",
        "classifier.fit(X_train, y_train)\n",
        "\n",
        "Y_pred = classifier.predict(X_test)\n"
      ],
      "metadata": {
        "id": "9GDATJyh2eaB"
      },
      "execution_count": 65,
      "outputs": []
    },
    {
      "cell_type": "code",
      "source": [
        "from sklearn.metrics import accuracy_score\n",
        "\n",
        "\n",
        "accuracy_score(y_test, Y_pred)"
      ],
      "metadata": {
        "colab": {
          "base_uri": "https://localhost:8080/"
        },
        "id": "Ui1L7LDL2pQW",
        "outputId": "60e49e0c-e237-47b9-d03c-ad876569ff34"
      },
      "execution_count": 66,
      "outputs": [
        {
          "output_type": "execute_result",
          "data": {
            "text/plain": [
              "0.9517814908064393"
            ]
          },
          "metadata": {},
          "execution_count": 66
        }
      ]
    },
    {
      "cell_type": "code",
      "source": [
        "from sklearn.metrics import confusion_matrix\n",
        "\n",
        "conf_mtx_nb = confusion_matrix(y_test, Y_pred)\n",
        "\n",
        "conf_mtx_nb"
      ],
      "metadata": {
        "colab": {
          "base_uri": "https://localhost:8080/"
        },
        "id": "v0pAmQ7c2sU4",
        "outputId": "ec4d575b-7128-46ea-d211-b3c20f8d3b2a"
      },
      "execution_count": 67,
      "outputs": [
        {
          "output_type": "execute_result",
          "data": {
            "text/plain": [
              "array([[12475,     1],\n",
              "       [  631,     0]])"
            ]
          },
          "metadata": {},
          "execution_count": 67
        }
      ]
    },
    {
      "cell_type": "code",
      "source": [
        "from sklearn.metrics import classification_report\n",
        "\n",
        "print(classification_report(y_test, Y_pred))"
      ],
      "metadata": {
        "colab": {
          "base_uri": "https://localhost:8080/"
        },
        "id": "Bo07JJqp20YM",
        "outputId": "879bced5-f14f-4507-f66d-b2edbb63cd00"
      },
      "execution_count": 68,
      "outputs": [
        {
          "output_type": "stream",
          "name": "stdout",
          "text": [
            "              precision    recall  f1-score   support\n",
            "\n",
            "           0       0.95      1.00      0.98     12476\n",
            "           1       0.00      0.00      0.00       631\n",
            "\n",
            "    accuracy                           0.95     13107\n",
            "   macro avg       0.48      0.50      0.49     13107\n",
            "weighted avg       0.91      0.95      0.93     13107\n",
            "\n"
          ]
        }
      ]
    },
    {
      "cell_type": "code",
      "source": [
        "from sklearn.model_selection import cross_val_score\n",
        "\n",
        "np.mean(cross_val_score(RandomForestClassifier(),X,y,cv=10,scoring=\"accuracy\"))"
      ],
      "metadata": {
        "colab": {
          "base_uri": "https://localhost:8080/"
        },
        "id": "t93W-jyL29Iw",
        "outputId": "df006e97-70aa-4e17-b434-a260da0f2503"
      },
      "execution_count": 69,
      "outputs": [
        {
          "output_type": "execute_result",
          "data": {
            "text/plain": [
              "0.9822690117960728"
            ]
          },
          "metadata": {},
          "execution_count": 69
        }
      ]
    },
    {
      "cell_type": "markdown",
      "source": [
        "Bagging Classifier"
      ],
      "metadata": {
        "id": "0SrW3lFU3u1u"
      }
    },
    {
      "cell_type": "code",
      "source": [
        "from sklearn.ensemble import BaggingClassifier\n",
        "\n",
        "model = BaggingClassifier(n_estimators=100,random_state=0)\n",
        "\n",
        "model.fit(X_train, y_train)\n",
        "\n",
        "Y_pred = model.predict(X_test)\n"
      ],
      "metadata": {
        "id": "JAdnxKGM3ggb"
      },
      "execution_count": 70,
      "outputs": []
    },
    {
      "cell_type": "code",
      "source": [
        "from sklearn.metrics import accuracy_score\n",
        "\n",
        "\n",
        "accuracy_score(y_test, Y_pred)"
      ],
      "metadata": {
        "colab": {
          "base_uri": "https://localhost:8080/"
        },
        "id": "2DuHO4lP5V6-",
        "outputId": "54736487-7e23-42d5-ab3b-4b1fd9e17d84"
      },
      "execution_count": 71,
      "outputs": [
        {
          "output_type": "execute_result",
          "data": {
            "text/plain": [
              "0.9516289005874723"
            ]
          },
          "metadata": {},
          "execution_count": 71
        }
      ]
    },
    {
      "cell_type": "code",
      "source": [
        "from sklearn.metrics import confusion_matrix\n",
        "\n",
        "conf_mtx_nb = confusion_matrix(y_test, Y_pred)\n",
        "\n",
        "conf_mtx_nb"
      ],
      "metadata": {
        "colab": {
          "base_uri": "https://localhost:8080/"
        },
        "id": "QpQIIySF5c3W",
        "outputId": "f964b0de-dfa8-492e-f77f-b42bb99e8763"
      },
      "execution_count": 72,
      "outputs": [
        {
          "output_type": "execute_result",
          "data": {
            "text/plain": [
              "array([[12473,     3],\n",
              "       [  631,     0]])"
            ]
          },
          "metadata": {},
          "execution_count": 72
        }
      ]
    },
    {
      "cell_type": "code",
      "source": [
        "from sklearn.metrics import classification_report\n",
        "\n",
        "print(classification_report(y_test, Y_pred))"
      ],
      "metadata": {
        "colab": {
          "base_uri": "https://localhost:8080/"
        },
        "id": "gg2PnoCK5hPG",
        "outputId": "16f61113-e89d-4bcd-86cf-f17aa16135f7"
      },
      "execution_count": 73,
      "outputs": [
        {
          "output_type": "stream",
          "name": "stdout",
          "text": [
            "              precision    recall  f1-score   support\n",
            "\n",
            "           0       0.95      1.00      0.98     12476\n",
            "           1       0.00      0.00      0.00       631\n",
            "\n",
            "    accuracy                           0.95     13107\n",
            "   macro avg       0.48      0.50      0.49     13107\n",
            "weighted avg       0.91      0.95      0.93     13107\n",
            "\n"
          ]
        }
      ]
    },
    {
      "cell_type": "code",
      "source": [
        "from sklearn.model_selection import cross_val_score\n",
        "\n",
        "np.mean(cross_val_score(BaggingClassifier(),X,y,cv=10,scoring=\"accuracy\"))"
      ],
      "metadata": {
        "colab": {
          "base_uri": "https://localhost:8080/"
        },
        "id": "Evkr5G9v5kib",
        "outputId": "3a8f938f-5600-4cd7-8eb1-1a3273f27f50"
      },
      "execution_count": 74,
      "outputs": [
        {
          "output_type": "execute_result",
          "data": {
            "text/plain": [
              "0.9797969990101135"
            ]
          },
          "metadata": {},
          "execution_count": 74
        }
      ]
    },
    {
      "cell_type": "code",
      "source": [
        "classifier = RandomForestClassifier()"
      ],
      "metadata": {
        "id": "5nGU_iqJ6Jdy"
      },
      "execution_count": 75,
      "outputs": []
    },
    {
      "cell_type": "code",
      "source": [
        "from sklearn.model_selection import GridSearchCV\n",
        "\n",
        "rf_grid=GridSearchCV(estimator=classifier,param_grid={'max_depth': [2, 4, 8, 15],'max_features': ['auto', 'sqrt']},\n",
        "                    cv=5,verbose=2,n_jobs=-1)"
      ],
      "metadata": {
        "id": "NUklL8r_6Teb"
      },
      "execution_count": 76,
      "outputs": []
    },
    {
      "cell_type": "code",
      "source": [
        "rf_grid.fit(X_train, y_train)"
      ],
      "metadata": {
        "colab": {
          "base_uri": "https://localhost:8080/"
        },
        "id": "Z9HdIS436XRo",
        "outputId": "12a882ea-d309-4eac-eb4f-505edfbb0814"
      },
      "execution_count": 77,
      "outputs": [
        {
          "output_type": "stream",
          "name": "stdout",
          "text": [
            "Fitting 5 folds for each of 8 candidates, totalling 40 fits\n"
          ]
        },
        {
          "output_type": "execute_result",
          "data": {
            "text/plain": [
              "GridSearchCV(cv=5, estimator=RandomForestClassifier(), n_jobs=-1,\n",
              "             param_grid={'max_depth': [2, 4, 8, 15],\n",
              "                         'max_features': ['auto', 'sqrt']},\n",
              "             verbose=2)"
            ]
          },
          "metadata": {},
          "execution_count": 77
        }
      ]
    },
    {
      "cell_type": "code",
      "source": [
        "rf_grid.best_params_"
      ],
      "metadata": {
        "colab": {
          "base_uri": "https://localhost:8080/"
        },
        "id": "qznlrybK7IbU",
        "outputId": "447cfaf8-c417-4e55-df03-954541b7c394"
      },
      "execution_count": 78,
      "outputs": [
        {
          "output_type": "execute_result",
          "data": {
            "text/plain": [
              "{'max_depth': 2, 'max_features': 'auto'}"
            ]
          },
          "metadata": {},
          "execution_count": 78
        }
      ]
    },
    {
      "cell_type": "code",
      "source": [
        "rf_grid.best_score_"
      ],
      "metadata": {
        "colab": {
          "base_uri": "https://localhost:8080/"
        },
        "id": "XLqUumJU7Och",
        "outputId": "2a7efd0f-b050-441b-83fb-8884e0c749c2"
      },
      "execution_count": 79,
      "outputs": [
        {
          "output_type": "execute_result",
          "data": {
            "text/plain": [
              "0.9555199525292984"
            ]
          },
          "metadata": {},
          "execution_count": 79
        }
      ]
    }
  ]
}